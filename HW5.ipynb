{
  "nbformat": 4,
  "nbformat_minor": 0,
  "metadata": {
    "colab": {
      "name": "HW5",
      "provenance": [],
      "collapsed_sections": [],
      "authorship_tag": "ABX9TyNILltnSDBnsPUA2+Tp/o5b",
      "include_colab_link": true
    },
    "kernelspec": {
      "display_name": "Python 3",
      "name": "python3"
    },
    "language_info": {
      "name": "python"
    }
  },
  "cells": [
    {
      "cell_type": "markdown",
      "metadata": {
        "id": "view-in-github",
        "colab_type": "text"
      },
      "source": [
        "<a href=\"https://colab.research.google.com/github/YoonieJang/CS484/blob/main/HW5.ipynb\" target=\"_parent\"><img src=\"https://colab.research.google.com/assets/colab-badge.svg\" alt=\"Open In Colab\"/></a>"
      ]
    },
    {
      "cell_type": "code",
      "metadata": {
        "colab": {
          "base_uri": "https://localhost:8080/"
        },
        "id": "8y2O2DlNddwS",
        "outputId": "bc21161b-ed09-4772-b710-2c8a970ef061"
      },
      "source": [
        "import matplotlib.pyplot as plt\n",
        "import numpy as np\n",
        "import pandas as pd\n",
        "from pandas import DataFrame\n",
        "import scipy\n",
        "import graphviz\n",
        "import sklearn.ensemble as ensemble\n",
        "import sklearn.metrics as metrics\n",
        "import sklearn.tree as tree\n",
        "import statsmodels.api as stats\n",
        "\n",
        "from google.colab import files\n",
        "import io"
      ],
      "execution_count": null,
      "outputs": [
        {
          "output_type": "stream",
          "text": [
            "/usr/local/lib/python3.7/dist-packages/statsmodels/tools/_testing.py:19: FutureWarning: pandas.util.testing is deprecated. Use the functions in the public API at pandas.testing instead.\n",
            "  import pandas.util.testing as tm\n"
          ],
          "name": "stderr"
        }
      ]
    },
    {
      "cell_type": "code",
      "metadata": {
        "colab": {
          "resources": {
            "http://localhost:8080/nbextensions/google.colab/files.js": {
              "data": "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",
              "ok": true,
              "headers": [
                [
                  "content-type",
                  "application/javascript"
                ]
              ],
              "status": 200,
              "status_text": ""
            }
          },
          "base_uri": "https://localhost:8080/",
          "height": 72
        },
        "id": "4yh9_6qQlUwO",
        "outputId": "998820aa-03a5-4700-dc5a-057d9f111ce5"
      },
      "source": [
        "uploaded = files.upload()\n",
        "test_data = pd.read_csv(io.BytesIO(uploaded['WineQuality_Test.csv'])).dropna()\n"
      ],
      "execution_count": null,
      "outputs": [
        {
          "output_type": "display_data",
          "data": {
            "text/html": [
              "\n",
              "     <input type=\"file\" id=\"files-30321e36-ecb7-460f-85ba-38aac2415d81\" name=\"files[]\" multiple disabled\n",
              "        style=\"border:none\" />\n",
              "     <output id=\"result-30321e36-ecb7-460f-85ba-38aac2415d81\">\n",
              "      Upload widget is only available when the cell has been executed in the\n",
              "      current browser session. Please rerun this cell to enable.\n",
              "      </output>\n",
              "      <script src=\"/nbextensions/google.colab/files.js\"></script> "
            ],
            "text/plain": [
              "<IPython.core.display.HTML object>"
            ]
          },
          "metadata": {
            "tags": []
          }
        },
        {
          "output_type": "stream",
          "text": [
            "Saving WineQuality_Test.csv to WineQuality_Test.csv\n"
          ],
          "name": "stdout"
        }
      ]
    },
    {
      "cell_type": "code",
      "metadata": {
        "colab": {
          "resources": {
            "http://localhost:8080/nbextensions/google.colab/files.js": {
              "data": "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",
              "ok": true,
              "headers": [
                [
                  "content-type",
                  "application/javascript"
                ]
              ],
              "status": 200,
              "status_text": ""
            }
          },
          "base_uri": "https://localhost:8080/",
          "height": 72
        },
        "id": "-mjqQVnpnrmx",
        "outputId": "e8509167-4faa-43e2-bdb5-dbb99fe8befc"
      },
      "source": [
        "uploaded = files.upload()\n",
        "train_data = pd.read_csv(io.BytesIO(uploaded['WineQuality_Train.csv'])).dropna()"
      ],
      "execution_count": null,
      "outputs": [
        {
          "output_type": "display_data",
          "data": {
            "text/html": [
              "\n",
              "     <input type=\"file\" id=\"files-d73514c9-5c57-40ca-b9c5-979f47d8ade6\" name=\"files[]\" multiple disabled\n",
              "        style=\"border:none\" />\n",
              "     <output id=\"result-d73514c9-5c57-40ca-b9c5-979f47d8ade6\">\n",
              "      Upload widget is only available when the cell has been executed in the\n",
              "      current browser session. Please rerun this cell to enable.\n",
              "      </output>\n",
              "      <script src=\"/nbextensions/google.colab/files.js\"></script> "
            ],
            "text/plain": [
              "<IPython.core.display.HTML object>"
            ]
          },
          "metadata": {
            "tags": []
          }
        },
        {
          "output_type": "stream",
          "text": [
            "Saving WineQuality_Train.csv to WineQuality_Train.csv\n"
          ],
          "name": "stdout"
        }
      ]
    },
    {
      "cell_type": "code",
      "metadata": {
        "id": "xNEt3rk5n5_a"
      },
      "source": [
        "x_test = test_data[['alcohol', 'citric_acid', 'free_sulfur_dioxide', 'residual_sugar', 'sulphates']]\n",
        "y_test = test_data['quality_grp']\n",
        "\n",
        "x_train = train_data[['alcohol', 'citric_acid', 'free_sulfur_dioxide', 'residual_sugar', 'sulphates']]\n",
        "y_train = train_data['quality_grp']\n",
        "nObs = train_data.shape[0]"
      ],
      "execution_count": null,
      "outputs": []
    },
    {
      "cell_type": "markdown",
      "metadata": {
        "id": "jS21hLkQrRy3"
      },
      "source": [
        "## Q1"
      ]
    },
    {
      "cell_type": "code",
      "metadata": {
        "colab": {
          "base_uri": "https://localhost:8080/"
        },
        "id": "c4dFZSwSq4S4",
        "outputId": "9f694dc3-ea34-404d-eafd-ebed3488ebfb"
      },
      "source": [
        "## a)\n",
        "# Suppose no limit on the maximum number of depths\n",
        "accuracy = np.zeros(max_iteration)\n",
        "classTree = tree.DecisionTreeClassifier(criterion='entropy', max_depth=5, random_state=20210415 )\n",
        "treeFit = classTree.fit(x_train, y_train)\n",
        "treePredProb = classTree.predict_proba(x_train)\n",
        "accuracy = classTree.score(x_train, y_train)\n",
        "print('Misclassification rate = ', 1-accuracy)"
      ],
      "execution_count": null,
      "outputs": [
        {
          "output_type": "stream",
          "text": [
            "Accuracy =  0.8158974358974359\n",
            "Misclassification rate =  0.1841025641025641\n"
          ],
          "name": "stdout"
        }
      ]
    },
    {
      "cell_type": "code",
      "metadata": {
        "colab": {
          "base_uri": "https://localhost:8080/"
        },
        "id": "Mm8lUSDcsL4R",
        "outputId": "8027e0fa-e870-4b8e-9612-9a9a74f24f89"
      },
      "source": [
        "##b)\n",
        "max_iteration = 50\n",
        "w_train = np.full(nObs, 1)\n",
        "accuracy = np.zeros(max_iteration)\n",
        "misclassification = np.zeros(max_iteration)\n",
        "ensemblePredProb = np.zeros((nObs, 2))\n",
        "\n",
        "for iter in range(max_iteration):\n",
        "    classTree = tree.DecisionTreeClassifier(criterion='entropy', max_depth=5, random_state=20210415)\n",
        "    treeFit = classTree.fit(x_train, y_train, w_train)\n",
        "    treePredProb = classTree.predict_proba(x_train)\n",
        "    accuracy[iter] = classTree.score(x_train, y_train, w_train)\n",
        "    ensemblePredProb += accuracy[iter] * treePredProb\n",
        "    misclassification[iter]=1-accuracy[iter]\n",
        "\n",
        "    if (abs(accuracy[iter]) >= 0.9999999):\n",
        "        break\n",
        "    \n",
        "    # Update the weights\n",
        "    eventError = np.where(y_train == 1, (1 - treePredProb[:,1]), (0 - treePredProb[:,1]))\n",
        "    predClass = np.where(treePredProb[:,1] >= 0.2, 1, 0)\n",
        "    w_train = np.where(predClass != y_train, 2+np.abs(eventError), np.abs(eventError))\n",
        "\n",
        "miscla_1b= DataFrame (misclassification,columns=['Misclassicification values'])\n",
        "print(miscla_1b)"
      ],
      "execution_count": null,
      "outputs": [
        {
          "output_type": "stream",
          "text": [
            "    Misclassicification values\n",
            "0                 1.673631e-01\n",
            "1                 1.537026e-01\n",
            "2                 2.295574e-02\n",
            "3                 2.366182e-02\n",
            "4                 4.463217e-03\n",
            "5                 7.267020e-03\n",
            "6                 1.063419e-03\n",
            "7                 6.867029e-03\n",
            "8                 1.030248e-03\n",
            "9                 4.114333e-04\n",
            "10                6.200328e-05\n",
            "11                8.556811e-04\n",
            "12                1.150663e-04\n",
            "13                9.365216e-05\n",
            "14                8.080301e-06\n",
            "15                8.040502e-07\n",
            "16                1.112424e-07\n",
            "17                8.747365e-08\n",
            "18                0.000000e+00\n",
            "19                0.000000e+00\n",
            "20                0.000000e+00\n",
            "21                0.000000e+00\n",
            "22                0.000000e+00\n",
            "23                0.000000e+00\n",
            "24                0.000000e+00\n",
            "25                0.000000e+00\n",
            "26                0.000000e+00\n",
            "27                0.000000e+00\n",
            "28                0.000000e+00\n",
            "29                0.000000e+00\n",
            "30                0.000000e+00\n",
            "31                0.000000e+00\n",
            "32                0.000000e+00\n",
            "33                0.000000e+00\n",
            "34                0.000000e+00\n",
            "35                0.000000e+00\n",
            "36                0.000000e+00\n",
            "37                0.000000e+00\n",
            "38                0.000000e+00\n",
            "39                0.000000e+00\n",
            "40                0.000000e+00\n",
            "41                0.000000e+00\n",
            "42                0.000000e+00\n",
            "43                0.000000e+00\n",
            "44                0.000000e+00\n",
            "45                0.000000e+00\n",
            "46                0.000000e+00\n",
            "47                0.000000e+00\n",
            "48                0.000000e+00\n",
            "49                0.000000e+00\n"
          ],
          "name": "stdout"
        }
      ]
    },
    {
      "cell_type": "code",
      "metadata": {
        "colab": {
          "base_uri": "https://localhost:8080/"
        },
        "id": "kN6FjdeMX5tj",
        "outputId": "2103d9cd-0e2d-4e54-d9af-0d7fa46d6f92"
      },
      "source": [
        "## d) Area Under Curve metric on the Testing data using the final converged classification tree\n",
        "treePredProb=treeFit.predict_proba(x_test)\n",
        "AUC_1d=metrics.roc_auc_score(y_test,treePredProb[:,1])\n",
        "print('AUC=',AUC_1d)"
      ],
      "execution_count": null,
      "outputs": [
        {
          "output_type": "stream",
          "text": [
            "AUC= 0.31352557985145846\n"
          ],
          "name": "stdout"
        }
      ]
    },
    {
      "cell_type": "code",
      "metadata": {
        "colab": {
          "base_uri": "https://localhost:8080/"
        },
        "id": "K1EJgUYgwgPJ",
        "outputId": "e9086d8e-f1f8-4157-d101-7522b3f90582"
      },
      "source": [
        "## c)\n",
        "max_iteration = 50\n",
        "w_train = np.full(nObs, 1.0)\n",
        "accuracy = np.zeros(max_iteration)\n",
        "ensemblePredProb = np.zeros((nObs, 2))\n",
        "\n",
        "for iter in range(max_iteration):\n",
        "    classTree = tree.DecisionTreeClassifier(criterion='entropy', max_depth=17, random_state=20210415)\n",
        "    treeFit = classTree.fit(x_train, y_train, w_train)\n",
        "    treePredProb = classTree.predict_proba(x_train)\n",
        "    accuracy[iter] = classTree.score(x_train, y_train, w_train)\n",
        "    ensemblePredProb += accuracy[iter] * treePredProb\n",
        "\n",
        "    if (abs(accuracy[iter]) >= 0.9999999):\n",
        "        break\n",
        "    \n",
        "    # Update the weights\n",
        "    eventError = np.where(y_train == 1, (1 - treePredProb[:,1]), (0 - treePredProb[:,1]))\n",
        "    predClass = np.where(treePredProb[:,1] >= 0.2, 1, 0)\n",
        "    w_train = np.where(predClass != y_train, 2+np.abs(eventError), np.abs(eventError))\n",
        " \n",
        "# Calculate the final predicted probabilities\n",
        "ensemblePredProb /= np.sum(accuracy)\n",
        "\n",
        "train_data['predCluster'] = np.where(ensemblePredProb[:,1] >= 0.5, 1, 0)\n",
        "print('Accuracy = ', accuracy)\n",
        "print('Misclassification rate = ', 1-accuracy)"
      ],
      "execution_count": null,
      "outputs": [
        {
          "output_type": "stream",
          "text": [
            "Accuracy =  [0.98394546 0.98738399 0.99943624 1.         0.         0.\n",
            " 0.         0.         0.         0.         0.         0.\n",
            " 0.         0.         0.         0.         0.         0.\n",
            " 0.         0.         0.         0.         0.         0.\n",
            " 0.         0.         0.         0.         0.         0.\n",
            " 0.         0.         0.         0.         0.         0.\n",
            " 0.         0.         0.         0.         0.         0.\n",
            " 0.         0.         0.         0.         0.         0.\n",
            " 0.         0.        ]\n",
            "Misclassification rate =  [1.60545415e-02 1.26160086e-02 5.63764035e-04 0.00000000e+00\n",
            " 1.00000000e+00 1.00000000e+00 1.00000000e+00 1.00000000e+00\n",
            " 1.00000000e+00 1.00000000e+00 1.00000000e+00 1.00000000e+00\n",
            " 1.00000000e+00 1.00000000e+00 1.00000000e+00 1.00000000e+00\n",
            " 1.00000000e+00 1.00000000e+00 1.00000000e+00 1.00000000e+00\n",
            " 1.00000000e+00 1.00000000e+00 1.00000000e+00 1.00000000e+00\n",
            " 1.00000000e+00 1.00000000e+00 1.00000000e+00 1.00000000e+00\n",
            " 1.00000000e+00 1.00000000e+00 1.00000000e+00 1.00000000e+00\n",
            " 1.00000000e+00 1.00000000e+00 1.00000000e+00 1.00000000e+00\n",
            " 1.00000000e+00 1.00000000e+00 1.00000000e+00 1.00000000e+00\n",
            " 1.00000000e+00 1.00000000e+00 1.00000000e+00 1.00000000e+00\n",
            " 1.00000000e+00 1.00000000e+00 1.00000000e+00 1.00000000e+00\n",
            " 1.00000000e+00 1.00000000e+00]\n"
          ],
          "name": "stdout"
        }
      ]
    },
    {
      "cell_type": "code",
      "metadata": {
        "colab": {
          "base_uri": "https://localhost:8080/",
          "height": 356
        },
        "id": "4pmqlUvnvdah",
        "outputId": "3eb85a50-b202-4112-dda8-b3b10273ef08"
      },
      "source": [
        "## e)  grouped box-plot for the predicted probability for quality_grp = 1 on the Testing data\n",
        "test_data['group_0']=treePredProb[:,0]\n",
        "test_data['group_1']=treePredProb[:,1]\n",
        "test_data.boxplot(column=\"group_1\", by='quality_grp')\n",
        "plt.show()"
      ],
      "execution_count": null,
      "outputs": [
        {
          "output_type": "stream",
          "text": [
            "/usr/local/lib/python3.7/dist-packages/numpy/core/_asarray.py:83: VisibleDeprecationWarning: Creating an ndarray from ragged nested sequences (which is a list-or-tuple of lists-or-tuples-or ndarrays with different lengths or shapes) is deprecated. If you meant to do this, you must specify 'dtype=object' when creating the ndarray\n",
            "  return array(a, dtype, copy=False, order=order)\n"
          ],
          "name": "stderr"
        },
        {
          "output_type": "display_data",
          "data": {
            "image/png": "[encoded data removed]",
            "text/plain": [
              "<Figure size 432x288 with 1 Axes>"
            ]
          },
          "metadata": {
            "tags": []
          }
        }
      ]
    },
    {
      "cell_type": "markdown",
      "metadata": {
        "id": "66JCvFK24Xgy"
      },
      "source": [
        "## Q2"
      ]
    },
    {
      "cell_type": "code",
      "metadata": {
        "colab": {
          "base_uri": "https://localhost:8080/"
        },
        "id": "4tKlTR5n4ZXZ",
        "outputId": "96d43b56-6a82-43ae-c054-9fc9284f38e8"
      },
      "source": [
        "##a)Use the Forward Selection method to select input features into the model.\n",
        "x_test = test_data[['alcohol', 'citric_acid', 'free_sulfur_dioxide', 'residual_sugar', 'sulphates']]\n",
        "y_test = test_data['quality_grp']\n",
        "\n",
        "x_train = train_data[['alcohol', 'citric_acid', 'free_sulfur_dioxide', 'residual_sugar', 'sulphates']]\n",
        "y_train = train_data['quality_grp']\n",
        "\n",
        "def SWEEPOperator (pDim, inputM, tol):\n",
        "    # pDim: dimension of matrix inputM, integer greater than one\n",
        "    # inputM: a square and symmetric matrix, numpy array\n",
        "    # tol: singularity tolerance, positive real\n",
        "\n",
        "    aliasParam = []\n",
        "    nonAliasParam = []\n",
        "    \n",
        "    A = np.copy(inputM)\n",
        "    diagA = np.diagonal(inputM)\n",
        "\n",
        "    for k in range(pDim):\n",
        "        Akk = A[k,k]\n",
        "        if (Akk >= (tol * diagA[k])):\n",
        "            nonAliasParam.append(k)\n",
        "            ANext = A - np.outer(A[:, k], A[k, :]) / Akk\n",
        "            ANext[:, k] = A[:, k] / Akk\n",
        "            ANext[k, :] = ANext[:, k]\n",
        "            ANext[k, k] = -1.0 / Akk\n",
        "        else:\n",
        "            aliasParam.append(k)\n",
        "            ANext[:, k] = 0.0 * A[:, k]\n",
        "            ANext[k, :] = ANext[:, k]\n",
        "        A = ANext\n",
        "    return (A, aliasParam, nonAliasParam)\n",
        "\n",
        "def build_mnlogit (fullX, y):\n",
        "\n",
        "    # Find the non-redundant columns in the design matrix fullX\n",
        "    nFullParam = fullX.shape[1]\n",
        "    XtX = np.transpose(fullX).dot(fullX)\n",
        "    invXtX, aliasParam, nonAliasParam = SWEEPOperator(pDim = nFullParam, inputM = XtX, tol = 1e-7)\n",
        "\n",
        "    # Build a multinomial logistic model\n",
        "    X = fullX.iloc[:, list(nonAliasParam)]\n",
        "    logit = stats.MNLogit(y, X)\n",
        "    thisFit = logit.fit(method = 'newton', maxiter = 1000, gtol = 1e-6, full_output = True, disp = True)\n",
        "    thisParameter = thisFit.params\n",
        "    thisLLK = logit.loglike(thisParameter.values)\n",
        "\n",
        "    # The number of free parameters\n",
        "    nYCat = thisFit.J\n",
        "    thisDF = len(nonAliasParam) * (nYCat - 1)\n",
        "\n",
        "    # Return model statistics\n",
        "    return (thisLLK, thisDF, thisParameter, thisFit)\n",
        "\n",
        "chi_dict={}\n",
        "\n",
        "y= train_data['quality_grp'].astype('category')\n",
        "y_categories = y.cat.categories\n",
        "\n",
        "devianceTable = pd.DataFrame()\n",
        "\n",
        "# Step 0: Intercept only model\n",
        "u = pd.DataFrame()\n",
        "u = y.isnull()\n",
        "\n",
        "designX = pd.DataFrame(u.where(u, 1)).rename(columns = {'quality_grp':\"const\"})\n",
        "LLK0, DF0, fullParams0, thisFit = build_mnlogit (designX, y)"
      ],
      "execution_count": null,
      "outputs": [
        {
          "output_type": "stream",
          "text": [
            "Optimization terminated successfully.\n",
            "         Current function value: 0.495052\n",
            "         Iterations 5\n"
          ],
          "name": "stdout"
        }
      ]
    },
    {
      "cell_type": "code",
      "metadata": {
        "colab": {
          "base_uri": "https://localhost:8080/"
        },
        "id": "NiRB4bM7ERN_",
        "outputId": "33fc7852-9227-4720-b272-9af4b66b565d"
      },
      "source": [
        "# Step 1.1: Intercept + a\n",
        "first = ['alcohol', 'citric_acid', 'free_sulfur_dioxide', 'residual_sugar', 'sulphates']\n",
        "for i in range (5):\n",
        "  model = first[i]\n",
        "  trainData = train_data[model].dropna()\n",
        "  trainData = stats.add_constant(trainData,prepend=True)\n",
        "  LLK1, DF1, fullParams1, thisFit = build_mnlogit(trainData, y)\n",
        "  testDev = 2.0 * (LLK1 - LLK0)\n",
        "  testDF = DF1 - DF0\n",
        "  testPValue = scipy.stats.chi2.sf(testDev, testDF)\n",
        "  if testPValue<0.05:\n",
        "    chi_dict[first[i]]=testPValue\n",
        "key_min = min(chi_dict.keys(),key = (lambda k : chi_dict[k]))\n",
        "print('Model 1 = Intercept +',key_min)    "
      ],
      "execution_count": null,
      "outputs": [
        {
          "output_type": "stream",
          "text": [
            "Optimization terminated successfully.\n",
            "         Current function value: 0.418216\n",
            "         Iterations 6\n",
            "Optimization terminated successfully.\n",
            "         Current function value: 0.493659\n",
            "         Iterations 5\n",
            "Optimization terminated successfully.\n",
            "         Current function value: 0.495006\n",
            "         Iterations 5\n",
            "Optimization terminated successfully.\n",
            "         Current function value: 0.492289\n",
            "         Iterations 6\n",
            "Optimization terminated successfully.\n",
            "         Current function value: 0.494435\n",
            "         Iterations 5\n",
            "Model 1 = Intercept + ('alcohol', 'free_sulfur_dioxide', 'sulphates', 'citric_acid', 'residual_sugar')\n"
          ],
          "name": "stdout"
        }
      ]
    },
    {
      "cell_type": "code",
      "metadata": {
        "colab": {
          "base_uri": "https://localhost:8080/"
        },
        "id": "BOK6vDJnaD4M",
        "outputId": "fface46a-131d-4ccb-a03e-d7d69d472a3a"
      },
      "source": [
        "# Step 1.2: Intercept + 'Alcohol' +a\n",
        "second = [('alcohol', 'citric_acid'),('alcohol',  'free_sulfur_dioxide'), ('alcohol', 'residual_sugar'), ('alcohol', 'sulphates')]\n",
        "for i in range (4):\n",
        "  model = list(second[i])\n",
        "  trainData = train_data[model].dropna()\n",
        "  trainData = stats.add_constant(trainData,prepend=True)\n",
        "  LLK1, DF1, fullParams1, thisFit = build_mnlogit(trainData, y)\n",
        "  testDev = 2.0 * (LLK1 - LLK0)\n",
        "  testDF = DF1 - DF0\n",
        "  testPValue = scipy.stats.chi2.sf(testDev, testDF)\n",
        "  if testPValue < 0.05:\n",
        "    chi_dict[second[i]]=testPValue\n",
        "key_min = min(chi_dict.keys(),key = (lambda k : chi_dict[k]))\n",
        "print('Model 2 = Intercept +','+'.join(''.join(i)for i in key_min))"
      ],
      "execution_count": null,
      "outputs": [
        {
          "output_type": "stream",
          "text": [
            "Optimization terminated successfully.\n",
            "         Current function value: 0.416593\n",
            "         Iterations 6\n",
            "Optimization terminated successfully.\n",
            "         Current function value: 0.415118\n",
            "         Iterations 6\n",
            "Optimization terminated successfully.\n",
            "         Current function value: 0.416694\n",
            "         Iterations 6\n",
            "Optimization terminated successfully.\n",
            "         Current function value: 0.417141\n",
            "         Iterations 6\n",
            "Model 2 = Intercept + alcohol+free_sulfur_dioxide+sulphates+citric_acid+residual_sugar\n"
          ],
          "name": "stdout"
        }
      ]
    },
    {
      "cell_type": "code",
      "metadata": {
        "colab": {
          "base_uri": "https://localhost:8080/"
        },
        "id": "HrrhYK5aat4z",
        "outputId": "2cf3b3d3-992d-40d7-a568-1ba44056bfa1"
      },
      "source": [
        "# Step 1.3: Intercept + 'Alcohol' +'free_sulfur_dioxide' +a\n",
        "third = [('alcohol','free_sulfur_dioxide', 'citric_acid'),('alcohol', 'free_sulfur_dioxide','residual_sugar'), \n",
        "          ('alcohol','free_sulfur_dioxide', 'sulphates')]\n",
        "          \n",
        "for i in range (3):\n",
        "  model = list(third[i])\n",
        "  trainData = train_data[model].dropna()\n",
        "  trainData = stats.add_constant(trainData,prepend=True)\n",
        "  LLK1, DF1, fullParams1, thisFit = build_mnlogit(trainData, y)\n",
        "  testDev = 2.0 * (LLK1 - LLK0)\n",
        "  testDF = DF1 - DF0\n",
        "  testPValue = scipy.stats.chi2.sf(testDev, testDF)\n",
        "  if testPValue < 0.05:\n",
        "    chi_dict[third[i]]=testPValue\n",
        "key_min = min(chi_dict.keys(),key = (lambda k : chi_dict[k]))\n",
        "print('Model 3 = Intercept +','+'.join(''.join(i)for i in key_min))"
      ],
      "execution_count": null,
      "outputs": [
        {
          "output_type": "stream",
          "text": [
            "Optimization terminated successfully.\n",
            "         Current function value: 0.413735\n",
            "         Iterations 6\n",
            "Optimization terminated successfully.\n",
            "         Current function value: 0.414497\n",
            "         Iterations 6\n",
            "Optimization terminated successfully.\n",
            "         Current function value: 0.413206\n",
            "         Iterations 6\n",
            "Model 3 = Intercept + alcohol+free_sulfur_dioxide+sulphates+citric_acid+residual_sugar\n"
          ],
          "name": "stdout"
        }
      ]
    },
    {
      "cell_type": "code",
      "metadata": {
        "colab": {
          "base_uri": "https://localhost:8080/"
        },
        "id": "CXVzweuHcOvw",
        "outputId": "fd9aa965-c46d-48c4-e962-a7b55aa5732d"
      },
      "source": [
        "# Step 1.4: Intercept + 'Alcohol' +'free_sulfur_dioxide'+ 'sulphates'+ a\n",
        "fourth = [('alcohol','free_sulfur_dioxide', 'sulphates','citric_acid'),('alcohol', 'free_sulfur_dioxide','sulphates','residual_sugar')]\n",
        "          \n",
        "for i in range (2):\n",
        "  model = list(fourth[i])\n",
        "  trainData = train_data[model].dropna()\n",
        "  trainData = stats.add_constant(trainData,prepend=True)\n",
        "  LLK1, DF1, fullParams1, thisFit = build_mnlogit(trainData, y)\n",
        "  testDev = 2.0 * (LLK1 - LLK0)\n",
        "  testDF = DF1 - DF0\n",
        "  testPValue = scipy.stats.chi2.sf(testDev, testDF)\n",
        "  if testPValue < 0.05:\n",
        "    chi_dict[fourth[i]]=testPValue\n",
        "key_min = min(chi_dict.keys(),key = (lambda k : chi_dict[k]))\n",
        "print('Model 4 = Intercept +','+'.join(''.join(i)for i in key_min))"
      ],
      "execution_count": null,
      "outputs": [
        {
          "output_type": "stream",
          "text": [
            "Optimization terminated successfully.\n",
            "         Current function value: 0.412059\n",
            "         Iterations 7\n",
            "Optimization terminated successfully.\n",
            "         Current function value: 0.412167\n",
            "         Iterations 6\n",
            "Model 2 = Intercept + alcohol+free_sulfur_dioxide+sulphates+citric_acid\n"
          ],
          "name": "stdout"
        }
      ]
    },
    {
      "cell_type": "code",
      "metadata": {
        "colab": {
          "base_uri": "https://localhost:8080/"
        },
        "id": "5QFVlK0pcclR",
        "outputId": "33a282f4-048c-42eb-991f-320e58ceb395"
      },
      "source": [
        "# Step 1.5: Intercept + 'Alcohol' +'free_sulfur_dioxide'+ 'sulphates'+ 'citric_acid'+a\n",
        "fifth = [('alcohol', 'free_sulfur_dioxide','sulphates','citric_acid','residual_sugar')]\n",
        "          \n",
        "for i in range (1):\n",
        "  model = list(fifth[i])\n",
        "  trainData = train_data[model].dropna()\n",
        "  trainData = stats.add_constant(trainData,prepend=True)\n",
        "  LLK1, DF1, fullParams1, thisFit = build_mnlogit(trainData, y)\n",
        "  testDev = 2.0 * (LLK1 - LLK0)\n",
        "  testDF = DF1 - DF0\n",
        "  testPValue = scipy.stats.chi2.sf(testDev, testDF)\n",
        "  if testPValue < 0.05:\n",
        "    chi_dict[fifth[i]]=testPValue\n",
        "key_min = min(chi_dict.keys(),key = (lambda k : chi_dict[k]))\n",
        "print('Model 5 = Intercept +','+'.join(''.join(i)for i in key_min))"
      ],
      "execution_count": null,
      "outputs": [
        {
          "output_type": "stream",
          "text": [
            "Optimization terminated successfully.\n",
            "         Current function value: 0.411221\n",
            "         Iterations 7\n",
            "Model 5 = Intercept + alcohol+free_sulfur_dioxide+sulphates+citric_acid+residual_sugar\n"
          ],
          "name": "stdout"
        }
      ]
    },
    {
      "cell_type": "code",
      "metadata": {
        "colab": {
          "base_uri": "https://localhost:8080/"
        },
        "id": "Fg-3Hlpy-NbW",
        "outputId": "51d905ad-0a1b-44f1-8fc1-6fdb5133010d"
      },
      "source": [
        "#b) What is the Area Under Curve metric on the Testing data?\n",
        "feature2b = LogisticRegression(random_state=0).fit(x_train,y_train)\n",
        "treePreProb2b = feature2b.predict_proba(x_test)\n",
        "AUC_2b=metrics.roc_auc_score(y_test,treePreProb2b[:,1])\n",
        "print('AUC on the testing data with input features: ',AUC_2b)"
      ],
      "execution_count": null,
      "outputs": [
        {
          "output_type": "stream",
          "text": [
            "AUC on the testing data with input features:  0.7723613128085971\n"
          ],
          "name": "stdout"
        }
      ]
    },
    {
      "cell_type": "code",
      "metadata": {
        "colab": {
          "base_uri": "https://localhost:8080/",
          "height": 248
        },
        "id": "4a_0Zhr4FZqG",
        "outputId": "ab9aa148-dbbf-47d7-95a3-4a1fddeef187"
      },
      "source": [
        "#c) Generate 10,000 Bootstrap samples from the Training data.  \n",
        "from sklearn.linear_model import LogisticRegression\n",
        "import random\n",
        "\n",
        "# Create a bootstrap sample from the population\n",
        "def sample_wr (inData):\n",
        "    n = len(inData)\n",
        "    outData = np.empty((n,6))\n",
        "    for i in range(n):\n",
        "        j = int(random.random() * n)\n",
        "        outData[i] = inData[j]\n",
        "    return outData\n",
        "\n",
        "def bootstrap_classTree (x_train, y_train, x_test,y_test, nB):\n",
        "   x_index = x_train.index\n",
        "   model = LogisticRegression(random_state=20210415)\n",
        "   AUC_test = np.zeros((nB))\n",
        "\n",
        "   # Initialize internal state of the random number generator.\n",
        "   random.seed(20210415)\n",
        "\n",
        "   for iB in range(nB):\n",
        "      bootIndex = sample_wr(x_index)\n",
        "      x_train_boot = x_train.loc[bootIndex[:,0]]\n",
        "      y_train_boot = y_train.loc[bootIndex[:,0]]\n",
        "      modelFit = model.fit(x_train_boot, y_train_boot)\n",
        "      ModelProb = model.predict_proba(x_test)\n",
        "      AUC_test[iB] = metrics.roc_auc_score(y_test, ModelProb[:,1])\n",
        "\n",
        "   return AUC_test\n",
        "\n",
        "nB = 10000\n",
        "auc_roc = bootstrap_classTree(x_train, y_train, x_test, y_test, nB)"
      ],
      "execution_count": null,
      "outputs": [
        {
          "output_type": "stream",
          "text": [
            "Confidence Interval : 0.7687049, 0.7738949\n"
          ],
          "name": "stdout"
        },
        {
          "output_type": "error",
          "ename": "TypeError",
          "evalue": "ignored",
          "traceback": [
            "\u001b[0;31m---------------------------------------------------------------------------\u001b[0m",
            "\u001b[0;31mTypeError\u001b[0m                                 Traceback (most recent call last)",
            "\u001b[0;32m<ipython-input-115-f2a08caf9c06>\u001b[0m in \u001b[0;36m<module>\u001b[0;34m()\u001b[0m\n\u001b[1;32m     33\u001b[0m \u001b[0mauc_roc\u001b[0m \u001b[0;34m=\u001b[0m \u001b[0mbootstrap_classTree\u001b[0m\u001b[0;34m(\u001b[0m\u001b[0mx_train\u001b[0m\u001b[0;34m,\u001b[0m \u001b[0my_train\u001b[0m\u001b[0;34m,\u001b[0m \u001b[0mx_test\u001b[0m\u001b[0;34m,\u001b[0m \u001b[0my_test\u001b[0m\u001b[0;34m,\u001b[0m \u001b[0mnB\u001b[0m\u001b[0;34m)\u001b[0m\u001b[0;34m\u001b[0m\u001b[0;34m\u001b[0m\u001b[0m\n\u001b[1;32m     34\u001b[0m \u001b[0mprint\u001b[0m \u001b[0;34m(\u001b[0m\u001b[0;34m'Confidence Interval : {:.7f}, {:.7f}'\u001b[0m\u001b[0;34m.\u001b[0m\u001b[0mformat\u001b[0m\u001b[0;34m(\u001b[0m\u001b[0mnp\u001b[0m\u001b[0;34m.\u001b[0m\u001b[0mpercentile\u001b[0m\u001b[0;34m(\u001b[0m\u001b[0mauc_roc\u001b[0m\u001b[0;34m,\u001b[0m \u001b[0;34m(\u001b[0m\u001b[0;36m2.5\u001b[0m\u001b[0;34m)\u001b[0m\u001b[0;34m)\u001b[0m\u001b[0;34m,\u001b[0m \u001b[0mnp\u001b[0m\u001b[0;34m.\u001b[0m\u001b[0mpercentile\u001b[0m\u001b[0;34m(\u001b[0m\u001b[0mauc_roc\u001b[0m\u001b[0;34m,\u001b[0m \u001b[0;34m(\u001b[0m\u001b[0;36m97.5\u001b[0m\u001b[0;34m)\u001b[0m\u001b[0;34m)\u001b[0m\u001b[0;34m)\u001b[0m\u001b[0;34m)\u001b[0m\u001b[0;34m\u001b[0m\u001b[0;34m\u001b[0m\u001b[0m\n\u001b[0;32m---> 35\u001b[0;31m \u001b[0mplt\u001b[0m\u001b[0;34m.\u001b[0m\u001b[0mhist\u001b[0m\u001b[0;34m(\u001b[0m\u001b[0mauc_roc\u001b[0m\u001b[0;34m,\u001b[0m \u001b[0mbins\u001b[0m \u001b[0;34m=\u001b[0m \u001b[0mnp\u001b[0m\u001b[0;34m.\u001b[0m\u001b[0marange\u001b[0m\u001b[0;34m(\u001b[0m\u001b[0mmin\u001b[0m\u001b[0;34m(\u001b[0m\u001b[0mauc_roc\u001b[0m\u001b[0;34m)\u001b[0m\u001b[0;34m,\u001b[0m\u001b[0mmax\u001b[0m\u001b[0;34m(\u001b[0m\u001b[0mauc_roc\u001b[0m\u001b[0;34m)\u001b[0m \u001b[0;34m+\u001b[0m \u001b[0;36m0.001\u001b[0m\u001b[0;34m,\u001b[0m\u001b[0mwidth\u001b[0m\u001b[0;34m=\u001b[0m\u001b[0;36m0.001\u001b[0m\u001b[0;34m)\u001b[0m\u001b[0;34m,\u001b[0m \u001b[0malign\u001b[0m\u001b[0;34m=\u001b[0m\u001b[0;34m'mid'\u001b[0m\u001b[0;34m)\u001b[0m\u001b[0;34m\u001b[0m\u001b[0;34m\u001b[0m\u001b[0m\n\u001b[0m\u001b[1;32m     36\u001b[0m \u001b[0mplt\u001b[0m\u001b[0;34m.\u001b[0m\u001b[0mshow\u001b[0m\u001b[0;34m(\u001b[0m\u001b[0;34m)\u001b[0m\u001b[0;34m\u001b[0m\u001b[0;34m\u001b[0m\u001b[0m\n",
            "\u001b[0;31mTypeError\u001b[0m: 'width' is an invalid keyword argument for arange()"
          ]
        }
      ]
    },
    {
      "cell_type": "code",
      "metadata": {
        "id": "hWuLVfj0uTvS"
      },
      "source": [
        "plt.hist(auc_roc, bins = np.arange(min(auc_roc),max(auc_roc) + 0.001,0.001), align='mid')\n",
        "plt.xlabel('Area Under Curve values')\n",
        "plt.show()"
      ],
      "execution_count": null,
      "outputs": []
    },
    {
      "cell_type": "code",
      "metadata": {
        "colab": {
          "base_uri": "https://localhost:8080/"
        },
        "id": "C7xGQD_9ky_x",
        "outputId": "18991fbf-f15f-4711-da9f-e96252e37f01"
      },
      "source": [
        "#d)\n",
        "auc2d= DataFrame (auc_roc,columns=['AUC values'])\n",
        "print(auc2d)\n",
        "print ('2.5th percentile : {:.7f} \\n97.5th percentile :  {:.7f}'.format(np.percentile(auc_roc, (2.5)), np.percentile(auc_roc, (97.5))))\n"
      ],
      "execution_count": null,
      "outputs": [
        {
          "output_type": "stream",
          "text": [
            "      AUC values\n",
            "0       0.769351\n",
            "1       0.772672\n",
            "2       0.772502\n",
            "3       0.773180\n",
            "4       0.773467\n",
            "...          ...\n",
            "9995    0.772643\n",
            "9996    0.772678\n",
            "9997    0.770788\n",
            "9998    0.773827\n",
            "9999    0.773782\n",
            "\n",
            "[10000 rows x 1 columns]\n",
            "2.5th percentile : 0.7687049 \n",
            "97.5th percentile :  0.7738949\n"
          ],
          "name": "stdout"
        }
      ]
    },
    {
      "cell_type": "code",
      "metadata": {
        "colab": {
          "base_uri": "https://localhost:8080/"
        },
        "id": "YheUoZt_EccH",
        "outputId": "d2c33f2b-44e0-4e7f-c98d-28caace9ef02"
      },
      "source": [
        "# d) What is the Area Under Curve metric on the Testing data using the final converged classification tree?\n",
        "print ('2.5th percentile : {:.7f}\\n97.5th percentile :  {:.7f}'.format(np.percentile(auc_roc, (2.5)), np.percentile(auc_roc, (97.5))))"
      ],
      "execution_count": null,
      "outputs": [
        {
          "output_type": "stream",
          "text": [
            "2.5th percentile : 0.7687049\n",
            "97.5th percentile :  0.7738949\n"
          ],
          "name": "stdout"
        }
      ]
    }
  ]
}