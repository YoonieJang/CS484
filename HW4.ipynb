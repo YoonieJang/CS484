{
  "nbformat": 4,
  "nbformat_minor": 0,
  "metadata": {
    "colab": {
      "name": "HW4.ipynb",
      "provenance": [],
      "collapsed_sections": [],
      "authorship_tag": "ABX9TyOQBb1fjOPmOO6z7TlNjwrP",
      "include_colab_link": true
    },
    "kernelspec": {
      "name": "python3",
      "display_name": "Python 3"
    },
    "language_info": {
      "name": "python"
    }
  },
  "cells": [
    {
      "cell_type": "markdown",
      "metadata": {
        "id": "view-in-github",
        "colab_type": "text"
      },
      "source": [
        "<a href=\"https://colab.research.google.com/github/YoonieJang/CS484/blob/main/HW4.ipynb\" target=\"_parent\"><img src=\"https://colab.research.google.com/assets/colab-badge.svg\" alt=\"Open In Colab\"/></a>"
      ]
    },
    {
      "cell_type": "code",
      "metadata": {
        "id": "bTFdxpVeuNyZ"
      },
      "source": [
        "import numpy as np\n",
        "import pandas as pd\n",
        "import matplotlib.pyplot as plt\n",
        "import math\n",
        "import scipy\n",
        "import statsmodels.api as stats\n",
        "import sklearn.naive_bayes as naive_bayes\n",
        "from sklearn import preprocessing, naive_bayes\n",
        "from google.colab import files\n",
        "import io\n",
        "pd.options.display.max_columns = 1000"
      ],
      "execution_count": null,
      "outputs": []
    },
    {
      "cell_type": "markdown",
      "metadata": {
        "id": "iUTxiCoFfjCc"
      },
      "source": [
        "### Question 1"
      ]
    },
    {
      "cell_type": "code",
      "metadata": {
        "colab": {
          "resources": {
            "http://localhost:8080/nbextensions/google.colab/files.js": {
              "data": "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",
              "ok": true,
              "headers": [
                [
                  "content-type",
                  "application/javascript"
                ]
              ],
              "status": 200,
              "status_text": ""
            }
          },
          "base_uri": "https://localhost:8080/",
          "height": 72
        },
        "id": "Og7ln8nyu-Pi",
        "outputId": "7b0f4b61-26e4-4548-806f-028fca6ae224"
      },
      "source": [
        "import io\n",
        "uploaded = files.upload()\n",
        "purchase = pd.read_csv(io.BytesIO(uploaded['Purchase_Likelihood.csv']))\n",
        "purchase = purchase.dropna()"
      ],
      "execution_count": null,
      "outputs": [
        {
          "output_type": "display_data",
          "data": {
            "text/html": [
              "\n",
              "     <input type=\"file\" id=\"files-7c025e47-da6e-4715-85ff-9ae112bbf72a\" name=\"files[]\" multiple disabled\n",
              "        style=\"border:none\" />\n",
              "     <output id=\"result-7c025e47-da6e-4715-85ff-9ae112bbf72a\">\n",
              "      Upload widget is only available when the cell has been executed in the\n",
              "      current browser session. Please rerun this cell to enable.\n",
              "      </output>\n",
              "      <script src=\"/nbextensions/google.colab/files.js\"></script> "
            ],
            "text/plain": [
              "<IPython.core.display.HTML object>"
            ]
          },
          "metadata": {
            "tags": []
          }
        },
        {
          "output_type": "stream",
          "text": [
            "Saving Purchase_Likelihood.csv to Purchase_Likelihood (1).csv\n"
          ],
          "name": "stdout"
        }
      ]
    },
    {
      "cell_type": "code",
      "metadata": {
        "colab": {
          "base_uri": "https://localhost:8080/"
        },
        "id": "UypD6-kewyMH",
        "outputId": "d0f2b9a9-79d3-4c15-b10d-c1c045cf31d7"
      },
      "source": [
        "#### a)\n",
        "total=purchase.shape[0]\n",
        "frequency = purchase.groupby('insurance').size()\n",
        "freqtable = pd.DataFrame(columns=['Frequency', 'Probability'])\n",
        "freqtable['Frequency']=frequency\n",
        "freqtable['Probability']=frequency/total\n",
        "print(freqtable)"
      ],
      "execution_count": null,
      "outputs": [
        {
          "output_type": "stream",
          "text": [
            "           Frequency  Probability\n",
            "insurance                        \n",
            "0             143691     0.215996\n",
            "1             426067     0.640462\n",
            "2              95491     0.143542\n"
          ],
          "name": "stdout"
        }
      ]
    },
    {
      "cell_type": "code",
      "metadata": {
        "id": "tOa6oZ1qy5Yr"
      },
      "source": [
        "# Define a function to visualize the percent of a particular target category by a nominal predictor\n",
        "def RowWithColumn (\n",
        "   rowVar,          # Row variable\n",
        "   columnVar,       # Column predictor\n",
        "   show = 'ROW'):   # Show ROW fraction, COLUMN fraction, or BOTH table\n",
        "\n",
        "   countTable = pd.crosstab(index = rowVar, columns = columnVar, margins = False, dropna = True)\n",
        "   print(\"Frequency Table: \\n\", countTable)\n",
        "   print( )\n",
        "\n",
        "   if (show == 'ROW' or show == 'BOTH'):\n",
        "       rowFraction = countTable.div(countTable.sum(1), axis='index')\n",
        "       print(\"Row Fraction Table: \\n\", rowFraction)\n",
        "       print( )\n",
        "\n",
        "   if (show == 'COLUMN' or show == 'BOTH'):\n",
        "       columnFraction = countTable.div(countTable.sum(0), axis='columns')\n",
        "       print(\"Column Fraction Table: \\n\", columnFraction)\n",
        "       print( )\n",
        "\n",
        "   return"
      ],
      "execution_count": null,
      "outputs": []
    },
    {
      "cell_type": "code",
      "metadata": {
        "colab": {
          "base_uri": "https://localhost:8080/"
        },
        "id": "PGfWEM0qz5Mv",
        "outputId": "eba87673-7dc4-45ff-a2cf-067f369b26db"
      },
      "source": [
        "#### b)\n",
        "RowWithColumn(purchase['insurance'],purchase['group_size'],show='BOTH')"
      ],
      "execution_count": null,
      "outputs": [
        {
          "output_type": "stream",
          "text": [
            "Frequency Table: \n",
            " group_size       1      2     3    4\n",
            "insurance                           \n",
            "0           115460  25728  2282  221\n",
            "1           329552  91065  5069  381\n",
            "2            74293  19600  1505   93\n",
            "\n",
            "Row Fraction Table: \n",
            " group_size         1         2         3         4\n",
            "insurance                                         \n",
            "0           0.803530  0.179051  0.015881  0.001538\n",
            "1           0.773475  0.213734  0.011897  0.000894\n",
            "2           0.778010  0.205255  0.015761  0.000974\n",
            "\n",
            "Column Fraction Table: \n",
            " group_size         1         2         3         4\n",
            "insurance                                         \n",
            "0           0.222336  0.188631  0.257678  0.317986\n",
            "1           0.634602  0.667666  0.572380  0.548201\n",
            "2           0.143062  0.143702  0.169941  0.133813\n",
            "\n"
          ],
          "name": "stdout"
        }
      ]
    },
    {
      "cell_type": "code",
      "metadata": {
        "colab": {
          "base_uri": "https://localhost:8080/"
        },
        "id": "SSZZhPrc0ZdG",
        "outputId": "d10f95cd-73ba-4535-ae42-ff90f719b3ba"
      },
      "source": [
        "#### c)\n",
        "RowWithColumn(purchase['insurance'],purchase['homeowner'],show='ROW')"
      ],
      "execution_count": null,
      "outputs": [
        {
          "output_type": "stream",
          "text": [
            "Frequency Table: \n",
            " homeowner       0       1\n",
            "insurance                \n",
            "0           78659   65032\n",
            "1          183130  242937\n",
            "2           46734   48757\n",
            "\n",
            "Row Fraction Table: \n",
            " homeowner         0         1\n",
            "insurance                    \n",
            "0          0.547418  0.452582\n",
            "1          0.429815  0.570185\n",
            "2          0.489407  0.510593\n",
            "\n"
          ],
          "name": "stdout"
        }
      ]
    },
    {
      "cell_type": "code",
      "metadata": {
        "colab": {
          "base_uri": "https://localhost:8080/"
        },
        "id": "7cc3-qO_0ZSI",
        "outputId": "b6d22e71-1313-4bc7-cd66-8ad9ff3348d6"
      },
      "source": [
        "#### d)\n",
        "RowWithColumn(purchase['insurance'],purchase['married_couple'],show='ROW')"
      ],
      "execution_count": null,
      "outputs": [
        {
          "output_type": "stream",
          "text": [
            "Frequency Table: \n",
            " married_couple       0      1\n",
            "insurance                    \n",
            "0               117110  26581\n",
            "1               333272  92795\n",
            "2                75310  20181\n",
            "\n",
            "Row Fraction Table: \n",
            " married_couple         0         1\n",
            "insurance                         \n",
            "0               0.815013  0.184987\n",
            "1               0.782206  0.217794\n",
            "2               0.788661  0.211339\n",
            "\n"
          ],
          "name": "stdout"
        }
      ]
    },
    {
      "cell_type": "code",
      "metadata": {
        "id": "E1sYUh072q3y"
      },
      "source": [
        "# Define a function that performs the Pearson Chi-square test\n",
        "#   xCat - Input categorical feature (array-like or Series)\n",
        "#   yCat - Input categorical target field (array-like or Series)\n",
        "import scipy.stats as sdist\n",
        "import statsmodels.api as smodel\n",
        "\n",
        "def ChiSquareTest (xCat, yCat):\n",
        "    # Generate the crosstabulation\n",
        "    obsCount = pd.crosstab(index = xCat, columns = yCat, margins = False, dropna = True)\n",
        "    xNCat = obsCount.shape[0]\n",
        "    yNCat = obsCount.shape[1]\n",
        "\n",
        "    cTotal = obsCount.sum(axis = 1)\n",
        "    rTotal = obsCount.sum(axis = 0)\n",
        "    nTotal = np.sum(rTotal)\n",
        "    expCount = np.outer(cTotal, (rTotal / nTotal))\n",
        "\n",
        "    # Calculate the Chi-Square statistics\n",
        "    chiSqStat = ((obsCount - expCount)**2 / expCount).to_numpy().sum()\n",
        "    chiSqDf = (xNCat - 1.0) * (yNCat - 1.0)\n",
        "    chiSqSig = sdist.chi2.sf(chiSqStat, chiSqDf)\n",
        "\n",
        "    cramerV= chiSqStat/nTotal\n",
        "    \n",
        "    if (cTotal.size > rTotal.size):\n",
        "      cramerV = cramerV/(rTotal.size - 1.0)\n",
        "    else:\n",
        "      cramerV = cramerV/(cTotal.size - 1.0)\n",
        "       \n",
        "    cramerV = np.sqrt(cramerV)\n",
        "\n",
        "    return (xNCat, yNCat, chiSqStat, chiSqDf, chiSqSig, cramerV)"
      ],
      "execution_count": null,
      "outputs": []
    },
    {
      "cell_type": "code",
      "metadata": {
        "colab": {
          "base_uri": "https://localhost:8080/"
        },
        "id": "j7QaOKoB0ZES",
        "outputId": "38e90a76-6f98-4a4a-f301-e1363ebd7589"
      },
      "source": [
        "#### e)\n",
        "xNCat, yNCat, chiSqStat, chiSqDf, chiSqSig, cramerV = ChiSquareTest(purchase['group_size'],purchase['insurance'])\n",
        "print(cramerV)"
      ],
      "execution_count": null,
      "outputs": [
        {
          "output_type": "stream",
          "text": [
            "0.027102014055820786\n"
          ],
          "name": "stdout"
        }
      ]
    },
    {
      "cell_type": "code",
      "metadata": {
        "colab": {
          "base_uri": "https://localhost:8080/"
        },
        "id": "tGQguuiNBNit",
        "outputId": "3161bd05-95dd-4717-eb96-b64145e35a7f"
      },
      "source": [
        "xNCat, yNCat, chiSqStat, chiSqDf, chiSqSig, cramerV = ChiSquareTest(purchase['homeowner'],purchase['insurance'])\n",
        "print(cramerV)"
      ],
      "execution_count": null,
      "outputs": [
        {
          "output_type": "stream",
          "text": [
            "0.09708641964781961\n"
          ],
          "name": "stdout"
        }
      ]
    },
    {
      "cell_type": "code",
      "metadata": {
        "colab": {
          "base_uri": "https://localhost:8080/"
        },
        "id": "qGtotlWOBOE7",
        "outputId": "06624d96-56fb-4e2f-9ad5-13296a47368e"
      },
      "source": [
        "xNCat, yNCat, chiSqStat, chiSqDf, chiSqSig, cramerV = ChiSquareTest(purchase['married_couple'],purchase['insurance'])\n",
        "print(cramerV)"
      ],
      "execution_count": null,
      "outputs": [
        {
          "output_type": "stream",
          "text": [
            "0.03242164583520746\n"
          ],
          "name": "stdout"
        }
      ]
    },
    {
      "cell_type": "code",
      "metadata": {
        "colab": {
          "base_uri": "https://localhost:8080/"
        },
        "id": "Ig2fHnmCFnvG",
        "outputId": "634d1298-8124-4eae-80c8-e139f710ea73"
      },
      "source": [
        "xTrain = purchase[['group_size','homeowner','married_couple']].astype('category')\n",
        "yTrain = purchase[['insurance']].astype('category')\n",
        "\n",
        "classifier = naive_bayes.MultinomialNB(alpha = 1.e-10)\n",
        "thisFit = classifier.fit(xTrain, yTrain)\n",
        "\n",
        "GroupSize = [1,2,3,4]\n",
        "Homeowner = [0,1]\n",
        "marriage = [0,1]\n",
        "prediction = []\n",
        "for g in GroupSize:\n",
        "  for h in Homeowner:\n",
        "    for m in marriage:\n",
        "      prediction.append([g,h,m])\n",
        "\n",
        "prediction= pd.DataFrame(prediction, columns=['groups_size','homeowner','married_couple'])\n",
        "pridiction = prediction[['groups_size','homeowner','married_couple']].astype('category')\n",
        "predProb = classifier.predict_proba(prediction)\n",
        "probability = pd.DataFrame(predProb,columns=['Prob(insurance = 0)','Prob(insurance = 1)','Prob(insurance = 2)'])\n",
        "print(pd.concat([prediction, probability],axis=1))"
      ],
      "execution_count": null,
      "outputs": [
        {
          "output_type": "stream",
          "text": [
            "    groups_size  homeowner  married_couple  Prob(insurance = 0)  \\\n",
            "0             1          0               0             0.227037   \n",
            "1             1          0               1             0.214391   \n",
            "2             1          1               0             0.205588   \n",
            "3             1          1               1             0.193842   \n",
            "4             2          0               0             0.238441   \n",
            "5             2          0               1             0.225342   \n",
            "6             2          1               0             0.216281   \n",
            "7             2          1               1             0.204079   \n",
            "8             3          0               0             0.250201   \n",
            "9             3          0               1             0.236653   \n",
            "10            3          1               0             0.227342   \n",
            "11            3          1               1             0.214684   \n",
            "12            4          0               0             0.262308   \n",
            "13            4          0               1             0.248318   \n",
            "14            4          1               0             0.238767   \n",
            "15            4          1               1             0.225656   \n",
            "\n",
            "    Prob(insurance = 1)  Prob(insurance = 2)  \n",
            "0              0.627593             0.145370  \n",
            "1              0.637467             0.148142  \n",
            "2              0.654128             0.140284  \n",
            "3              0.663414             0.142744  \n",
            "4              0.614462             0.147097  \n",
            "5              0.624635             0.150024  \n",
            "6              0.641528             0.142192  \n",
            "7              0.651128             0.144794  \n",
            "8              0.601084             0.148715  \n",
            "9              0.611546             0.151801  \n",
            "10             0.628652             0.144006  \n",
            "11             0.638559             0.146756  \n",
            "12             0.587475             0.150218  \n",
            "13             0.598215             0.153467  \n",
            "14             0.615513             0.145720  \n",
            "15             0.625720             0.148624  \n"
          ],
          "name": "stdout"
        },
        {
          "output_type": "stream",
          "text": [
            "/usr/local/lib/python3.7/dist-packages/sklearn/utils/validation.py:760: DataConversionWarning: A column-vector y was passed when a 1d array was expected. Please change the shape of y to (n_samples, ), for example using ravel().\n",
            "  y = column_or_1d(y, warn=True)\n"
          ],
          "name": "stderr"
        }
      ]
    },
    {
      "cell_type": "code",
      "metadata": {
        "colab": {
          "base_uri": "https://localhost:8080/"
        },
        "id": "6FYpAaURd1ae",
        "outputId": "4828d2d8-2798-41a0-c3a6-09206295733f"
      },
      "source": [
        "#### g)\n",
        "probtable = pd.concat([prediction, probability],axis=1)\n",
        "probtable['Prob(insurance = 1) / Prob(insurance = 2)']=probtable['Prob(insurance = 1)'] / probtable['Prob(insurance = 2)']\n",
        "print(probtable)"
      ],
      "execution_count": null,
      "outputs": [
        {
          "output_type": "stream",
          "text": [
            "    groups_size  homeowner  married_couple  Prob(insurance = 0)  \\\n",
            "0             1          0               0             0.227037   \n",
            "1             1          0               1             0.214391   \n",
            "2             1          1               0             0.205588   \n",
            "3             1          1               1             0.193842   \n",
            "4             2          0               0             0.238441   \n",
            "5             2          0               1             0.225342   \n",
            "6             2          1               0             0.216281   \n",
            "7             2          1               1             0.204079   \n",
            "8             3          0               0             0.250201   \n",
            "9             3          0               1             0.236653   \n",
            "10            3          1               0             0.227342   \n",
            "11            3          1               1             0.214684   \n",
            "12            4          0               0             0.262308   \n",
            "13            4          0               1             0.248318   \n",
            "14            4          1               0             0.238767   \n",
            "15            4          1               1             0.225656   \n",
            "\n",
            "    Prob(insurance = 1)  Prob(insurance = 2)  \\\n",
            "0              0.627593             0.145370   \n",
            "1              0.637467             0.148142   \n",
            "2              0.654128             0.140284   \n",
            "3              0.663414             0.142744   \n",
            "4              0.614462             0.147097   \n",
            "5              0.624635             0.150024   \n",
            "6              0.641528             0.142192   \n",
            "7              0.651128             0.144794   \n",
            "8              0.601084             0.148715   \n",
            "9              0.611546             0.151801   \n",
            "10             0.628652             0.144006   \n",
            "11             0.638559             0.146756   \n",
            "12             0.587475             0.150218   \n",
            "13             0.598215             0.153467   \n",
            "14             0.615513             0.145720   \n",
            "15             0.625720             0.148624   \n",
            "\n",
            "    Prob(insurance = 1) / Prob(insurance = 2)  \n",
            "0                                    4.317213  \n",
            "1                                    4.303069  \n",
            "2                                    4.662868  \n",
            "3                                    4.647591  \n",
            "4                                    4.177260  \n",
            "5                                    4.163574  \n",
            "6                                    4.511710  \n",
            "7                                    4.496928  \n",
            "8                                    4.041845  \n",
            "9                                    4.028602  \n",
            "10                                   4.365452  \n",
            "11                                   4.351149  \n",
            "12                                   3.910818  \n",
            "13                                   3.898005  \n",
            "14                                   4.223935  \n",
            "15                                   4.210096  \n"
          ],
          "name": "stdout"
        }
      ]
    },
    {
      "cell_type": "code",
      "metadata": {
        "colab": {
          "base_uri": "https://localhost:8080/"
        },
        "id": "biVFhv0Je0i-",
        "outputId": "540b049b-c84f-4c5e-b182-1bf6bfb360f1"
      },
      "source": [
        "max(probtable['Prob(insurance = 1) / Prob(insurance = 2)'])"
      ],
      "execution_count": null,
      "outputs": [
        {
          "output_type": "execute_result",
          "data": {
            "text/plain": [
              "4.662867606243949"
            ]
          },
          "metadata": {
            "tags": []
          },
          "execution_count": 207
        }
      ]
    },
    {
      "cell_type": "markdown",
      "metadata": {
        "id": "EnJWbjIMfe0Y"
      },
      "source": [
        "### Question 2\n"
      ]
    },
    {
      "cell_type": "code",
      "metadata": {
        "id": "7KDJJ36sgI7C"
      },
      "source": [
        "import sklearn.metrics as metrics\n",
        "import sklearn.svm as svm\n",
        "import matplotlib.pyplot as plt"
      ],
      "execution_count": null,
      "outputs": []
    },
    {
      "cell_type": "code",
      "metadata": {
        "colab": {
          "resources": {
            "http://localhost:8080/nbextensions/google.colab/files.js": {
              "data": "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",
              "ok": true,
              "headers": [
                [
                  "content-type",
                  "application/javascript"
                ]
              ],
              "status": 200,
              "status_text": ""
            }
          },
          "base_uri": "https://localhost:8080/",
          "height": 72
        },
        "id": "L1qfPKemfdz8",
        "outputId": "39ef8465-33c5-41ec-8f41-4cfb0279a110"
      },
      "source": [
        "import io\n",
        "uploaded = files.upload()\n",
        "trainData = pd.read_csv(io.BytesIO(uploaded['SpiralWithCluster.csv']))\n",
        "trainData = trainData.dropna()"
      ],
      "execution_count": null,
      "outputs": [
        {
          "output_type": "display_data",
          "data": {
            "text/html": [
              "\n",
              "     <input type=\"file\" id=\"files-5b430179-276f-49e0-aafd-43fd75d805e6\" name=\"files[]\" multiple disabled\n",
              "        style=\"border:none\" />\n",
              "     <output id=\"result-5b430179-276f-49e0-aafd-43fd75d805e6\">\n",
              "      Upload widget is only available when the cell has been executed in the\n",
              "      current browser session. Please rerun this cell to enable.\n",
              "      </output>\n",
              "      <script src=\"/nbextensions/google.colab/files.js\"></script> "
            ],
            "text/plain": [
              "<IPython.core.display.HTML object>"
            ]
          },
          "metadata": {
            "tags": []
          }
        },
        {
          "output_type": "stream",
          "text": [
            "Saving SpiralWithCluster.csv to SpiralWithCluster (2).csv\n"
          ],
          "name": "stdout"
        }
      ]
    },
    {
      "cell_type": "code",
      "metadata": {
        "id": "TaAsvMaXf09y"
      },
      "source": [
        "xTrain = trainData[['x','y']]\n",
        "yTrain = trainData['SpectralCluster']\n",
        "\n",
        "svm_Model = svm.SVC(kernel = 'linear', decision_function_shape = 'ovr',\n",
        "                    random_state = 20210325, max_iter = -1)\n",
        "thisFit = svm_Model.fit(xTrain, yTrain) \n",
        "y_predictClass = thisFit.predict(xTrain)\n"
      ],
      "execution_count": null,
      "outputs": []
    },
    {
      "cell_type": "code",
      "metadata": {
        "colab": {
          "base_uri": "https://localhost:8080/"
        },
        "id": "02Lc3V0PmWBn",
        "outputId": "d490b4b1-149b-4d3a-f91e-d39238d621c4"
      },
      "source": [
        "#### a)\n",
        "print('Intercept = ', thisFit.intercept_)\n",
        "print('Coefficients = ', thisFit.coef_)"
      ],
      "execution_count": null,
      "outputs": [
        {
          "output_type": "stream",
          "text": [
            "Intercept =  [0.003345]\n",
            "Coefficients =  [[0.05333512 0.32868383]]\n"
          ],
          "name": "stdout"
        }
      ]
    },
    {
      "cell_type": "code",
      "metadata": {
        "colab": {
          "base_uri": "https://localhost:8080/"
        },
        "id": "AhkK-JMkqQ6R",
        "outputId": "c5e4b827-a297-4025-d357-36918a5262b2"
      },
      "source": [
        "#### b)\n",
        "print('Mean Accuracy = ', metrics.accuracy_score(yTrain, y_predictClass))\n",
        "trainData['_PredictedClass_'] = y_predictClass\n",
        "print(\"Misclassification rate = \",1- metrics.accuracy_score(yTrain, y_predictClass) )"
      ],
      "execution_count": null,
      "outputs": [
        {
          "output_type": "stream",
          "text": [
            "Mean Accuracy =  0.5\n",
            "Misclassification rate =  0.5\n"
          ],
          "name": "stdout"
        }
      ]
    },
    {
      "cell_type": "code",
      "metadata": {
        "id": "xCcU9wvDlszi"
      },
      "source": [
        "# get the separating hyperplane\n",
        "xx = np.linspace(-5, 5)\n",
        "w = svm_Model.coef_[0]\n",
        "a = -w[0] / w[1]\n",
        "yy = a * xx - (svm_Model.intercept_[0]) / w[1]"
      ],
      "execution_count": null,
      "outputs": []
    },
    {
      "cell_type": "code",
      "metadata": {
        "colab": {
          "base_uri": "https://localhost:8080/",
          "height": 312
        },
        "id": "xQHvpxgk3NXB",
        "outputId": "0f79fd63-2b36-4dde-98bf-fa99f91acf4f"
      },
      "source": [
        "#### c)\n",
        "fig, ax = plt.subplots(1, 1)\n",
        "ax.grid(b=True, which='major')\n",
        "\n",
        "plt.plot(xx, yy, 'k--')\n",
        "\n",
        "for i in range(2):\n",
        "    subdata = trainData[trainData[\"_PredictedClass_\"]==i]\n",
        "    plt.scatter(subdata.x,subdata.y,label = (i),c = carray[i])\n",
        "plt.legend(title = 'Group',loc = 'best', bbox_to_anchor = (1, 1), fontsize = 14)\n",
        "plt.title(\"Scatterplot y-coordinate against the x-coordinate\")\n",
        "plt.xlabel(\"X Co-ordinate\")\n",
        "plt.ylabel(\"Y Co-ordinate\")"
      ],
      "execution_count": null,
      "outputs": [
        {
          "output_type": "execute_result",
          "data": {
            "text/plain": [
              "Text(0, 0.5, 'Y Co-ordinate')"
            ]
          },
          "metadata": {
            "tags": []
          },
          "execution_count": 215
        },
        {
          "output_type": "display_data",
          "data": {
            "image/png": "[encoded data removed]",
            "text/plain": [
              "<Figure size 432x288 with 1 Axes>"
            ]
          },
          "metadata": {
            "tags": [],
            "needs_background": "light"
          }
        }
      ]
    },
    {
      "cell_type": "code",
      "metadata": {
        "colab": {
          "base_uri": "https://localhost:8080/",
          "height": 295
        },
        "id": "Gi9sC0uv8uSS",
        "outputId": "de2de99e-769a-4ca8-d512-69793c91aa4c"
      },
      "source": [
        "#### d) Please express the data in polar coordinates.  \n",
        "# Convert to the polar coordinates\n",
        "df = pd.DataFrame(columns=['radius','theta'])\n",
        "df['radius'] = np.sqrt(trainData['x']**2 + trainData['y']**2)\n",
        "df['theta'] = np.arctan2(trainData['y'], trainData['x'])\n",
        "\n",
        "def customArcTan (z):\n",
        "    theta = np.where(z < 0.0, 2.0*np.pi+z, z)\n",
        "    return (theta)\n",
        "\n",
        "df['theta'] = df['theta'].apply(customArcTan)\n",
        "\n",
        "# Build Support Vector Machine classifier\n",
        "df['Class'] = trainData['SpectralCluster']\n",
        "carray = ['red','blue']\n",
        "\n",
        "for i in range(2):\n",
        "    subdata = df[df[\"Class\"]==i]\n",
        "    plt.scatter(subdata.radius,subdata.theta,label = (i),c = carray[i])\n",
        "\n",
        "plt.legend(title = 'Group',loc = 'best', bbox_to_anchor = (1, 1))\n",
        "plt.title(\"Scatterplot in polar coordination\")\n",
        "plt.xlabel(\"Radius\")\n",
        "plt.ylabel(\"Theta\")\n",
        "\n",
        "plt.grid(True)\n",
        "plt.show()"
      ],
      "execution_count": null,
      "outputs": [
        {
          "output_type": "display_data",
          "data": {
            "image/png": "[encoded data removed]",
            "text/plain": [
              "<Figure size 432x288 with 1 Axes>"
            ]
          },
          "metadata": {
            "tags": [],
            "needs_background": "light"
          }
        }
      ]
    },
    {
      "cell_type": "code",
      "metadata": {
        "colab": {
          "base_uri": "https://localhost:8080/",
          "height": 295
        },
        "id": "EfpZDDeX_M85",
        "outputId": "d2805fcb-e6d2-4e54-99c4-f5ea4aade49c"
      },
      "source": [
        "#### e)\n",
        "radius = df['radius']\n",
        "theta = df['theta'].apply(customArcTan)\n",
        "df_e = pd.DataFrame(columns=['Radius','Theta'])\n",
        "df_e['Radius']=radius\n",
        "df_e['Theta']=theta\n",
        "\n",
        "group =[]\n",
        "for i in range(len(radius)):\n",
        "    if radius[i] < 1.5 and theta[i]>6.0:\n",
        "      group.append(0)\n",
        "\n",
        "    elif radius[i] < 2.5 and theta[i]>3:\n",
        "      group.append(1)\n",
        "\n",
        "    elif 2.5<radius[i] < 2.75 and theta[i]>5:\n",
        "      group.append(1)\n",
        "\n",
        "    elif 2.5< radius[i] < 3 and 2< theta[i]<4:\n",
        "      group.append(2)\n",
        "\n",
        "    elif 2.5< radius[i]  and theta[i]<3.1:\n",
        "      group.append(3)   \n",
        "\n",
        "    elif radius[i] < 4.0:\n",
        "      group.append(2)\n",
        "         \n",
        "\n",
        "carray4 = ['red','blue', 'green', 'black']\n",
        "df_e['Class']=group\n",
        "\n",
        "for i in range(4):\n",
        "    subdata = df_e[df_e[\"Class\"]==i]\n",
        "    plt.scatter(x=subdata.Radius, y=subdata.Theta,label = (i),c = carray4[i])\n",
        "plt.grid(True)\n",
        "plt.legend(title = 'Group',loc = 'best', bbox_to_anchor = (1, 1))\n",
        "plt.title(\"Scatterplot theta-coordinate against the radius-coordinate\")\n",
        "plt.xlabel(\"Radius\")\n",
        "plt.ylabel(\"Theta\")\n",
        "plt.show()"
      ],
      "execution_count": null,
      "outputs": [
        {
          "output_type": "display_data",
          "data": {
            "image/png": "[encoded data removed]",
            "text/plain": [
              "<Figure size 432x288 with 1 Axes>"
            ]
          },
          "metadata": {
            "tags": [],
            "needs_background": "light"
          }
        }
      ]
    },
    {
      "cell_type": "code",
      "metadata": {
        "colab": {
          "base_uri": "https://localhost:8080/",
          "height": 397
        },
        "id": "JjlqAlvKMD_V",
        "outputId": "9a4e6483-1688-408e-fcc8-21055a113574"
      },
      "source": [
        "#### f)\n",
        "# SVM 0: Group 0 versus Group 1\n",
        "svm_0 = svm.SVC(kernel = 'linear', decision_function_shape = 'ovr',\n",
        "                    random_state = 20210325, max_iter = -1)\n",
        "x = df_e[df_e['Class'] == 0]\n",
        "x = x.append(df_e[df_e['Class']==1])\n",
        "df_f = x[['Radius','Theta']]\n",
        "svm_0.fit(df_f,x.Class)\n",
        "\n",
        "# get the separating hyperplane\n",
        "xx = np.linspace(1,2)\n",
        "w = svm_0.coef_[0]\n",
        "a = -w[0] / w[1]\n",
        "yy = a * xx - (svm_0.intercept_[0]) / w[1]\n",
        "\n",
        "#hyperplanes.\n",
        "print(\"Hyperplane formulas\")\n",
        "print (\"SVM 0:\" , svm_0.intercept_[0], \" + (\", w[0], \") X +(\" ,w[1],\") Y = 0\")\n",
        "\n",
        "h0_xx = xx * np.cos(yy[:])\n",
        "h0_yy = xx * np.sin(yy[:])\n",
        "\n",
        "plt.plot(xx, yy, 'k--')\n",
        "\n",
        "# SVM 1: Group 1 versus Group 2\n",
        "svm_0 = svm.SVC(kernel = 'linear', decision_function_shape = 'ovr',\n",
        "                    random_state = 20210325, max_iter = -1)\n",
        "x = df_e[df_e['Class'] == 1]\n",
        "x = x.append(df_e[df_e['Class']==2])\n",
        "df_f = x[['Radius','Theta']]\n",
        "svm_0.fit(df_f,x.Class)\n",
        "\n",
        "# get the separating hyperplane\n",
        "xx = np.linspace(1,4)\n",
        "w = svm_0.coef_[0]\n",
        "a = -w[0] / w[1]\n",
        "yy = a * xx - (svm_0.intercept_[0]) / w[1]\n",
        "\n",
        "#hyperplanes.\n",
        "print (\"SVM 1:\" , svm_0.intercept_[0], \" + (\", w[0], \") X +(\" ,w[1],\") Y = 0\")\n",
        "\n",
        "h1_xx = xx * np.cos(yy[:])\n",
        "h1_yy = xx * np.sin(yy[:])\n",
        "\n",
        "plt.plot(xx, yy, 'k--')\n",
        "\n",
        "# SVM 2: Group 2 versus Group 3\n",
        "svm_0 = svm.SVC(kernel = 'linear', decision_function_shape = 'ovr',\n",
        "                    random_state = 20210325, max_iter = -1)\n",
        "x = df_e[df_e['Class'] == 2]\n",
        "x = x.append(df_e[df_e['Class']==3])\n",
        "df_f = x[['Radius','Theta']]\n",
        "svm_0.fit(df_f,x.Class)\n",
        "\n",
        "# get the separating hyperplane\n",
        "xx = np.linspace(2,4.6)\n",
        "w = svm_0.coef_[0]\n",
        "a = -w[0] / w[1]\n",
        "yy = a * xx - (svm_0.intercept_[0]) / w[1]\n",
        "\n",
        "#hyperplanes.\n",
        "print (\"SVM 2:\" , svm_0.intercept_[0], \" + (\", w[0], \") X +(\" ,w[1],\") Y = 0\")\n",
        "\n",
        "h2_xx = xx * np.cos(yy[:])\n",
        "h2_yy = xx * np.sin(yy[:])\n",
        "\n",
        "plt.plot(xx, yy, 'k--')\n",
        "print(\"\\n\")\n",
        "for i in range(4):\n",
        "    subdata = df_e[df_e[\"Class\"]==i]\n",
        "    plt.scatter(x=subdata.Radius, y=subdata.Theta,label = (i),c = carray4[i])\n",
        "plt.grid(True)\n",
        "plt.legend(title = 'Group',loc = 'best', bbox_to_anchor = (1, 1))\n",
        "plt.title(\"theta-cordinate against the raius-cordinate in a scatterplot with hyperplanes\")\n",
        "plt.xlabel(\"Radius\")\n",
        "plt.ylabel(\"Theta\")\n",
        "plt.show()"
      ],
      "execution_count": null,
      "outputs": [
        {
          "output_type": "stream",
          "text": [
            "Hyperplane formulas\n",
            "SVM 0: 1.4691250777389275  + ( 0.933784147085173 ) X +( -0.45380248720594835 ) Y = 0\n",
            "SVM 1: -0.8768942577875997  + ( 1.8920953263166829 ) X +( -0.8961324867551237 ) Y = 0\n",
            "SVM 2: -4.132844878075682  + ( 2.012583547086879 ) X +( -0.8375616435865432 ) Y = 0\n",
            "\n",
            "\n"
          ],
          "name": "stdout"
        },
        {
          "output_type": "display_data",
          "data": {
            "image/png": "[encoded data removed]",
            "text/plain": [
              "<Figure size 432x288 with 1 Axes>"
            ]
          },
          "metadata": {
            "tags": [],
            "needs_background": "light"
          }
        }
      ]
    },
    {
      "cell_type": "code",
      "metadata": {
        "colab": {
          "base_uri": "https://localhost:8080/",
          "height": 312
        },
        "id": "IfLxjl76MNb_",
        "outputId": "b97c1e3d-9ac9-45b3-93b0-91bb01706896"
      },
      "source": [
        "#### g) \n",
        "#plot the theta-coordinate against the radius-coordinate in a scatterplot\n",
        "carray = ['red', 'blue']\n",
        "plt.figure(figsize=(10,10))\n",
        "fig, ax = plt.subplots(1, 1)\n",
        "ax.grid(b=True, which='major')\n",
        "\n",
        "for i in range(2):\n",
        "    subData = trainData[trainData['SpectralCluster'] == i]\n",
        "    plt.scatter(x = subData['x'],\n",
        "                y = subData['y'], c = carray[i], label = (i))\n",
        "    \n",
        "plt.plot(h0_xx, h0_yy, color = 'black', linestyle = '--')\n",
        "plt.plot(h1_xx, h1_yy, color = 'black', linestyle = '--')\n",
        "plt.plot(h2_xx, h2_yy, color = 'black', linestyle = '--')\n",
        "plt.grid(True)\n",
        "plt.title(' The y-coordinate against the x-coordinate in a scatterplot.')\n",
        "plt.xlabel('x-coordinate')\n",
        "plt.ylabel('y-coordinate ')\n",
        "plt.legend(title = 'Predicted Class', loc = 'best', bbox_to_anchor = (1, 1), fontsize = 14)\n",
        "plt.show()\n"
      ],
      "execution_count": null,
      "outputs": [
        {
          "output_type": "display_data",
          "data": {
            "text/plain": [
              "<Figure size 720x720 with 0 Axes>"
            ]
          },
          "metadata": {
            "tags": []
          }
        },
        {
          "output_type": "display_data",
          "data": {
            "image/png": "[encoded data removed]",
            "text/plain": [
              "<Figure size 432x288 with 1 Axes>"
            ]
          },
          "metadata": {
            "tags": [],
            "needs_background": "light"
          }
        }
      ]
    }
  ]
}