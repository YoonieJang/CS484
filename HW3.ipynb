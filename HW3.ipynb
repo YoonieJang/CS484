{
  "nbformat": 4,
  "nbformat_minor": 0,
  "metadata": {
    "colab": {
      "name": "HW3.ipynb",
      "provenance": [],
      "collapsed_sections": [
        "0Kio6yMXqqlB"
      ],
      "authorship_tag": "ABX9TyO8z4n8y/dU78EhsBwHZ/Qu",
      "include_colab_link": true
    },
    "kernelspec": {
      "name": "python3",
      "display_name": "Python 3"
    }
  },
  "cells": [
    {
      "cell_type": "markdown",
      "metadata": {
        "id": "view-in-github",
        "colab_type": "text"
      },
      "source": [
        "<a href=\"https://colab.research.google.com/github/YoonieJang/CS484/blob/main/HW3.ipynb\" target=\"_parent\"><img src=\"https://colab.research.google.com/assets/colab-badge.svg\" alt=\"Open In Colab\"/></a>"
      ]
    },
    {
      "cell_type": "code",
      "metadata": {
        "id": "oLZ-u26qfcCW"
      },
      "source": [
        "import numpy as np\n",
        "import pandas as pd\n",
        "from sklearn.model_selection import train_test_split\n",
        "import matplotlib.pyplot as plt\n",
        "import math\n",
        "import sklearn.metrics as metrics\n",
        "from itertools import combinations\n",
        "from google.colab import files\n",
        "import io\n",
        "pd.options.mode.chained_assignment = None  # default='warn'\n"
      ],
      "execution_count": null,
      "outputs": []
    },
    {
      "cell_type": "markdown",
      "metadata": {
        "id": "0Kio6yMXqqlB"
      },
      "source": [
        "### Question 2"
      ]
    },
    {
      "cell_type": "code",
      "metadata": {
        "colab": {
          "resources": {
            "http://localhost:8080/nbextensions/google.colab/files.js": {
              "data": "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",
              "ok": true,
              "headers": [
                [
                  "content-type",
                  "application/javascript"
                ]
              ],
              "status": 200,
              "status_text": ""
            }
          },
          "base_uri": "https://localhost:8080/",
          "height": 72
        },
        "id": "HZ8OnG60h2Rf",
        "outputId": "0a673a45-346e-4c14-bd6f-ea36fdd1c5ee"
      },
      "source": [
        "uploaded = files.upload()\n",
        "df = pd.read_csv(io.BytesIO(uploaded['claim_history.csv']))"
      ],
      "execution_count": null,
      "outputs": [
        {
          "output_type": "display_data",
          "data": {
            "text/html": [
              "\n",
              "     <input type=\"file\" id=\"files-ed401df1-4fb5-443b-992b-9a3352580513\" name=\"files[]\" multiple disabled\n",
              "        style=\"border:none\" />\n",
              "     <output id=\"result-ed401df1-4fb5-443b-992b-9a3352580513\">\n",
              "      Upload widget is only available when the cell has been executed in the\n",
              "      current browser session. Please rerun this cell to enable.\n",
              "      </output>\n",
              "      <script src=\"/nbextensions/google.colab/files.js\"></script> "
            ],
            "text/plain": [
              "<IPython.core.display.HTML object>"
            ]
          },
          "metadata": {
            "tags": []
          }
        },
        {
          "output_type": "stream",
          "text": [
            "Saving claim_history.csv to claim_history.csv\n"
          ],
          "name": "stdout"
        }
      ]
    },
    {
      "cell_type": "code",
      "metadata": {
        "id": "qkHAcnSRkpLY"
      },
      "source": [
        "#Feature selection\n",
        "features=df[[\"CAR_TYPE\",\"OCCUPATION\",\"EDUCATION\"]]\n",
        "\n",
        "train_data, test_data = train_test_split(df,test_size = 0.3, random_state=60616, stratify = df[\"CAR_USE\"])"
      ],
      "execution_count": null,
      "outputs": []
    },
    {
      "cell_type": "code",
      "metadata": {
        "id": "r9cPFa0SqN2r"
      },
      "source": [
        "#Ordinal order\n",
        "train_data['EDUCATION'] = train_data['EDUCATION'].map(\n",
        "    {'Below High School': 0, 'High School': 1, 'Bachelors': 2, 'Masters': 3, 'Doctors': 4})\n",
        "test_data['EDUCATION'] = test_data['EDUCATION'].map(\n",
        "    {'Below High School': 0, 'High School': 1, 'Bachelors': 2, 'Masters': 3, 'Doctors': 4})"
      ],
      "execution_count": null,
      "outputs": []
    },
    {
      "cell_type": "code",
      "metadata": {
        "colab": {
          "base_uri": "https://localhost:8080/"
        },
        "id": "RDQ5YhALqdk2",
        "outputId": "cfbfff67-676c-465b-9303-19e09e6e411b"
      },
      "source": [
        "#a)What is the entropy value of the root node?\n",
        "count = 0\n",
        "for i in df[\"CAR_USE\"]:\n",
        "    if i == \"Commercial\":\n",
        "       count +=1\n",
        "proba_commercial = count/len(df[\"CAR_USE\"])\n",
        "\n",
        "proba_private = (len(df[\"CAR_USE\"])-count)/len(df[\"CAR_USE\"])\n",
        "\n",
        "root_entropy = -((proba_commercial * np.log2(proba_commercial) + proba_private * np.log2(proba_private)))\n",
        "print(\"The entropy value of the root node is\",root_entropy)"
      ],
      "execution_count": null,
      "outputs": [
        {
          "output_type": "stream",
          "text": [
            "The entropy value of the root node is 0.9489621493401781\n"
          ],
          "name": "stdout"
        }
      ]
    },
    {
      "cell_type": "code",
      "metadata": {
        "id": "8v0V_ORft5ZJ"
      },
      "source": [
        "def split(data, split = 1, typ = 'EO', subset = None): \n",
        "    # splits according to the parameter\n",
        "    if typ == 'EO':\n",
        "        data['LE_Split'] = (data.iloc[:,0] <= split)\n",
        "    elif typ == 'EN':\n",
        "        data['LE_Split'] = data.iloc[:, 0].apply(lambda x: True if x in subset else False)\n",
        "    crossTable = pd.crosstab(index=data['LE_Split'], \n",
        "                              columns=data.iloc[:, 1], margins=True, \n",
        "                              dropna=True)\n",
        "   #print(crossTable)\n",
        "    nRows = crossTable.shape[0]\n",
        "    nColumns = crossTable.shape[1]\n",
        "   \n",
        "    tableEntropy = 0\n",
        "    for iRow in range(nRows-1):\n",
        "      rowEntropy = 0\n",
        "      for iColumn in range(nColumns):\n",
        "          proportion = crossTable.iloc[iRow,iColumn] / crossTable.iloc[iRow,(nColumns-1)]\n",
        "          if (proportion > 0):\n",
        "            rowEntropy -= proportion * np.log2(proportion)\n",
        "      tableEntropy += rowEntropy *  crossTable.iloc[iRow,(nColumns-1)]\n",
        "    tableEntropy = tableEntropy /  crossTable.iloc[(nRows-1),(nColumns-1)]\n",
        "  \n",
        "    return crossTable, tableEntropy\n"
      ],
      "execution_count": null,
      "outputs": []
    },
    {
      "cell_type": "code",
      "metadata": {
        "id": "AaWRxAcjvW5-"
      },
      "source": [
        "def MinOrdinalEntropy(data, intervals):\n",
        "    min_entropy = 999999999.99999999999\n",
        "    min_interval = None\n",
        "    min_table = None\n",
        "    # tries out all splits possible and finds the min\n",
        "    for i in range(intervals[0], intervals[len(intervals) - 1]):\n",
        "        cur_table, cur_entropy = split(data, i + 0.5, typ = 'EO')\n",
        "        if cur_entropy < min_entropy:\n",
        "            min_entropy = cur_entropy\n",
        "            min_interval = i + 0.5\n",
        "            min_table = cur_table\n",
        "    return min_entropy, min_interval\n",
        "\n",
        "def MinNominalEntropy(data, sett):\n",
        "  \n",
        "    subset_map = {}\n",
        "    # tries out all combinations\n",
        "    for i in range(1, (int(len(sett) / 2)) + 1):\n",
        "        subsets = combinations(sett, i)\n",
        "        for ss in subsets:\n",
        "            remaining = tuple()\n",
        "            for ele in sett:\n",
        "                if ele not in ss:\n",
        "                    remaining += (ele,)\n",
        "            if subset_map.get(remaining) == None:\n",
        "                subset_map[ss] = remaining\n",
        "    min_entropy = 9999999.9999999\n",
        "    min_subset1 = min_subset2 = min_table = None\n",
        "    for subset_total in subset_map:\n",
        "        table, entropy = split(data, typ = 'EN', subset = subset_total)\n",
        "        if entropy < min_entropy:\n",
        "            min_entropy = entropy\n",
        "            min_subset1 = subset_total\n",
        "            min_subset2 = subset_map.get(subset_total)\n",
        "            min_table = table\n",
        "    return min_entropy, min_subset1, min_subset2"
      ],
      "execution_count": null,
      "outputs": []
    },
    {
      "cell_type": "code",
      "metadata": {
        "id": "6qIl7Yhm84J0"
      },
      "source": [
        "def calculate_min_entropy(df,variable,combinations):\n",
        "    inData1 = df[[variable,\"CAR_USE\"]]\n",
        "    entropies = []\n",
        "    for i in combinations:\n",
        "        EV = split(inData1, list(i),typ = 'EO')\n",
        "        entropies.append((EV,i))\n",
        "    return min(entropies)"
      ],
      "execution_count": null,
      "outputs": []
    },
    {
      "cell_type": "code",
      "metadata": {
        "colab": {
          "base_uri": "https://localhost:8080/"
        },
        "id": "gYDpdl32pRl2",
        "outputId": "55d231df-55cf-4ff0-8413-e87a6e1f89e5"
      },
      "source": [
        "#b)List the optimal split (i.e., feature name, values in the two branches, and the split entropy ) for all three features in the first layer.\n",
        "entropy_education = MinOrdinalEntropy(train_data[['EDUCATION','CAR_USE']],[0,1,2,3,4])\n",
        "entropy_education"
      ],
      "execution_count": null,
      "outputs": [
        {
          "output_type": "execute_result",
          "data": {
            "text/plain": [
              "(0.9353838400305854, 0.5)"
            ]
          },
          "metadata": {
            "tags": []
          },
          "execution_count": 50
        }
      ]
    },
    {
      "cell_type": "code",
      "metadata": {
        "colab": {
          "base_uri": "https://localhost:8080/"
        },
        "id": "XeNIyK-k7C2n",
        "outputId": "2f649f0c-12e2-445f-abec-87e674ba78de"
      },
      "source": [
        "entropy_car_type = MinNominalEntropy(train_data[['CAR_TYPE', 'CAR_USE']],['Minivan', 'Panel Truck', 'Pickup', 'SUV', \n",
        "                                            'Sports Car', 'Van'])\n",
        "entropy_car_type"
      ],
      "execution_count": null,
      "outputs": [
        {
          "output_type": "execute_result",
          "data": {
            "text/plain": [
              "(0.7666250073253262,\n",
              " ('Minivan', 'SUV', 'Sports Car'),\n",
              " ('Panel Truck', 'Pickup', 'Van'))"
            ]
          },
          "metadata": {
            "tags": []
          },
          "execution_count": 51
        }
      ]
    },
    {
      "cell_type": "code",
      "metadata": {
        "colab": {
          "base_uri": "https://localhost:8080/"
        },
        "id": "0l_qAldt-y3G",
        "outputId": "0cd822a3-9214-40a0-e4dc-d49a7afac628"
      },
      "source": [
        "entropy_occupation = MinNominalEntropy(train_data[['OCCUPATION','CAR_USE']],\n",
        "                                 ['Blue Collar', 'Clerical', 'Doctor', 'Home Maker','Lawyer', 'Manager', 'Professional', 'Student', 'Unknown'])\n",
        "entropy_occupation"
      ],
      "execution_count": null,
      "outputs": [
        {
          "output_type": "execute_result",
          "data": {
            "text/plain": [
              "(0.7193463163551073,\n",
              " ('Blue Collar', 'Student', 'Unknown'),\n",
              " ('Clerical', 'Doctor', 'Home Maker', 'Lawyer', 'Manager', 'Professional'))"
            ]
          },
          "metadata": {
            "tags": []
          },
          "execution_count": 52
        }
      ]
    },
    {
      "cell_type": "code",
      "metadata": {
        "colab": {
          "base_uri": "https://localhost:8080/"
        },
        "id": "8W7LGQZXZkZF",
        "outputId": "b252e8d3-adeb-4435-b766-61a729f56df7"
      },
      "source": [
        "print(\"Car type entropy:\",entropy_car_type, \n",
        "      \"\\nOccupation entropy:\",entropy_occupation,\n",
        "      \"\\nEducation entropy:\",entropy_education)"
      ],
      "execution_count": null,
      "outputs": [
        {
          "output_type": "stream",
          "text": [
            "Car type entropy: (0.7666250073253262, ('Minivan', 'SUV', 'Sports Car'), ('Panel Truck', 'Pickup', 'Van')) \n",
            "Occupation entropy: (0.7193463163551073, ('Blue Collar', 'Student', 'Unknown'), ('Clerical', 'Doctor', 'Home Maker', 'Lawyer', 'Manager', 'Professional')) \n",
            "Education entropy: (0.9353838400305854, 0.5)\n"
          ],
          "name": "stdout"
        }
      ]
    },
    {
      "cell_type": "markdown",
      "metadata": {
        "id": "tENO5kVgBW3m"
      },
      "source": [
        "##### c) Which feature is selected for splitting in the first layer?  \n",
        "When I compare three features in the first layer, the entropy splitted by occupation is the lowest. The optimal split for all three features in the first layer would be Occupation with 2 branches: ['Blue Collar', 'Student', 'Unknown'] and ['Clerical', 'Doctor', 'Home Maker', 'Lawyer', 'Manager', 'Professional']"
      ]
    },
    {
      "cell_type": "markdown",
      "metadata": {
        "id": "p9ZxdVIvCLWw"
      },
      "source": [
        "##### d) Which features are selected for splitting in the second layer?  What are the values in the branches of the second layer? \n"
      ]
    },
    {
      "cell_type": "code",
      "metadata": {
        "id": "dTFQdr3ODIQJ"
      },
      "source": [
        "train_layer1_left = train_data[(train_data[\"OCCUPATION\"] == \"Blue Collar\") | \n",
        "                               (train_data[\"OCCUPATION\"] == \"Unknown\") | \n",
        "                               (train_data[\"OCCUPATION\"] == \"Student\")]\n",
        "train_layer1_right =  train_data[(train_data[\"OCCUPATION\"] != \"Blue Collar\") & \n",
        "                                 (train_data[\"OCCUPATION\"] != \"Unknown\") & \n",
        "                                 (train_data[\"OCCUPATION\"] != \"Student\")]"
      ],
      "execution_count": null,
      "outputs": []
    },
    {
      "cell_type": "code",
      "metadata": {
        "colab": {
          "base_uri": "https://localhost:8080/"
        },
        "id": "B3ZfV6myD3bS",
        "outputId": "3fc74256-d660-4208-bb85-df275960eee9"
      },
      "source": [
        "left_layer1_car_type = MinNominalEntropy(train_layer1_left[['CAR_TYPE', 'CAR_USE']],\n",
        "                                  ['Minivan', 'Panel Truck', 'Pickup', 'SUV','Sports Car', 'Van'])\n",
        "left_layer1_car_type"
      ],
      "execution_count": null,
      "outputs": [
        {
          "output_type": "execute_result",
          "data": {
            "text/plain": [
              "(0.7751126066962271,\n",
              " ('Minivan', 'SUV', 'Sports Car'),\n",
              " ('Panel Truck', 'Pickup', 'Van'))"
            ]
          },
          "metadata": {
            "tags": []
          },
          "execution_count": 55
        }
      ]
    },
    {
      "cell_type": "code",
      "metadata": {
        "colab": {
          "base_uri": "https://localhost:8080/"
        },
        "id": "l27ivhXsRkcg",
        "outputId": "b42c2737-e5b5-4d18-bf89-c2c2aca8d0cf"
      },
      "source": [
        "left_layer1_occupation = MinNominalEntropy(train_layer1_left[['OCCUPATION', 'CAR_USE']],\n",
        "                                  ['Blue Collar','Student','Unknown'])\n",
        "left_layer1_occupation"
      ],
      "execution_count": null,
      "outputs": [
        {
          "output_type": "execute_result",
          "data": {
            "text/plain": [
              "(0.8054718032426555, ('Student',), ('Blue Collar', 'Unknown'))"
            ]
          },
          "metadata": {
            "tags": []
          },
          "execution_count": 56
        }
      ]
    },
    {
      "cell_type": "code",
      "metadata": {
        "colab": {
          "base_uri": "https://localhost:8080/"
        },
        "id": "SwR-o8TGR7v7",
        "outputId": "bede94eb-c354-46bb-b675-96dd752ba4b1"
      },
      "source": [
        "left_layer1_education = MinOrdinalEntropy(train_layer1_left[['EDUCATION','CAR_USE']],[0,1,2,3,4])\n",
        "left_layer1_education"
      ],
      "execution_count": null,
      "outputs": [
        {
          "output_type": "execute_result",
          "data": {
            "text/plain": [
              "(0.6789590813062101, 0.5)"
            ]
          },
          "metadata": {
            "tags": []
          },
          "execution_count": 57
        }
      ]
    },
    {
      "cell_type": "code",
      "metadata": {
        "colab": {
          "base_uri": "https://localhost:8080/"
        },
        "id": "8l7cjY8aSEpb",
        "outputId": "f9fc44b4-9d55-44c8-a361-c89d52994913"
      },
      "source": [
        "right_layer1_car_type = MinNominalEntropy(train_layer1_right[['CAR_TYPE', 'CAR_USE']],\n",
        "                                  ['Minivan', 'Panel Truck', 'Pickup', 'SUV','Sports Car', 'Van'])\n",
        "right_layer1_car_type"
      ],
      "execution_count": null,
      "outputs": [
        {
          "output_type": "execute_result",
          "data": {
            "text/plain": [
              "(0.3358099954089214,\n",
              " ('Minivan', 'SUV', 'Sports Car'),\n",
              " ('Panel Truck', 'Pickup', 'Van'))"
            ]
          },
          "metadata": {
            "tags": []
          },
          "execution_count": 58
        }
      ]
    },
    {
      "cell_type": "code",
      "metadata": {
        "colab": {
          "base_uri": "https://localhost:8080/"
        },
        "id": "9afY3VELSKKf",
        "outputId": "2bfc8589-d0e5-4d74-96ef-5942f35a5c1c"
      },
      "source": [
        "right_layer1_occupation = MinNominalEntropy(train_layer1_right[['OCCUPATION', 'CAR_USE']],\n",
        "                                  ['Clerical', 'Doctor', 'Home Maker','Lawyer', 'Manager', 'Professional'])\n",
        "right_layer1_occupation"
      ],
      "execution_count": null,
      "outputs": [
        {
          "output_type": "execute_result",
          "data": {
            "text/plain": [
              "(0.5757772820977519,\n",
              " ('Clerical', 'Manager', 'Professional'),\n",
              " ('Doctor', 'Home Maker', 'Lawyer'))"
            ]
          },
          "metadata": {
            "tags": []
          },
          "execution_count": 59
        }
      ]
    },
    {
      "cell_type": "code",
      "metadata": {
        "colab": {
          "base_uri": "https://localhost:8080/"
        },
        "id": "F2_07ha9SaRO",
        "outputId": "641d4586-515b-4414-ece0-2ff1cd95d809"
      },
      "source": [
        "right_layer1_education = MinOrdinalEntropy(train_layer1_right[['EDUCATION','CAR_USE']],[0,1,2,3,4])\n",
        "right_layer1_education"
      ],
      "execution_count": null,
      "outputs": [
        {
          "output_type": "execute_result",
          "data": {
            "text/plain": [
              "(0.6267253367279664, 2.5)"
            ]
          },
          "metadata": {
            "tags": []
          },
          "execution_count": 60
        }
      ]
    },
    {
      "cell_type": "code",
      "metadata": {
        "colab": {
          "base_uri": "https://localhost:8080/"
        },
        "id": "1-2CEURiShco",
        "outputId": "6bee258b-3f51-4e72-db3a-9324baebfdff"
      },
      "source": [
        "print('Left Splitted')\n",
        "print(\"Car type entropy:\",left_layer1_car_type[0], \n",
        "      \"\\nOccupation entropy:\",left_layer1_occupation[0],\n",
        "      \"\\nEducation entropy:\",left_layer1_education[0])\n",
        "print('\\nRight Splitted')\n",
        "print(\"Car type entropy:\",right_layer1_car_type[0], \n",
        "      \"\\nOccupation entropy:\",right_layer1_occupation[0],\n",
        "      \"\\nEducation entropy:\",right_layer1_education[0])"
      ],
      "execution_count": null,
      "outputs": [
        {
          "output_type": "stream",
          "text": [
            "Left Splitted\n",
            "Car type entropy: 0.7751126066962271 \n",
            "Occupation entropy: 0.8054718032426555 \n",
            "Education entropy: 0.6789590813062101\n",
            "\n",
            "Right Splitted\n",
            "Car type entropy: 0.3358099954089214 \n",
            "Occupation entropy: 0.5757772820977519 \n",
            "Education entropy: 0.6267253367279664\n"
          ],
          "name": "stdout"
        }
      ]
    },
    {
      "cell_type": "code",
      "metadata": {
        "colab": {
          "base_uri": "https://localhost:8080/"
        },
        "id": "X2XqJLjWTbYh",
        "outputId": "2b415013-d4e0-4c75-f613-965d85fe82fe"
      },
      "source": [
        "print('Education will be selected on the first layer of left split with 2 branches:(Below High School), (High School, Bachelors,Masters,Doctors)')\n",
        "print('Car type will be selected on the first layer of right split with 2 branches:',right_layer1_car_type[1],right_layer1_car_type[2])\n"
      ],
      "execution_count": null,
      "outputs": [
        {
          "output_type": "stream",
          "text": [
            "Education will be selected on the first layer of left split with 2 branches:(Below High School), (High School, Bachelors,Masters,Doctors)\n",
            "Car type will be selected on the first layer of right split with 2 branches: ('Minivan', 'SUV', 'Sports Car') ('Panel Truck', 'Pickup', 'Van')\n"
          ],
          "name": "stdout"
        }
      ]
    },
    {
      "cell_type": "code",
      "metadata": {
        "colab": {
          "base_uri": "https://localhost:8080/"
        },
        "id": "7SCEjaKfBWTy",
        "outputId": "25fbcd9f-d639-4d7f-c1f0-845238ccbb29"
      },
      "source": [
        "leave1 = train_layer1_left[train_layer1_left['EDUCATION'] <= right_layer1_education[0]]\n",
        "print(\"Leave 1 (left to left)\")\n",
        "print(\"Decision rule: \", \"Occupation with\", entropy_occupation[1], '-> EDUCATION Level: Below High School')\n",
        "print(\"Counts of the target categories:\", leave1.shape[0])\n",
        "print(\"Commercial:\",leave1.groupby('CAR_USE').size()['Commercial'])\n",
        "print(\"Private:\",leave1.groupby('CAR_USE').size()['Private'])\n",
        "print(\"Predicted probabilities for CAR_USE for commercial:\",leave1.groupby('CAR_USE').size()['Commercial']/leave1.shape[0])"
      ],
      "execution_count": null,
      "outputs": [
        {
          "output_type": "stream",
          "text": [
            "Leave 1 (left to left)\n",
            "Decision rule:  Occupation with ('Blue Collar', 'Student', 'Unknown') -> EDUCATION Level: Below High School\n",
            "Counts of the target categories: 578\n",
            "Commercial: 155\n",
            "Private: 423\n",
            "Predicted probabilities for CAR_USE for commercial: 0.2681660899653979\n"
          ],
          "name": "stdout"
        }
      ]
    },
    {
      "cell_type": "code",
      "metadata": {
        "colab": {
          "base_uri": "https://localhost:8080/"
        },
        "id": "oByZqNQ5U05r",
        "outputId": "7e37a6f6-fd43-4473-8e25-3a84cb3f723e"
      },
      "source": [
        "leave2 = train_layer1_left[train_layer1_left['EDUCATION'] > right_layer1_education[0]]\n",
        "print(\"Leave 2 (left to right)\")\n",
        "print(\"Decision rule: \", \"Occupation with\", entropy_occupation[1], '-> EDUCATION Level: High School, Bachelors,Masters,Doctors')\n",
        "print(\"Counts of the target categories:\", leave2.shape[0])\n",
        "print(\"Commercial:\",leave2.groupby('CAR_USE').size()['Commercial'])\n",
        "print(\"Private:\",leave2.groupby('CAR_USE').size()['Private'])\n",
        "print(\"Predicted probabilities for CAR_USE for commercial:\",leave2.groupby('CAR_USE').size()['Commercial']/leave2.shape[0])"
      ],
      "execution_count": null,
      "outputs": [
        {
          "output_type": "stream",
          "text": [
            "Leave 2 (left to right)\n",
            "Decision rule:  Occupation with ('Blue Collar', 'Student', 'Unknown') -> EDUCATION Level: High School, Bachelors,Masters,Doctors\n",
            "Counts of the target categories: 2108\n",
            "Commercial: 1770\n",
            "Private: 338\n",
            "Predicted probabilities for CAR_USE for commercial: 0.8396584440227703\n"
          ],
          "name": "stdout"
        }
      ]
    },
    {
      "cell_type": "code",
      "metadata": {
        "colab": {
          "base_uri": "https://localhost:8080/"
        },
        "id": "ausCGdcRWWRe",
        "outputId": "c931a0d0-a210-4bb6-9e9c-d6334d929ee8"
      },
      "source": [
        "leave3 = train_layer1_right[train_layer1_right['CAR_TYPE'].isin(right_layer1_car_type[1])]\n",
        "print(\"Leave 3 (right to left)\")\n",
        "print(\"Decision rule: \", \"Occupation with\", entropy_occupation[2], '-> Car type:',right_layer1_car_type[1])\n",
        "print(\"Counts of the target categories:\", leave3.shape[0])\n",
        "print(\"Commercial:\",leave3.groupby('CAR_USE').size()['Commercial'])\n",
        "print(\"Private:\",leave3.groupby('CAR_USE').size()['Private'])\n",
        "print(\"Predicted probabilities for CAR_USE for commercial:\",leave3.groupby('CAR_USE').size()['Commercial']/leave3.shape[0])"
      ],
      "execution_count": null,
      "outputs": [
        {
          "output_type": "stream",
          "text": [
            "Leave 3 (right to left)\n",
            "Decision rule:  Occupation with ('Clerical', 'Doctor', 'Home Maker', 'Lawyer', 'Manager', 'Professional') -> Car type: ('Minivan', 'SUV', 'Sports Car')\n",
            "Counts of the target categories: 3225\n",
            "Commercial: 27\n",
            "Private: 3198\n",
            "Predicted probabilities for CAR_USE for commercial: 0.008372093023255815\n"
          ],
          "name": "stdout"
        }
      ]
    },
    {
      "cell_type": "code",
      "metadata": {
        "colab": {
          "base_uri": "https://localhost:8080/"
        },
        "id": "MvWKCnmtXbsk",
        "outputId": "30cd7d74-8677-4319-b330-61c192901edd"
      },
      "source": [
        "leave4 = train_layer1_right[train_layer1_right['CAR_TYPE'].isin(right_layer1_car_type[2])]\n",
        "print(\"Leave 4 (right to right)\")\n",
        "print(\"Decision rule: \", \"Occupation with\", entropy_occupation[2], '-> Car type:',right_layer1_car_type[2])\n",
        "print(\"Counts of the target categories:\", leave4.shape[0])\n",
        "print(\"Commercial:\",leave4.groupby('CAR_USE').size()['Commercial'])\n",
        "print(\"Private:\",leave4.groupby('CAR_USE').size()['Private'])\n",
        "print(\"Predicted probabilities for CAR_USE for commercial:\",leave4.groupby('CAR_USE').size()['Commercial']/leave4.shape[0])"
      ],
      "execution_count": null,
      "outputs": [
        {
          "output_type": "stream",
          "text": [
            "Leave 4 (right to right)\n",
            "Decision rule:  Occupation with ('Clerical', 'Doctor', 'Home Maker', 'Lawyer', 'Manager', 'Professional') -> Car type: ('Panel Truck', 'Pickup', 'Van')\n",
            "Counts of the target categories: 1300\n",
            "Commercial: 700\n",
            "Private: 600\n",
            "Predicted probabilities for CAR_USE for commercial: 0.5384615384615384\n"
          ],
          "name": "stdout"
        }
      ]
    },
    {
      "cell_type": "markdown",
      "metadata": {
        "id": "hyIhc6y4-yqJ"
      },
      "source": [
        "### Question 3"
      ]
    },
    {
      "cell_type": "code",
      "metadata": {
        "id": "WE2wH1RiffhG"
      },
      "source": [
        "import matplotlib.pyplot as plt\n",
        "import numpy\n",
        "import pandas as pd\n",
        "import scipy\n",
        "import statsmodels.api as stats"
      ],
      "execution_count": null,
      "outputs": []
    },
    {
      "cell_type": "code",
      "metadata": {
        "colab": {
          "resources": {
            "http://localhost:8080/nbextensions/google.colab/files.js": {
              "data": "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",
              "ok": true,
              "headers": [
                [
                  "content-type",
                  "application/javascript"
                ]
              ],
              "status": 200,
              "status_text": ""
            }
          },
          "base_uri": "https://localhost:8080/",
          "height": 72
        },
        "id": "ErSyNADZfW8w",
        "outputId": "d8baae52-02ff-4392-8270-3efa79e58db7"
      },
      "source": [
        "import io\n",
        "uploaded = files.upload()\n",
        "df2 = pd.read_csv(io.BytesIO(uploaded['sample_v10.csv']))\n",
        "trainData = df2.dropna()"
      ],
      "execution_count": null,
      "outputs": [
        {
          "output_type": "display_data",
          "data": {
            "text/html": [
              "\n",
              "     <input type=\"file\" id=\"files-566270ab-826d-41ab-94c1-d411ebecaa4a\" name=\"files[]\" multiple disabled\n",
              "        style=\"border:none\" />\n",
              "     <output id=\"result-566270ab-826d-41ab-94c1-d411ebecaa4a\">\n",
              "      Upload widget is only available when the cell has been executed in the\n",
              "      current browser session. Please rerun this cell to enable.\n",
              "      </output>\n",
              "      <script src=\"/nbextensions/google.colab/files.js\"></script> "
            ],
            "text/plain": [
              "<IPython.core.display.HTML object>"
            ]
          },
          "metadata": {
            "tags": []
          }
        },
        {
          "output_type": "stream",
          "text": [
            "Saving sample_v10.csv to sample_v10 (1).csv\n"
          ],
          "name": "stdout"
        }
      ]
    },
    {
      "cell_type": "code",
      "metadata": {
        "colab": {
          "base_uri": "https://localhost:8080/"
        },
        "id": "LkBWRsgxn7yd",
        "outputId": "4963e735-a78e-4c8b-bae3-61523a7941b8"
      },
      "source": [
        "#a) frequency table\n",
        "FreqTable = pd.crosstab(index=trainData['y'],columns=[\"Frequency\"],margins = True, dropna = True)\n",
        "FreqTable= FreqTable.drop(columns='All')\n",
        "print(\"Frequency Table\")\n",
        "print(FreqTable)"
      ],
      "execution_count": null,
      "outputs": [
        {
          "output_type": "stream",
          "text": [
            "Frequency Table\n",
            "col_0  Frequency\n",
            "y               \n",
            "1           2274\n",
            "2           3532\n",
            "3           4194\n",
            "All        10000\n"
          ],
          "name": "stdout"
        }
      ]
    },
    {
      "cell_type": "code",
      "metadata": {
        "id": "CcQyNgU3kETC"
      },
      "source": [
        "# Rename the columns\n",
        "# Specify y as a categorical variable\n",
        "Origin = df2['y'].astype('category')\n",
        "y = Origin\n",
        "y_category = y.cat.categories\n",
        "catFeature = ['x1','x2','x3','x4','x5','x6','x7','x8','x9','x10']"
      ],
      "execution_count": null,
      "outputs": []
    },
    {
      "cell_type": "code",
      "metadata": {
        "colab": {
          "base_uri": "https://localhost:8080/"
        },
        "id": "Qsoa89fPnxLi",
        "outputId": "bc682968-36b0-4bdc-92bc-7208c3e7a45c"
      },
      "source": [
        "#b)\n",
        "# Backward Selection\n",
        "# Consider Model 0 is y = intercept + x1 + x2+ x3 + x4 + x5 + x6 + x7 + x8 + x9 + x10\n",
        "DriveTrain = df2[['x1']]\n",
        "X = pd.get_dummies(DriveTrain)\n",
        "X = X.join(df2[['x2','x3','x4','x5','x6','x7','x8','x9','x10']])\n",
        "X = stats.add_constant(X, prepend=True)\n",
        "DF1 = numpy.linalg.matrix_rank(X) * (len(y_category) - 1)\n",
        "\n",
        "logit = stats.MNLogit(y, X)\n",
        "thisFit = logit.fit(method='newton', full_output = True, maxiter = 100, tol = 1e-8)\n",
        "thisParameter = thisFit.params\n",
        "LLK1 = logit.loglike(thisParameter.values)\n",
        "NSample = len(y)\n",
        "print(thisFit.summary())\n",
        "print(\"\\nInitial model: y = intercept + x1+x2+x3+x4+x5+x6+x7+x8+x9+x10 \")\n",
        "print(\"Model Log-Likelihood Value =\", LLK1)\n",
        "print(\"Number of Free Parameters =\", DF1)\n",
        "\n",
        "AIC = 2.0*DF1 - 2.0*LLK1\n",
        "BIC = DF1 *np.log(NSample) - 2.0 * LLK1\n",
        "print(\"\\n\\nAIC:\",AIC,\"\\nBIC:\",BIC)"
      ],
      "execution_count": null,
      "outputs": [
        {
          "output_type": "stream",
          "text": [
            "Optimization terminated successfully.\n",
            "         Current function value: 0.195606\n",
            "         Iterations 10\n",
            "                          MNLogit Regression Results                          \n",
            "==============================================================================\n",
            "Dep. Variable:                      y   No. Observations:                10000\n",
            "Model:                        MNLogit   Df Residuals:                     9978\n",
            "Method:                           MLE   Df Model:                           20\n",
            "Date:                Tue, 09 Mar 2021   Pseudo R-squ.:                  0.8170\n",
            "Time:                        01:44:16   Log-Likelihood:                -1956.1\n",
            "converged:                       True   LL-Null:                       -10688.\n",
            "Covariance Type:            nonrobust   LLR p-value:                     0.000\n",
            "==============================================================================\n",
            "       y=2       coef    std err          z      P>|z|      [0.025      0.975]\n",
            "------------------------------------------------------------------------------\n",
            "const          1.0165      0.087     11.636      0.000       0.845       1.188\n",
            "x1            -1.1172      0.058    -19.343      0.000      -1.230      -1.004\n",
            "x2            -0.0175      0.026     -0.669      0.503      -0.069       0.034\n",
            "x3             0.0103      0.018      0.586      0.558      -0.024       0.045\n",
            "x4            -1.5573      0.041    -38.103      0.000      -1.637      -1.477\n",
            "x5             0.0030      0.010      0.287      0.774      -0.018       0.024\n",
            "x6             0.0163      0.009      1.822      0.068      -0.001       0.034\n",
            "x7         -1.268e-07      0.007   -1.7e-05      1.000      -0.015       0.015\n",
            "x8            -0.0134      0.007     -2.028      0.043      -0.026      -0.000\n",
            "x9             0.0076      0.006      1.315      0.189      -0.004       0.019\n",
            "x10            0.0072      0.009      0.804      0.421      -0.010       0.025\n",
            "------------------------------------------------------------------------------\n",
            "       y=3       coef    std err          z      P>|z|      [0.025      0.975]\n",
            "------------------------------------------------------------------------------\n",
            "const          0.4041      0.106      3.817      0.000       0.197       0.612\n",
            "x1            -1.1685      0.071    -16.354      0.000      -1.309      -1.028\n",
            "x2             0.0002      0.033      0.005      0.996      -0.064       0.064\n",
            "x3            -0.0009      0.022     -0.041      0.968      -0.045       0.043\n",
            "x4            -0.0218      0.027     -0.794      0.427      -0.075       0.032\n",
            "x5            -0.0088      0.013     -0.671      0.503      -0.034       0.017\n",
            "x6             0.0004      0.011      0.038      0.970      -0.021       0.022\n",
            "x7            -0.0017      0.010     -0.179      0.858      -0.021       0.017\n",
            "x8            -0.0072      0.008     -0.867      0.386      -0.024       0.009\n",
            "x9             0.0024      0.007      0.324      0.746      -0.012       0.017\n",
            "x10            1.3464      0.038     35.838      0.000       1.273       1.420\n",
            "==============================================================================\n",
            "\n",
            "Initial model: y = intercept + x1+x2+x3+x4+x5+x6+x7+x8+x9+x10 \n",
            "Model Log-Likelihood Value = -1956.055139748098\n",
            "Number of Free Parameters = 22\n",
            "\n",
            "\n",
            "AIC: 3956.110279496196 \n",
            "BIC: 4114.737767679672\n"
          ],
          "name": "stdout"
        }
      ]
    },
    {
      "cell_type": "code",
      "metadata": {
        "colab": {
          "base_uri": "https://localhost:8080/"
        },
        "id": "Cllz7RhiqTEl",
        "outputId": "12a122f3-d418-4c79-b476-6f71a48e2347"
      },
      "source": [
        "# Consider Model is y = intercept + x2+ x3 + x4 + x5 + x6 + x7 + x8 + x9 + x10\n",
        "DriveTrain = df2[['x2']]\n",
        "X = pd.get_dummies(DriveTrain)\n",
        "X = X.join(df2[['x3','x4','x5','x6','x7','x8','x9','x10']])\n",
        "X = stats.add_constant(X, prepend=True)\n",
        "DF0 = numpy.linalg.matrix_rank(X) * (len(y_category) - 1)\n",
        "\n",
        "logit = stats.MNLogit(y, X)\n",
        "thisFit = logit.fit(method='newton', full_output = True, maxiter = 100, tol = 1e-8)\n",
        "thisParameter = thisFit.params\n",
        "LLK0 = logit.loglike(thisParameter.values)\n",
        "\n",
        "Deviance = 2 * (LLK1 - LLK0)\n",
        "DF = DF1 - DF0\n",
        "pValue = scipy.stats.chi2.sf(Deviance, DF)\n",
        "\n",
        "print(thisFit.summary())\n",
        "print(\"Removed feature: x1\")\n",
        "print(\"Model Log-Likelihood Value =\", LLK0)\n",
        "print(\"Number of Free Parameters =\", DF0)\n",
        "print(\"Deviance Test Statistic: \", Deviance,\"\\nDeviance Degree of Freedom: \",DF,\"\\nDeviance Significance Value: \", pValue)\n",
        "\n",
        "AIC = 2.0*DF0 - 2.0*LLK0\n",
        "BIC = DF0 *np.log(NSample) - 2.0 * LLK0\n",
        "print(\"\\nAIC:\",AIC,\"\\nBIC:\",BIC)"
      ],
      "execution_count": null,
      "outputs": [
        {
          "output_type": "stream",
          "text": [
            "Optimization terminated successfully.\n",
            "         Current function value: 0.222527\n",
            "         Iterations 10\n",
            "                          MNLogit Regression Results                          \n",
            "==============================================================================\n",
            "Dep. Variable:                      y   No. Observations:                10000\n",
            "Model:                        MNLogit   Df Residuals:                     9980\n",
            "Method:                           MLE   Df Model:                           18\n",
            "Date:                Tue, 09 Mar 2021   Pseudo R-squ.:                  0.7918\n",
            "Time:                        01:44:24   Log-Likelihood:                -2225.3\n",
            "converged:                       True   LL-Null:                       -10688.\n",
            "Covariance Type:            nonrobust   LLR p-value:                     0.000\n",
            "==============================================================================\n",
            "       y=2       coef    std err          z      P>|z|      [0.025      0.975]\n",
            "------------------------------------------------------------------------------\n",
            "const          0.7927      0.079     10.042      0.000       0.638       0.947\n",
            "x2            -0.0118      0.025     -0.482      0.630      -0.060       0.036\n",
            "x3             0.0050      0.016      0.307      0.759      -0.027       0.037\n",
            "x4            -1.3543      0.034    -39.540      0.000      -1.421      -1.287\n",
            "x5            -0.0024      0.010     -0.244      0.807      -0.022       0.017\n",
            "x6             0.0165      0.008      1.991      0.046       0.000       0.033\n",
            "x7             0.0010      0.007      0.147      0.883      -0.013       0.015\n",
            "x8            -0.0112      0.006     -1.821      0.069      -0.023       0.001\n",
            "x9             0.0056      0.005      1.037      0.300      -0.005       0.016\n",
            "x10            0.0025      0.008      0.301      0.763      -0.014       0.019\n",
            "------------------------------------------------------------------------------\n",
            "       y=3       coef    std err          z      P>|z|      [0.025      0.975]\n",
            "------------------------------------------------------------------------------\n",
            "const          0.1804      0.098      1.842      0.066      -0.012       0.372\n",
            "x2             0.0014      0.031      0.045      0.964      -0.060       0.063\n",
            "x3             0.0052      0.021      0.247      0.805      -0.036       0.046\n",
            "x4             0.0129      0.025      0.509      0.611      -0.037       0.062\n",
            "x5            -0.0120      0.012     -0.972      0.331      -0.036       0.012\n",
            "x6             0.0021      0.010      0.200      0.841      -0.018       0.023\n",
            "x7            -0.0022      0.009     -0.242      0.808      -0.020       0.015\n",
            "x8            -0.0063      0.008     -0.808      0.419      -0.022       0.009\n",
            "x9             0.0012      0.007      0.168      0.866      -0.013       0.015\n",
            "x10            1.2128      0.033     36.446      0.000       1.148       1.278\n",
            "==============================================================================\n",
            "Removed feature: x1\n",
            "Model Log-Likelihood Value = -2225.2713497027926\n",
            "Number of Free Parameters = 20\n",
            "Deviance Test Statistic:  538.432419909389 \n",
            "Deviance Degree of Freedom:  2 \n",
            "Deviance Significance Value:  1.2047184950796933e-117\n",
            "\n",
            "AIC: 4490.542699405585 \n",
            "BIC: 4634.749506845109\n"
          ],
          "name": "stdout"
        }
      ]
    },
    {
      "cell_type": "code",
      "metadata": {
        "colab": {
          "base_uri": "https://localhost:8080/"
        },
        "id": "koZ2PNu9wQkz",
        "outputId": "c2936436-58cd-4d04-8b45-2a963d37df71"
      },
      "source": [
        "# Consider Model 1 is y = intercept + x1 + x3 + x4 + x5 + x6 + x7 + x8 + x9 + x10\n",
        "DriveTrain = df2[['x3']]\n",
        "X = pd.get_dummies(DriveTrain)\n",
        "X = X.join(df2[['x1','x4','x5','x6','x7','x8','x9','x10']])\n",
        "X = stats.add_constant(X, prepend=True)\n",
        "DF2 = numpy.linalg.matrix_rank(X) * (len(y_category) - 1)\n",
        "\n",
        "logit = stats.MNLogit(y, X)\n",
        "thisFit = logit.fit(method='newton', full_output = True, maxiter = 100, tol = 1e-8)\n",
        "thisParameter = thisFit.params\n",
        "LLK2 = logit.loglike(thisParameter.values)\n",
        "\n",
        "Deviance = 2 * (LLK1 - LLK2)\n",
        "DF = DF1 - DF0\n",
        "pValue = scipy.stats.chi2.sf(Deviance, DF)\n",
        "\n",
        "print(thisFit.summary())\n",
        "print(\"Removed feature: x2\")\n",
        "print(\"Model Log-Likelihood Value =\", LLK2)\n",
        "print(\"Number of Free Parameters =\", DF2)\n",
        "print(\"Deviance (Test Statistic: \", Deviance, \") Deviance (Degree of Freedom: \",DF,\") Deviance (Significance Value: \", pValue,\")\")\n",
        "\n",
        "AIC = 2.0*DF2 - 2.0*LLK2\n",
        "BIC = DF2 *np.log(NSample) - 2.0 * LLK2\n",
        "print(\"\\nAIC:\",AIC,\"\\nBIC:\",BIC)"
      ],
      "execution_count": null,
      "outputs": [
        {
          "output_type": "stream",
          "text": [
            "Optimization terminated successfully.\n",
            "         Current function value: 0.195633\n",
            "         Iterations 10\n",
            "                          MNLogit Regression Results                          \n",
            "==============================================================================\n",
            "Dep. Variable:                      y   No. Observations:                10000\n",
            "Model:                        MNLogit   Df Residuals:                     9980\n",
            "Method:                           MLE   Df Model:                           18\n",
            "Date:                Tue, 09 Mar 2021   Pseudo R-squ.:                  0.8170\n",
            "Time:                        01:44:39   Log-Likelihood:                -1956.3\n",
            "converged:                       True   LL-Null:                       -10688.\n",
            "Covariance Type:            nonrobust   LLR p-value:                     0.000\n",
            "==============================================================================\n",
            "       y=2       coef    std err          z      P>|z|      [0.025      0.975]\n",
            "------------------------------------------------------------------------------\n",
            "const          1.0166      0.087     11.637      0.000       0.845       1.188\n",
            "x3             0.0105      0.018      0.597      0.551      -0.024       0.045\n",
            "x1            -1.1166      0.058    -19.343      0.000      -1.230      -1.003\n",
            "x4            -1.5573      0.041    -38.111      0.000      -1.637      -1.477\n",
            "x5             0.0030      0.010      0.288      0.773      -0.018       0.024\n",
            "x6             0.0160      0.009      1.796      0.073      -0.001       0.033\n",
            "x7         -6.834e-05      0.007     -0.009      0.993      -0.015       0.015\n",
            "x8            -0.0136      0.007     -2.059      0.040      -0.027      -0.001\n",
            "x9             0.0076      0.006      1.318      0.187      -0.004       0.019\n",
            "x10            0.0074      0.009      0.822      0.411      -0.010       0.025\n",
            "------------------------------------------------------------------------------\n",
            "       y=3       coef    std err          z      P>|z|      [0.025      0.975]\n",
            "------------------------------------------------------------------------------\n",
            "const          0.4052      0.106      3.831      0.000       0.198       0.613\n",
            "x3            -0.0010      0.022     -0.044      0.965      -0.045       0.043\n",
            "x1            -1.1684      0.071    -16.355      0.000      -1.308      -1.028\n",
            "x4            -0.0220      0.027     -0.803      0.422      -0.076       0.032\n",
            "x5            -0.0086      0.013     -0.660      0.509      -0.034       0.017\n",
            "x6             0.0003      0.011      0.029      0.977      -0.022       0.022\n",
            "x7            -0.0017      0.010     -0.181      0.856      -0.021       0.017\n",
            "x8            -0.0072      0.008     -0.860      0.390      -0.024       0.009\n",
            "x9             0.0026      0.007      0.345      0.730      -0.012       0.017\n",
            "x10            1.3464      0.038     35.843      0.000       1.273       1.420\n",
            "==============================================================================\n",
            "Removed feature: x2\n",
            "Model Log-Likelihood Value = -1956.3310606384975\n",
            "Number of Free Parameters = 20\n",
            "Deviance (Test Statistic:  0.5518417807988953 ) Deviance (Degree of Freedom:  2 ) Deviance (Significance Value:  0.7588729625236008 )\n",
            "\n",
            "AIC: 3952.662121276995 \n",
            "BIC: 4096.868928716519\n"
          ],
          "name": "stdout"
        }
      ]
    },
    {
      "cell_type": "code",
      "metadata": {
        "colab": {
          "base_uri": "https://localhost:8080/"
        },
        "id": "uHJtuOb21F-e",
        "outputId": "da933bf0-94e3-4668-fc5f-09d6591a76ba"
      },
      "source": [
        "# Consider Model 1 is y = intercept + x1 + x2 + x4 + x5 + x6 + x7 + x8 + x9 + x10\n",
        "DriveTrain = df2[['x4']]\n",
        "X = pd.get_dummies(DriveTrain)\n",
        "X = X.join(df2[['x1','x2','x5','x6','x7','x8','x9','x10']])\n",
        "X = stats.add_constant(X, prepend=True)\n",
        "DF3 = numpy.linalg.matrix_rank(X) * (len(y_category) - 1)\n",
        "\n",
        "logit = stats.MNLogit(y, X)\n",
        "thisFit = logit.fit(method='newton', full_output = True, maxiter = 100, tol = 1e-8)\n",
        "thisParameter = thisFit.params\n",
        "LLK3 = logit.loglike(thisParameter.values)\n",
        "\n",
        "Deviance = 2 * (LLK1 - LLK3)\n",
        "DF = DF1 - DF3\n",
        "pValue = scipy.stats.chi2.sf(Deviance, DF)\n",
        "\n",
        "print(thisFit.summary())\n",
        "print(\"Removed feature: x3\")\n",
        "print(\"Model Log-Likelihood Value =\", LLK3)\n",
        "print(\"Number of Free Parameters =\", DF3)\n",
        "print(\"Deviance (Test Statistic: \", Deviance, \") Deviance (Degree of Freedom: \",DF,\") Deviance (Significance Value: \", pValue,\")\")\n",
        "\n",
        "AIC = 2.0*DF3 - 2.0*LLK3\n",
        "BIC = DF3 *np.log(NSample) - 2.0 * LLK3\n",
        "print(\"\\nAIC:\",AIC,\"\\nBIC:\",BIC)"
      ],
      "execution_count": null,
      "outputs": [
        {
          "output_type": "stream",
          "text": [
            "Optimization terminated successfully.\n",
            "         Current function value: 0.195628\n",
            "         Iterations 10\n",
            "                          MNLogit Regression Results                          \n",
            "==============================================================================\n",
            "Dep. Variable:                      y   No. Observations:                10000\n",
            "Model:                        MNLogit   Df Residuals:                     9980\n",
            "Method:                           MLE   Df Model:                           18\n",
            "Date:                Tue, 09 Mar 2021   Pseudo R-squ.:                  0.8170\n",
            "Time:                        01:44:56   Log-Likelihood:                -1956.3\n",
            "converged:                       True   LL-Null:                       -10688.\n",
            "Covariance Type:            nonrobust   LLR p-value:                     0.000\n",
            "==============================================================================\n",
            "       y=2       coef    std err          z      P>|z|      [0.025      0.975]\n",
            "------------------------------------------------------------------------------\n",
            "const          1.0166      0.087     11.637      0.000       0.845       1.188\n",
            "x4            -1.5570      0.041    -38.105      0.000      -1.637      -1.477\n",
            "x1            -1.1163      0.058    -19.338      0.000      -1.229      -1.003\n",
            "x2            -0.0178      0.026     -0.679      0.497      -0.069       0.034\n",
            "x5             0.0030      0.010      0.285      0.775      -0.018       0.024\n",
            "x6             0.0161      0.009      1.807      0.071      -0.001       0.034\n",
            "x7          4.723e-06      0.007      0.001      0.999      -0.015       0.015\n",
            "x8            -0.0133      0.007     -2.011      0.044      -0.026      -0.000\n",
            "x9             0.0077      0.006      1.332      0.183      -0.004       0.019\n",
            "x10            0.0073      0.009      0.806      0.420      -0.010       0.025\n",
            "------------------------------------------------------------------------------\n",
            "       y=3       coef    std err          z      P>|z|      [0.025      0.975]\n",
            "------------------------------------------------------------------------------\n",
            "const          0.4036      0.106      3.812      0.000       0.196       0.611\n",
            "x4            -0.0217      0.027     -0.790      0.429      -0.075       0.032\n",
            "x1            -1.1679      0.071    -16.351      0.000      -1.308      -1.028\n",
            "x2             0.0002      0.033      0.007      0.994      -0.064       0.064\n",
            "x5            -0.0088      0.013     -0.675      0.500      -0.035       0.017\n",
            "x6             0.0003      0.011      0.023      0.982      -0.022       0.022\n",
            "x7            -0.0018      0.010     -0.191      0.849      -0.021       0.017\n",
            "x8            -0.0073      0.008     -0.876      0.381      -0.024       0.009\n",
            "x9             0.0024      0.007      0.322      0.748      -0.012       0.017\n",
            "x10            1.3466      0.038     35.846      0.000       1.273       1.420\n",
            "==============================================================================\n",
            "Removed feature: x3\n",
            "Model Log-Likelihood Value = -1956.2803627435144\n",
            "Number of Free Parameters = 20\n",
            "Deviance (Test Statistic:  0.4504459908325771 ) Deviance (Degree of Freedom:  2 ) Deviance (Significance Value:  0.7983381731551762 )\n",
            "\n",
            "AIC: 3952.560725487029 \n",
            "BIC: 4096.767532926552\n"
          ],
          "name": "stdout"
        }
      ]
    },
    {
      "cell_type": "code",
      "metadata": {
        "colab": {
          "base_uri": "https://localhost:8080/"
        },
        "id": "YCewsPrM3HX9",
        "outputId": "4d1ba625-b952-4c7d-f0f3-b22a3190bda3"
      },
      "source": [
        "# Consider Model 1 is y = intercept + x1 + x2+ x3 + x5 + x6 + x7 + x8 + x9 + x10\n",
        "DriveTrain = df2[['x5']]\n",
        "X = pd.get_dummies(DriveTrain)\n",
        "X = X.join(df2[['x1','x2','x3','x6','x7','x8','x9','x10']])\n",
        "X = stats.add_constant(X, prepend=True)\n",
        "DF4 = numpy.linalg.matrix_rank(X) * (len(y_category) - 1)\n",
        "\n",
        "logit = stats.MNLogit(y, X)\n",
        "thisFit = logit.fit(method='newton', full_output = True, maxiter = 100, tol = 1e-8)\n",
        "thisParameter = thisFit.params\n",
        "LLK4 = logit.loglike(thisParameter.values)\n",
        "\n",
        "Deviance = 2 * (LLK1 - LLK4)\n",
        "DF = DF1 - DF4\n",
        "pValue = scipy.stats.chi2.sf(Deviance, DF)\n",
        "print(thisFit.summary())\n",
        "print(\"Removed feature: x4\")\n",
        "print(\"Model Log-Likelihood Value =\", LLK4)\n",
        "print(\"Number of Free Parameters =\", DF4)\n",
        "print(\"Deviance (Statistic, DF, Significance)\", Deviance, DF, pValue)\n",
        "AIC = 2.0*DF4 - 2.0*LLK4\n",
        "BIC = DF4 *np.log(NSample) - 2.0 * LLK4\n",
        "print(\"\\nAIC:\",AIC,\"\\nBIC:\",BIC)"
      ],
      "execution_count": null,
      "outputs": [
        {
          "output_type": "stream",
          "text": [
            "Optimization terminated successfully.\n",
            "         Current function value: 0.578049\n",
            "         Iterations 9\n",
            "                          MNLogit Regression Results                          \n",
            "==============================================================================\n",
            "Dep. Variable:                      y   No. Observations:                10000\n",
            "Model:                        MNLogit   Df Residuals:                     9980\n",
            "Method:                           MLE   Df Model:                           18\n",
            "Date:                Tue, 09 Mar 2021   Pseudo R-squ.:                  0.4592\n",
            "Time:                        01:46:23   Log-Likelihood:                -5780.5\n",
            "converged:                       True   LL-Null:                       -10688.\n",
            "Covariance Type:            nonrobust   LLR p-value:                     0.000\n",
            "==============================================================================\n",
            "       y=2       coef    std err          z      P>|z|      [0.025      0.975]\n",
            "------------------------------------------------------------------------------\n",
            "const          0.8534      0.040     21.090      0.000       0.774       0.933\n",
            "x5             0.0028      0.006      0.498      0.619      -0.008       0.014\n",
            "x1            -0.3963      0.029    -13.793      0.000      -0.453      -0.340\n",
            "x2            -0.0123      0.014     -0.890      0.373      -0.039       0.015\n",
            "x3            -0.0038      0.009     -0.410      0.682      -0.022       0.014\n",
            "x6             0.0123      0.005      2.624      0.009       0.003       0.021\n",
            "x7            -0.0031      0.004     -0.792      0.428      -0.011       0.005\n",
            "x8            -0.0012      0.003     -0.337      0.736      -0.008       0.006\n",
            "x9            -0.0020      0.003     -0.643      0.520      -0.008       0.004\n",
            "x10            0.0570      0.004     13.459      0.000       0.049       0.065\n",
            "------------------------------------------------------------------------------\n",
            "       y=3       coef    std err          z      P>|z|      [0.025      0.975]\n",
            "------------------------------------------------------------------------------\n",
            "const          0.0763      0.054      1.403      0.161      -0.030       0.183\n",
            "x5            -0.0070      0.009     -0.787      0.431      -0.024       0.010\n",
            "x1            -0.5151      0.045    -11.336      0.000      -0.604      -0.426\n",
            "x2            -0.0124      0.022     -0.562      0.574      -0.056       0.031\n",
            "x3            -0.0063      0.015     -0.427      0.669      -0.035       0.023\n",
            "x6             0.0139      0.007      1.869      0.062      -0.001       0.028\n",
            "x7            -0.0006      0.006     -0.101      0.920      -0.013       0.012\n",
            "x8            -0.0082      0.005     -1.501      0.133      -0.019       0.003\n",
            "x9            -0.0011      0.005     -0.212      0.832      -0.011       0.009\n",
            "x10            0.6208      0.014     44.463      0.000       0.593       0.648\n",
            "==============================================================================\n",
            "Removed feature: x4\n",
            "Model Log-Likelihood Value = -5780.4943649849465\n",
            "Number of Free Parameters = 20\n",
            "Deviance (Statistic, DF, Significance) 7648.878450473697 2 0.0\n",
            "\n",
            "AIC: 11600.988729969893 \n",
            "BIC: 11745.195537409416\n"
          ],
          "name": "stdout"
        }
      ]
    },
    {
      "cell_type": "code",
      "metadata": {
        "colab": {
          "base_uri": "https://localhost:8080/"
        },
        "id": "x4B_TUvs3MYO",
        "outputId": "680696f7-3838-4069-bc04-86711b2075ac"
      },
      "source": [
        "# Consider Model 1 is y = intercept + x1 + x2+ x3 + x4 + x6 + x7 + x8 + x9 + x10\n",
        "DriveTrain = df2[['x6']]\n",
        "X =pd.get_dummies(DriveTrain)\n",
        "X = X.join(df2[['x1','x2','x3','x4','x7','x8','x9','x10']])\n",
        "X = stats.add_constant(X, prepend=True)\n",
        "DF5 = numpy.linalg.matrix_rank(X) * (len(y_category) - 1)\n",
        "\n",
        "logit = stats.MNLogit(y, X)\n",
        "thisFit = logit.fit(method='newton', full_output = True, maxiter = 100, tol = 1e-8)\n",
        "thisParameter = thisFit.params\n",
        "LLK5 = logit.loglike(thisParameter.values)\n",
        "\n",
        "Deviance = 2 * (LLK1 - LLK5)\n",
        "DF = DF1 - DF5\n",
        "pValue = scipy.stats.chi2.sf(Deviance, DF)\n",
        "print(thisFit.summary())\n",
        "print(\"Removed feature: x5\")\n",
        "print(\"Model Log-Likelihood Value =\", LLK5)\n",
        "print(\"Number of Free Parameters =\", DF5)\n",
        "print(\"Deviance (Statistic, DF, Significance)\", Deviance, DF, pValue)\n",
        "\n",
        "AIC = 2.0*DF5 - 2.0*LLK5\n",
        "BIC = DF5 *np.log(NSample) - 2.0 * LLK5\n",
        "print(\"\\nAIC:\",AIC,\"\\nBIC:\",BIC)"
      ],
      "execution_count": null,
      "outputs": [
        {
          "output_type": "stream",
          "text": [
            "Optimization terminated successfully.\n",
            "         Current function value: 0.195647\n",
            "         Iterations 10\n",
            "                          MNLogit Regression Results                          \n",
            "==============================================================================\n",
            "Dep. Variable:                      y   No. Observations:                10000\n",
            "Model:                        MNLogit   Df Residuals:                     9980\n",
            "Method:                           MLE   Df Model:                           18\n",
            "Date:                Tue, 09 Mar 2021   Pseudo R-squ.:                  0.8169\n",
            "Time:                        01:47:22   Log-Likelihood:                -1956.5\n",
            "converged:                       True   LL-Null:                       -10688.\n",
            "Covariance Type:            nonrobust   LLR p-value:                     0.000\n",
            "==============================================================================\n",
            "       y=2       coef    std err          z      P>|z|      [0.025      0.975]\n",
            "------------------------------------------------------------------------------\n",
            "const          1.0167      0.087     11.644      0.000       0.846       1.188\n",
            "x6             0.0163      0.009      1.822      0.068      -0.001       0.034\n",
            "x1            -1.1170      0.058    -19.345      0.000      -1.230      -1.004\n",
            "x2            -0.0175      0.026     -0.666      0.505      -0.069       0.034\n",
            "x3             0.0103      0.018      0.590      0.555      -0.024       0.045\n",
            "x4            -1.5579      0.041    -38.118      0.000      -1.638      -1.478\n",
            "x7         -7.559e-05      0.007     -0.010      0.992      -0.015       0.015\n",
            "x8            -0.0135      0.007     -2.031      0.042      -0.026      -0.000\n",
            "x9             0.0077      0.006      1.329      0.184      -0.004       0.019\n",
            "x10            0.0072      0.009      0.805      0.421      -0.010       0.025\n",
            "------------------------------------------------------------------------------\n",
            "       y=3       coef    std err          z      P>|z|      [0.025      0.975]\n",
            "------------------------------------------------------------------------------\n",
            "const          0.4084      0.106      3.866      0.000       0.201       0.615\n",
            "x6            -0.0001      0.011     -0.010      0.992      -0.022       0.022\n",
            "x1            -1.1680      0.071    -16.360      0.000      -1.308      -1.028\n",
            "x2            -0.0005      0.033     -0.015      0.988      -0.065       0.064\n",
            "x3            -0.0009      0.022     -0.041      0.967      -0.045       0.043\n",
            "x4            -0.0226      0.027     -0.827      0.408      -0.076       0.031\n",
            "x7            -0.0019      0.010     -0.196      0.844      -0.021       0.017\n",
            "x8            -0.0072      0.008     -0.868      0.385      -0.024       0.009\n",
            "x9             0.0024      0.007      0.319      0.750      -0.012       0.017\n",
            "x10            1.3456      0.038     35.864      0.000       1.272       1.419\n",
            "==============================================================================\n",
            "Removed feature: x5\n",
            "Model Log-Likelihood Value = -1956.4701936937226\n",
            "Number of Free Parameters = 20\n",
            "Deviance (Statistic, DF, Significance) 0.8301078912490993 2 0.6603046591969457\n",
            "\n",
            "AIC: 3952.9403873874453 \n",
            "BIC: 4097.147194826969\n"
          ],
          "name": "stdout"
        }
      ]
    },
    {
      "cell_type": "code",
      "metadata": {
        "colab": {
          "base_uri": "https://localhost:8080/"
        },
        "id": "LrheLmnM3NnE",
        "outputId": "9a73b967-3a84-456b-dbdc-b400d6aeb08b"
      },
      "source": [
        "# Consider Model 1 is y = intercept + x1 + x2+ x3 + x4 + x5 + x7 + x8 + x9 + x10\n",
        "DriveTrain = df2[['x7']]\n",
        "X = pd.get_dummies(DriveTrain)\n",
        "X = X.join(df2[['x1','x2','x3','x4','x5','x8','x9','x10']])\n",
        "X = stats.add_constant(X, prepend=True)\n",
        "DF6 = numpy.linalg.matrix_rank(X) * (len(y_category) - 1)\n",
        "\n",
        "logit = stats.MNLogit(y, X)\n",
        "thisFit = logit.fit(method='newton', full_output = True, maxiter = 100, tol = 1e-8)\n",
        "thisParameter = thisFit.params\n",
        "LLK6 = logit.loglike(thisParameter.values)\n",
        "\n",
        "Deviance = 2 * (LLK1 - LLK6)\n",
        "DF = DF1 - DF6\n",
        "pValue = scipy.stats.chi2.sf(Deviance, DF)\n",
        "print(thisFit.summary())\n",
        "print(\"Removed value: x6\")\n",
        "print(\"Model Log-Likelihood Value =\", LLK6)\n",
        "print(\"Number of Free Parameters =\", DF6)\n",
        "print(\"Deviance (Statistic, DF, Significance)\", Deviance, DF, pValue)\n",
        "\n",
        "AIC = 2.0*DF6 - 2.0*LLK6\n",
        "BIC = DF6 *np.log(NSample) - 2.0 * LLK6\n",
        "print(\"\\nAIC:\",AIC,\"\\nBIC:\",BIC)"
      ],
      "execution_count": null,
      "outputs": [
        {
          "output_type": "stream",
          "text": [
            "Optimization terminated successfully.\n",
            "         Current function value: 0.195808\n",
            "         Iterations 10\n",
            "                          MNLogit Regression Results                          \n",
            "==============================================================================\n",
            "Dep. Variable:                      y   No. Observations:                10000\n",
            "Model:                        MNLogit   Df Residuals:                     9980\n",
            "Method:                           MLE   Df Model:                           18\n",
            "Date:                Tue, 09 Mar 2021   Pseudo R-squ.:                  0.8168\n",
            "Time:                        01:48:08   Log-Likelihood:                -1958.1\n",
            "converged:                       True   LL-Null:                       -10688.\n",
            "Covariance Type:            nonrobust   LLR p-value:                     0.000\n",
            "==============================================================================\n",
            "       y=2       coef    std err          z      P>|z|      [0.025      0.975]\n",
            "------------------------------------------------------------------------------\n",
            "const          1.0175      0.087     11.654      0.000       0.846       1.189\n",
            "x7            -0.0006      0.007     -0.075      0.940      -0.015       0.014\n",
            "x1            -1.1183      0.058    -19.357      0.000      -1.232      -1.005\n",
            "x2            -0.0155      0.026     -0.591      0.555      -0.067       0.036\n",
            "x3             0.0093      0.017      0.532      0.595      -0.025       0.044\n",
            "x4            -1.5571      0.041    -38.123      0.000      -1.637      -1.477\n",
            "x5             0.0032      0.010      0.305      0.760      -0.017       0.024\n",
            "x8            -0.0131      0.007     -1.979      0.048      -0.026      -0.000\n",
            "x9             0.0076      0.006      1.320      0.187      -0.004       0.019\n",
            "x10            0.0075      0.009      0.839      0.401      -0.010       0.025\n",
            "------------------------------------------------------------------------------\n",
            "       y=3       coef    std err          z      P>|z|      [0.025      0.975]\n",
            "------------------------------------------------------------------------------\n",
            "const          0.4051      0.106      3.828      0.000       0.198       0.613\n",
            "x7            -0.0017      0.010     -0.179      0.858      -0.021       0.017\n",
            "x1            -1.1684      0.071    -16.353      0.000      -1.308      -1.028\n",
            "x2             0.0011      0.033      0.033      0.974      -0.063       0.065\n",
            "x3            -0.0020      0.022     -0.089      0.929      -0.046       0.042\n",
            "x4            -0.0221      0.027     -0.807      0.420      -0.076       0.032\n",
            "x5            -0.0092      0.013     -0.707      0.480      -0.035       0.016\n",
            "x8            -0.0070      0.008     -0.838      0.402      -0.023       0.009\n",
            "x9             0.0023      0.007      0.308      0.758      -0.012       0.017\n",
            "x10            1.3472      0.038     35.846      0.000       1.274       1.421\n",
            "==============================================================================\n",
            "Removed value: x6\n",
            "Model Log-Likelihood Value = -1958.0835552791132\n",
            "Number of Free Parameters = 20\n",
            "Deviance (Statistic, DF, Significance) 4.056831062030142 2 0.1315437831571482\n",
            "\n",
            "AIC: 3956.1671105582263 \n",
            "BIC: 4100.37391799775\n"
          ],
          "name": "stdout"
        }
      ]
    },
    {
      "cell_type": "code",
      "metadata": {
        "colab": {
          "base_uri": "https://localhost:8080/"
        },
        "id": "jnSPpsV9317y",
        "outputId": "7b922132-6d45-4240-b397-a182000ecf73"
      },
      "source": [
        "# Consider Model 1 is y = intercept + x1 + x2+ x3 + x4 + x5 + x6 + x8 + x9 + x10\n",
        "DriveTrain = df2[['x8']]\n",
        "X = pd.get_dummies(DriveTrain)\n",
        "X = X.join(df2[['x1','x2','x3','x4','x5','x6','x9','x10']])\n",
        "X = stats.add_constant(X, prepend=True)\n",
        "DF7 = numpy.linalg.matrix_rank(X) * (len(y_category) - 1)\n",
        "\n",
        "logit = stats.MNLogit(y, X)\n",
        "thisFit = logit.fit(method='newton', full_output = True, maxiter = 100, tol = 1e-8)\n",
        "thisParameter = thisFit.params\n",
        "LLK7 = logit.loglike(thisParameter.values)\n",
        "\n",
        "Deviance = 2 * (LLK1 - LLK7)\n",
        "DF = DF1 - DF7\n",
        "pValue = scipy.stats.chi2.sf(Deviance, DF)\n",
        "print(thisFit.summary())\n",
        "print(\"Removed value: x7\")\n",
        "print(\"Model Log-Likelihood Value =\", LLK7)\n",
        "print(\"Number of Free Parameters =\", DF7)\n",
        "print(\"Deviance (Statistic, DF, Significance)\", Deviance, DF, pValue)\n",
        "\n",
        "AIC = 2.0*DF7 - 2.0*LLK7\n",
        "BIC = DF7 *np.log(NSample) - 2.0 * LLK7\n",
        "print(\"\\nAIC:\",AIC,\"\\nBIC:\",BIC)"
      ],
      "execution_count": null,
      "outputs": [
        {
          "output_type": "stream",
          "text": [
            "Optimization terminated successfully.\n",
            "         Current function value: 0.195607\n",
            "         Iterations 10\n",
            "                          MNLogit Regression Results                          \n",
            "==============================================================================\n",
            "Dep. Variable:                      y   No. Observations:                10000\n",
            "Model:                        MNLogit   Df Residuals:                     9980\n",
            "Method:                           MLE   Df Model:                           18\n",
            "Date:                Tue, 09 Mar 2021   Pseudo R-squ.:                  0.8170\n",
            "Time:                        01:49:11   Log-Likelihood:                -1956.1\n",
            "converged:                       True   LL-Null:                       -10688.\n",
            "Covariance Type:            nonrobust   LLR p-value:                     0.000\n",
            "==============================================================================\n",
            "       y=2       coef    std err          z      P>|z|      [0.025      0.975]\n",
            "------------------------------------------------------------------------------\n",
            "const          1.0165      0.087     11.636      0.000       0.845       1.188\n",
            "x8            -0.0134      0.007     -2.026      0.043      -0.026      -0.000\n",
            "x1            -1.1173      0.058    -19.344      0.000      -1.230      -1.004\n",
            "x2            -0.0175      0.026     -0.669      0.503      -0.069       0.034\n",
            "x3             0.0103      0.018      0.586      0.558      -0.024       0.045\n",
            "x4            -1.5573      0.041    -38.104      0.000      -1.637      -1.477\n",
            "x5             0.0030      0.010      0.285      0.776      -0.018       0.024\n",
            "x6             0.0163      0.009      1.822      0.068      -0.001       0.034\n",
            "x9             0.0076      0.006      1.316      0.188      -0.004       0.019\n",
            "x10            0.0072      0.009      0.805      0.421      -0.010       0.025\n",
            "------------------------------------------------------------------------------\n",
            "       y=3       coef    std err          z      P>|z|      [0.025      0.975]\n",
            "------------------------------------------------------------------------------\n",
            "const          0.4042      0.106      3.819      0.000       0.197       0.612\n",
            "x8            -0.0073      0.008     -0.870      0.384      -0.024       0.009\n",
            "x1            -1.1683      0.071    -16.354      0.000      -1.308      -1.028\n",
            "x2             0.0001      0.033      0.003      0.997      -0.064       0.064\n",
            "x3            -0.0011      0.022     -0.047      0.962      -0.045       0.043\n",
            "x4            -0.0219      0.027     -0.800      0.424      -0.076       0.032\n",
            "x5            -0.0088      0.013     -0.675      0.500      -0.035       0.017\n",
            "x6             0.0005      0.011      0.042      0.967      -0.021       0.022\n",
            "x9             0.0024      0.007      0.320      0.749      -0.012       0.017\n",
            "x10            1.3462      0.038     35.854      0.000       1.273       1.420\n",
            "==============================================================================\n",
            "Removed value: x7\n",
            "Model Log-Likelihood Value = -1956.0744283318356\n",
            "Number of Free Parameters = 20\n",
            "Deviance (Statistic, DF, Significance) 0.03857716747506856 2 0.9808962506879186\n",
            "\n",
            "AIC: 3952.1488566636713 \n",
            "BIC: 4096.355664103195\n"
          ],
          "name": "stdout"
        }
      ]
    },
    {
      "cell_type": "code",
      "metadata": {
        "colab": {
          "base_uri": "https://localhost:8080/"
        },
        "id": "4MwdOvKK35b-",
        "outputId": "e35fae4c-731a-420e-ba03-42bbf49b52fd"
      },
      "source": [
        "# Consider Model 1 is y = intercept + x1 + x2+ x3 + x4 + x5 + x6 + x7 + x9 + x10\n",
        "DriveTrain = df2[['x9']]\n",
        "X = pd.get_dummies(DriveTrain)\n",
        "X = X.join(df2[['x1','x2','x3','x4','x5','x6','x7','x10']])\n",
        "X = stats.add_constant(X, prepend=True)\n",
        "DF8 = numpy.linalg.matrix_rank(X) * (len(y_category) - 1)\n",
        "\n",
        "logit = stats.MNLogit(y, X)\n",
        "thisFit = logit.fit(method='newton', full_output = True, maxiter = 100, tol = 1e-8)\n",
        "thisParameter = thisFit.params\n",
        "LLK8 = logit.loglike(thisParameter.values)\n",
        "\n",
        "Deviance = 2 * (LLK1 - LLK8)\n",
        "DF = DF1 - DF8\n",
        "pValue = scipy.stats.chi2.sf(Deviance, DF)\n",
        "print(thisFit.summary())\n",
        "print(\"Removed value: x8\")\n",
        "print(\"Model Log-Likelihood Value =\", LLK8)\n",
        "print(\"Number of Free Parameters =\", DF8)\n",
        "print(\"Deviance (Statistic, DF, Significance)\", Deviance, DF, pValue)\n",
        "\n",
        "AIC = 2.0*DF8 - 2.0*LLK8\n",
        "BIC = DF8 *np.log(NSample) - 2.0 * LLK8\n",
        "print(\"AIC:\",AIC,\"\\nBIC:\",BIC)"
      ],
      "execution_count": null,
      "outputs": [
        {
          "output_type": "stream",
          "text": [
            "Optimization terminated successfully.\n",
            "         Current function value: 0.195811\n",
            "         Iterations 10\n",
            "                          MNLogit Regression Results                          \n",
            "==============================================================================\n",
            "Dep. Variable:                      y   No. Observations:                10000\n",
            "Model:                        MNLogit   Df Residuals:                     9980\n",
            "Method:                           MLE   Df Model:                           18\n",
            "Date:                Tue, 09 Mar 2021   Pseudo R-squ.:                  0.8168\n",
            "Time:                        01:49:37   Log-Likelihood:                -1958.1\n",
            "converged:                       True   LL-Null:                       -10688.\n",
            "Covariance Type:            nonrobust   LLR p-value:                     0.000\n",
            "==============================================================================\n",
            "       y=2       coef    std err          z      P>|z|      [0.025      0.975]\n",
            "------------------------------------------------------------------------------\n",
            "const          1.0179      0.087     11.657      0.000       0.847       1.189\n",
            "x9             0.0073      0.006      1.270      0.204      -0.004       0.019\n",
            "x1            -1.1160      0.058    -19.332      0.000      -1.229      -1.003\n",
            "x2            -0.0194      0.026     -0.741      0.459      -0.071       0.032\n",
            "x3             0.0094      0.018      0.536      0.592      -0.025       0.044\n",
            "x4            -1.5557      0.041    -38.127      0.000      -1.636      -1.476\n",
            "x5             0.0035      0.010      0.331      0.740      -0.017       0.024\n",
            "x6             0.0158      0.009      1.768      0.077      -0.002       0.033\n",
            "x7             0.0003      0.007      0.042      0.966      -0.014       0.015\n",
            "x10            0.0070      0.009      0.783      0.434      -0.011       0.025\n",
            "------------------------------------------------------------------------------\n",
            "       y=3       coef    std err          z      P>|z|      [0.025      0.975]\n",
            "------------------------------------------------------------------------------\n",
            "const          0.4027      0.106      3.805      0.000       0.195       0.610\n",
            "x9             0.0020      0.007      0.264      0.792      -0.013       0.017\n",
            "x1            -1.1674      0.071    -16.341      0.000      -1.307      -1.027\n",
            "x2             0.0002      0.033      0.006      0.995      -0.064       0.064\n",
            "x3            -0.0010      0.022     -0.045      0.964      -0.045       0.043\n",
            "x4            -0.0218      0.027     -0.797      0.426      -0.075       0.032\n",
            "x5            -0.0084      0.013     -0.645      0.519      -0.034       0.017\n",
            "x6             0.0002      0.011      0.017      0.986      -0.022       0.022\n",
            "x7            -0.0013      0.010     -0.140      0.889      -0.020       0.017\n",
            "x10            1.3458      0.038     35.850      0.000       1.272       1.419\n",
            "==============================================================================\n",
            "Removed value: x8\n",
            "Model Log-Likelihood Value = -1958.1147646196723\n",
            "Number of Free Parameters = 20\n",
            "Deviance (Statistic, DF, Significance) 4.11924974314843 2 0.12750179047077537\n",
            "AIC: 3956.2295292393446 \n",
            "BIC: 4100.436336678868\n"
          ],
          "name": "stdout"
        }
      ]
    },
    {
      "cell_type": "code",
      "metadata": {
        "colab": {
          "base_uri": "https://localhost:8080/"
        },
        "id": "z56hnO9837-9",
        "outputId": "6b74b0c6-9e77-424e-eb58-7f99fa5d19d0"
      },
      "source": [
        "# Consider Model 1 is y = intercept + x1 + x2+ x3 + x4 + x5 + x6 + x7 + x8 + x10\n",
        "DriveTrain = df2[['x10']]\n",
        "X = pd.get_dummies(DriveTrain)\n",
        "X = X.join(df2[['x1','x2','x3','x4','x5','x6','x7','x8']])\n",
        "X = stats.add_constant(X, prepend=True)\n",
        "DF9 = numpy.linalg.matrix_rank(X) * (len(y_category) - 1)\n",
        "\n",
        "logit = stats.MNLogit(y, X)\n",
        "thisFit = logit.fit(method='newton', full_output = True, maxiter = 100, tol = 1e-8)\n",
        "thisParameter = thisFit.params\n",
        "LLK9 = logit.loglike(thisParameter.values)\n",
        "\n",
        "Deviance = 2 * (LLK1 - LLK9)\n",
        "DF = DF1 - DF9\n",
        "pValue = scipy.stats.chi2.sf(Deviance, DF)\n",
        "print(thisFit.summary())\n",
        "print(\"Removed value: x9\")\n",
        "print(\"Model Log-Likelihood Value =\", LLK9)\n",
        "print(\"Number of Free Parameters =\", DF9)\n",
        "print(\"Deviance (Statistic, DF, Significance)\", Deviance, DF, pValue)\n",
        "\n",
        "AIC = 2.0*DF9 - 2.0*LLK9\n",
        "BIC = DF9 *np.log(NSample) - 2.0 * LLK9\n",
        "print(\"AIC:\",AIC,\"\\nBIC:\",BIC)"
      ],
      "execution_count": null,
      "outputs": [
        {
          "output_type": "stream",
          "text": [
            "Optimization terminated successfully.\n",
            "         Current function value: 0.195695\n",
            "         Iterations 10\n",
            "                          MNLogit Regression Results                          \n",
            "==============================================================================\n",
            "Dep. Variable:                      y   No. Observations:                10000\n",
            "Model:                        MNLogit   Df Residuals:                     9980\n",
            "Method:                           MLE   Df Model:                           18\n",
            "Date:                Tue, 09 Mar 2021   Pseudo R-squ.:                  0.8169\n",
            "Time:                        01:50:07   Log-Likelihood:                -1957.0\n",
            "converged:                       True   LL-Null:                       -10688.\n",
            "Covariance Type:            nonrobust   LLR p-value:                     0.000\n",
            "==============================================================================\n",
            "       y=2       coef    std err          z      P>|z|      [0.025      0.975]\n",
            "------------------------------------------------------------------------------\n",
            "const          1.0141      0.087     11.624      0.000       0.843       1.185\n",
            "x10            0.0070      0.009      0.778      0.436      -0.011       0.025\n",
            "x1            -1.1165      0.058    -19.326      0.000      -1.230      -1.003\n",
            "x2            -0.0179      0.026     -0.683      0.495      -0.069       0.033\n",
            "x3             0.0110      0.018      0.625      0.532      -0.023       0.045\n",
            "x4            -1.5553      0.041    -38.135      0.000      -1.635      -1.475\n",
            "x5             0.0036      0.010      0.342      0.733      -0.017       0.024\n",
            "x6             0.0163      0.009      1.823      0.068      -0.001       0.034\n",
            "x7             0.0004      0.007      0.054      0.957      -0.014       0.015\n",
            "x8            -0.0133      0.007     -2.005      0.045      -0.026      -0.000\n",
            "------------------------------------------------------------------------------\n",
            "       y=3       coef    std err          z      P>|z|      [0.025      0.975]\n",
            "------------------------------------------------------------------------------\n",
            "const          0.4013      0.106      3.794      0.000       0.194       0.609\n",
            "x10            1.3457      0.038     35.850      0.000       1.272       1.419\n",
            "x1            -1.1691      0.071    -16.363      0.000      -1.309      -1.029\n",
            "x2            -0.0010      0.033     -0.031      0.975      -0.065       0.063\n",
            "x3            -0.0007      0.022     -0.030      0.976      -0.044       0.043\n",
            "x4            -0.0207      0.027     -0.758      0.448      -0.074       0.033\n",
            "x5            -0.0086      0.013     -0.653      0.514      -0.034       0.017\n",
            "x6             0.0003      0.011      0.027      0.978      -0.022       0.022\n",
            "x7            -0.0016      0.010     -0.163      0.870      -0.020       0.017\n",
            "x8            -0.0070      0.008     -0.839      0.402      -0.023       0.009\n",
            "==============================================================================\n",
            "Removed value: x9\n",
            "Model Log-Likelihood Value = -1956.9532307012526\n",
            "Number of Free Parameters = 20\n",
            "Deviance (Statistic, DF, Significance) 1.7961819063089024 2 0.4073465616020978\n",
            "AIC: 3953.906461402505 \n",
            "BIC: 4098.113268842028\n"
          ],
          "name": "stdout"
        }
      ]
    },
    {
      "cell_type": "code",
      "metadata": {
        "colab": {
          "base_uri": "https://localhost:8080/"
        },
        "id": "Yrh12unl3_Ee",
        "outputId": "4a4c4490-1e15-4f5f-9fd4-de6f2361a94e"
      },
      "source": [
        "# Consider Model 1 is y = intercept + x1 + x2+ x3 + x4 + x5 + x6 + x7 + x8 + x9\n",
        "DriveTrain = df2[['x1']]\n",
        "X = pd.get_dummies(DriveTrain)\n",
        "X = X.join(df2[['x9','x2','x3','x4','x5','x6','x7','x8']])\n",
        "X = stats.add_constant(X, prepend=True)\n",
        "DF10 = numpy.linalg.matrix_rank(X) * (len(y_category) - 1)\n",
        "\n",
        "logit = stats.MNLogit(y, X)\n",
        "thisFit = logit.fit(method='newton', full_output = True, maxiter = 100, tol = 1e-8)\n",
        "thisParameter = thisFit.params\n",
        "LLK10 = logit.loglike(thisParameter.values)\n",
        "\n",
        "Deviance = 2 * (LLK1 - LLK10)\n",
        "DF = DF1 - DF10\n",
        "pValue = scipy.stats.chi2.sf(Deviance, DF)\n",
        "print(thisFit.summary())\n",
        "print(\"Removed value: x10\")\n",
        "print(\"Model Log-Likelihood Value =\", LLK10)\n",
        "print(\"Number of Free Parameters =\", DF10)\n",
        "print(\"Deviance (Statistic, DF, Significance)\", Deviance, DF, pValue)\n",
        "\n",
        "AIC = 2.0*DF10 - 2.0*LLK10\n",
        "BIC = DF10 *np.log(NSample) - 2.0 * LLK10\n",
        "print(\"AIC:\",AIC,\"\\nBIC:\",BIC)"
      ],
      "execution_count": null,
      "outputs": [
        {
          "output_type": "stream",
          "text": [
            "Optimization terminated successfully.\n",
            "         Current function value: 0.811114\n",
            "         Iterations 7\n",
            "                          MNLogit Regression Results                          \n",
            "==============================================================================\n",
            "Dep. Variable:                      y   No. Observations:                10000\n",
            "Model:                        MNLogit   Df Residuals:                     9980\n",
            "Method:                           MLE   Df Model:                           18\n",
            "Date:                Tue, 09 Mar 2021   Pseudo R-squ.:                  0.2411\n",
            "Time:                        01:50:43   Log-Likelihood:                -8111.1\n",
            "converged:                       True   LL-Null:                       -10688.\n",
            "Covariance Type:            nonrobust   LLR p-value:                     0.000\n",
            "==============================================================================\n",
            "       y=2       coef    std err          z      P>|z|      [0.025      0.975]\n",
            "------------------------------------------------------------------------------\n",
            "const          0.5415      0.041     13.191      0.000       0.461       0.622\n",
            "x1            -0.4959      0.035    -14.035      0.000      -0.565      -0.427\n",
            "x9            -0.0008      0.004     -0.208      0.835      -0.008       0.007\n",
            "x2            -0.0074      0.017     -0.430      0.668      -0.041       0.026\n",
            "x3             0.0030      0.011      0.263      0.793      -0.019       0.025\n",
            "x4            -0.6727      0.013    -50.955      0.000      -0.699      -0.647\n",
            "x5             0.0045      0.007      0.650      0.516      -0.009       0.018\n",
            "x6             0.0181      0.006      3.106      0.002       0.007       0.029\n",
            "x7            -0.0013      0.005     -0.255      0.798      -0.011       0.008\n",
            "x8            -0.0062      0.004     -1.450      0.147      -0.015       0.002\n",
            "------------------------------------------------------------------------------\n",
            "       y=3       coef    std err          z      P>|z|      [0.025      0.975]\n",
            "------------------------------------------------------------------------------\n",
            "const          1.1778      0.036     32.278      0.000       1.106       1.249\n",
            "x1            -0.3612      0.029    -12.566      0.000      -0.417      -0.305\n",
            "x9            -0.0015      0.003     -0.485      0.628      -0.008       0.005\n",
            "x2            -0.0124      0.014     -0.894      0.371      -0.040       0.015\n",
            "x3            -0.0061      0.009     -0.659      0.510      -0.024       0.012\n",
            "x4            -0.2488      0.009    -26.435      0.000      -0.267      -0.230\n",
            "x5             0.0043      0.006      0.759      0.448      -0.007       0.015\n",
            "x6             0.0142      0.005      3.009      0.003       0.005       0.023\n",
            "x7             0.0022      0.004      0.564      0.573      -0.006       0.010\n",
            "x8            -0.0022      0.003     -0.639      0.523      -0.009       0.005\n",
            "==============================================================================\n",
            "Removed value: x10\n",
            "Model Log-Likelihood Value = -8111.136792127912\n",
            "Number of Free Parameters = 20\n",
            "Deviance (Statistic, DF, Significance) 12310.163304759626 2 0.0\n",
            "AIC: 16262.273584255823 \n",
            "BIC: 16406.480391695346\n"
          ],
          "name": "stdout"
        }
      ]
    },
    {
      "cell_type": "code",
      "metadata": {
        "colab": {
          "base_uri": "https://localhost:8080/"
        },
        "id": "iee0MMze8X0Z",
        "outputId": "4e9d5836-ad9a-4612-a070-de25e5faf607"
      },
      "source": [
        "# Consider Model 1 is y = intercept + x1 + x4 + x10\n",
        "DriveTrain = df2[['x1']]\n",
        "X = pd.get_dummies(DriveTrain)\n",
        "X = X.join(df2[['x4','x10']])\n",
        "X = stats.add_constant(X, prepend=True)\n",
        "DF0 = numpy.linalg.matrix_rank(X) * (len(y_category) - 1)\n",
        "\n",
        "logit = stats.MNLogit(y, X)\n",
        "thisFit = logit.fit(method='newton', full_output = True, maxiter = 100, tol = 1e-8)\n",
        "thisParameter = thisFit.params\n",
        "LLK0 = logit.loglike(thisParameter.values)\n",
        "\n",
        "Deviance = 2 * (LLK1 - LLK0)\n",
        "DF = DF1 - DF0\n",
        "pValue = scipy.stats.chi2.sf(Deviance, DF)\n",
        "print(thisFit.summary())\n",
        "print(\"Removed Features: x2,x3,x5,x6,x7,x8,x9\")\n",
        "print(\"Model Log-Likelihood Value =\", LLK0)\n",
        "print(\"Number of Free Parameters =\", DF0)\n",
        "print(\"Deviance (Statistic, DF, Significance)\", Deviance, DF, pValue)\n",
        "\n",
        "AIC = 2.0*DF0 - 2.0*LLK0\n",
        "BIC = DF0 *np.log(NSample) - 2.0 * LLK0\n",
        "print(\"AIC:\",AIC,\"\\nBIC:\",BIC)"
      ],
      "execution_count": null,
      "outputs": [
        {
          "output_type": "stream",
          "text": [
            "Optimization terminated successfully.\n",
            "         Current function value: 0.196190\n",
            "         Iterations 10\n",
            "                          MNLogit Regression Results                          \n",
            "==============================================================================\n",
            "Dep. Variable:                      y   No. Observations:                10000\n",
            "Model:                        MNLogit   Df Residuals:                     9992\n",
            "Method:                           MLE   Df Model:                            6\n",
            "Date:                Tue, 09 Mar 2021   Pseudo R-squ.:                  0.8164\n",
            "Time:                        01:54:17   Log-Likelihood:                -1961.9\n",
            "converged:                       True   LL-Null:                       -10688.\n",
            "Covariance Type:            nonrobust   LLR p-value:                     0.000\n",
            "==============================================================================\n",
            "       y=2       coef    std err          z      P>|z|      [0.025      0.975]\n",
            "------------------------------------------------------------------------------\n",
            "const          1.0168      0.087     11.675      0.000       0.846       1.188\n",
            "x1            -1.1145      0.058    -19.332      0.000      -1.227      -1.001\n",
            "x4            -1.5540      0.041    -38.203      0.000      -1.634      -1.474\n",
            "x10            0.0073      0.009      0.811      0.417      -0.010       0.025\n",
            "------------------------------------------------------------------------------\n",
            "       y=3       coef    std err          z      P>|z|      [0.025      0.975]\n",
            "------------------------------------------------------------------------------\n",
            "const          0.4064      0.105      3.857      0.000       0.200       0.613\n",
            "x1            -1.1664      0.071    -16.350      0.000      -1.306      -1.027\n",
            "x4            -0.0224      0.027     -0.821      0.412      -0.076       0.031\n",
            "x10            1.3449      0.037     35.922      0.000       1.272       1.418\n",
            "==============================================================================\n",
            "Removed Features: x2,x3,x5,x6,x7,x8,x9\n",
            "Model Log-Likelihood Value = -1961.9026108507442\n",
            "Number of Free Parameters = 8\n",
            "Deviance (Statistic, DF, Significance) 11.694942205292136 14 0.6307864251497306\n",
            "AIC: 3939.8052217014883 \n",
            "BIC: 3997.487944677298\n"
          ],
          "name": "stdout"
        }
      ]
    },
    {
      "cell_type": "code",
      "metadata": {
        "colab": {
          "base_uri": "https://localhost:8080/"
        },
        "id": "4YDUzkQe8gy7",
        "outputId": "c7b04dd8-8ff3-4ccb-85c8-184b6790d307"
      },
      "source": [
        "# Consider Model 1 is y = intercept +  x4 + x10\n",
        "DriveTrain = df2[['x4']]\n",
        "X = pd.get_dummies(DriveTrain)\n",
        "X = X.join(df2[['x10']])\n",
        "X = stats.add_constant(X, prepend=True)\n",
        "DF0 = numpy.linalg.matrix_rank(X) * (len(y_category) - 1)\n",
        "\n",
        "logit = stats.MNLogit(y, X)\n",
        "thisFit = logit.fit(method='newton', full_output = True, maxiter = 100, tol = 1e-8)\n",
        "thisParameter = thisFit.params\n",
        "LLK0 = logit.loglike(thisParameter.values)\n",
        "\n",
        "Deviance = 2 * (LLK1 - LLK0)\n",
        "DF = DF1 - DF0\n",
        "pValue = scipy.stats.chi2.sf(Deviance, DF)\n",
        "print(\"Removed Features:x1, x2,x3,x5,x6,x7,x8,x9\")\n",
        "print(\"Model Log-Likelihood Value =\", LLK0)\n",
        "print(\"Number of Free Parameters =\", DF0)\n",
        "print(\"Deviance (Statistic, DF, Significance)\", Deviance, DF, pValue)\n",
        "\n",
        "AIC = 2.0*DF0 - 2.0*LLK0\n",
        "BIC = DF0 *np.log(NSample) - 2.0 * LLK0\n",
        "print(\"AIC:\",AIC,\"\\nBIC:\",BIC)"
      ],
      "execution_count": null,
      "outputs": [
        {
          "output_type": "stream",
          "text": [
            "Optimization terminated successfully.\n",
            "         Current function value: 0.223041\n",
            "         Iterations 10\n",
            "Removed Features:x1, x2,x3,x5,x6,x7,x8,x9\n",
            "Model Log-Likelihood Value = -2230.4083138546553\n",
            "Number of Free Parameters = 6\n",
            "Deviance (Statistic, DF, Significance) 548.7063482131143 16 1.6859792210470048e-106\n",
            "AIC: 4472.8166277093105 \n",
            "BIC: 4516.078669941167\n"
          ],
          "name": "stdout"
        }
      ]
    },
    {
      "cell_type": "code",
      "metadata": {
        "colab": {
          "base_uri": "https://localhost:8080/"
        },
        "id": "KGnQHM648sW6",
        "outputId": "c91bc851-948c-44de-bc1a-607c4402705d"
      },
      "source": [
        "# Consider Model 1 is y = intercept +  x1 + x10\n",
        "DriveTrain = df2[['x1']]\n",
        "X = pd.get_dummies(DriveTrain)\n",
        "X = X.join(df2[['x10']])\n",
        "X = stats.add_constant(X, prepend=True)\n",
        "DF0 = numpy.linalg.matrix_rank(X) * (len(y_category) - 1)\n",
        "\n",
        "logit = stats.MNLogit(y, X)\n",
        "thisFit = logit.fit(method='newton', full_output = True, maxiter = 100, tol = 1e-8)\n",
        "thisParameter = thisFit.params\n",
        "LLK0 = logit.loglike(thisParameter.values)\n",
        "\n",
        "Deviance = 2 * (LLK1 - LLK0)\n",
        "DF = DF1 - DF0\n",
        "pValue = scipy.stats.chi2.sf(Deviance, DF)\n",
        "print(\"Removed Features: x2,x3,x4,x5,x6,x7,x8,x9\")\n",
        "print(\"Model Log-Likelihood Value =\", LLK0)\n",
        "print(\"Number of Free Parameters =\", DF0)\n",
        "print(\"Deviance (Statistic, DF, Significance)\", Deviance, DF, pValue)\n",
        "\n",
        "AIC = 2.0*DF0 - 2.0*LLK0\n",
        "BIC = DF0 *np.log(NSample) - 2.0 * LLK0\n",
        "print(\"AIC:\",AIC,\"\\nBIC:\",BIC)"
      ],
      "execution_count": null,
      "outputs": [
        {
          "output_type": "stream",
          "text": [
            "Optimization terminated successfully.\n",
            "         Current function value: 0.578737\n",
            "         Iterations 9\n",
            "Removed Features: x2,x3,x4,x5,x6,x7,x8,x9\n",
            "Model Log-Likelihood Value = -5787.3663888876135\n",
            "Number of Free Parameters = 6\n",
            "Deviance (Statistic, DF, Significance) 7662.622498279031 16 0.0\n",
            "AIC: 11586.732777775227 \n",
            "BIC: 11629.994820007085\n"
          ],
          "name": "stdout"
        }
      ]
    },
    {
      "cell_type": "code",
      "metadata": {
        "colab": {
          "base_uri": "https://localhost:8080/"
        },
        "id": "VPcVNH6r8vfc",
        "outputId": "40b6466c-7ea0-4314-83d5-692399f50b89"
      },
      "source": [
        "# Consider Model 1 is y = intercept +  x1 + x4\n",
        "DriveTrain = df2[['x1']]\n",
        "X = pd.get_dummies(DriveTrain)\n",
        "X = X.join(df2[['x4']])\n",
        "X = stats.add_constant(X, prepend=True)\n",
        "DF0 = numpy.linalg.matrix_rank(X) * (len(y_category) - 1)\n",
        "\n",
        "logit = stats.MNLogit(y, X)\n",
        "thisFit = logit.fit(method='newton', full_output = True, maxiter = 100, tol = 1e-8)\n",
        "thisParameter = thisFit.params\n",
        "LLK0 = logit.loglike(thisParameter.values)\n",
        "\n",
        "Deviance = 2 * (LLK1 - LLK0)\n",
        "DF = DF1 - DF0\n",
        "pValue = scipy.stats.chi2.sf(Deviance, DF)\n",
        "print(\"Removed Features: x2,x3,x5,x6,x7,x8,x9,x10\")\n",
        "print(\"Model Log-Likelihood Value =\", LLK0)\n",
        "print(\"Number of Free Parameters =\", DF0)\n",
        "print(\"Deviance (Statistic, DF, Significance)\", Deviance, DF, pValue)\n",
        "\n",
        "AIC = 2.0*DF0 - 2.0*LLK0\n",
        "BIC = DF0 *np.log(NSample) - 2.0 * LLK0\n",
        "print(\"AIC:\",AIC,\"\\nBIC:\",BIC)"
      ],
      "execution_count": null,
      "outputs": [
        {
          "output_type": "stream",
          "text": [
            "Optimization terminated successfully.\n",
            "         Current function value: 0.811988\n",
            "         Iterations 7\n",
            "Removed Features: x2,x3,x5,x6,x7,x8,x9,x10\n",
            "Model Log-Likelihood Value = -8119.8835923191655\n",
            "Number of Free Parameters = 6\n",
            "Deviance (Statistic, DF, Significance) 12327.656905142136 16 0.0\n",
            "AIC: 16251.767184638331 \n",
            "BIC: 16295.029226870189\n"
          ],
          "name": "stdout"
        }
      ]
    }
  ]
}