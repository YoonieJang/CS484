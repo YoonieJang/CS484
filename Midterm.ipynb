{
  "nbformat": 4,
  "nbformat_minor": 0,
  "metadata": {
    "colab": {
      "name": "Midterm.ipynb",
      "provenance": [],
      "collapsed_sections": [],
      "authorship_tag": "ABX9TyPSSHh8+jUBF8jFelWotUiu",
      "include_colab_link": true
    },
    "kernelspec": {
      "display_name": "Python 3",
      "name": "python3"
    }
  },
  "cells": [
    {
      "cell_type": "markdown",
      "metadata": {
        "id": "view-in-github",
        "colab_type": "text"
      },
      "source": [
        "<a href=\"https://colab.research.google.com/github/YoonieJang/CS484_Machine-Learning/blob/main/Midterm.ipynb\" target=\"_parent\"><img src=\"https://colab.research.google.com/assets/colab-badge.svg\" alt=\"Open In Colab\"/></a>"
      ]
    },
    {
      "cell_type": "code",
      "metadata": {
        "id": "74cLuvByhGM5",
        "colab": {
          "base_uri": "https://localhost:8080/"
        },
        "outputId": "3cdbc3f0-7d8a-48aa-c024-863b141d72a3"
      },
      "source": [
        "import pandas as pd\n",
        "import statsmodels.api as stats\n",
        "import sympy\n",
        "import scipy\n",
        "import numpy\n",
        "from sklearn import metrics\n",
        "from sklearn.model_selection import train_test_split\n",
        "import sklearn.cluster as cluster\n",
        "import matplotlib.pyplot as plt\n",
        "import seaborn as sns\n",
        "import sys\n",
        "import sklearn.tree as tree\n",
        "import graphviz\n",
        "from itertools import combinations \n",
        "from google.colab import files\n",
        "import io"
      ],
      "execution_count": null,
      "outputs": [
        {
          "output_type": "stream",
          "text": [
            "/usr/local/lib/python3.7/dist-packages/statsmodels/tools/_testing.py:19: FutureWarning: pandas.util.testing is deprecated. Use the functions in the public API at pandas.testing instead.\n",
            "  import pandas.util.testing as tm\n"
          ],
          "name": "stderr"
        }
      ]
    },
    {
      "cell_type": "code",
      "metadata": {
        "colab": {
          "resources": {
            "http://localhost:8080/nbextensions/google.colab/files.js": {
              "data": "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",
              "ok": true,
              "headers": [
                [
                  "content-type",
                  "application/javascript"
                ]
              ],
              "status": 200,
              "status_text": ""
            }
          },
          "base_uri": "https://localhost:8080/",
          "height": 72
        },
        "id": "uSv89K0nsV7g",
        "outputId": "e73dd7b6-767e-4971-bd97-9e67a710bcad"
      },
      "source": [
        "uploaded = files.upload()\n",
        "data= pd.read_csv(io.BytesIO(uploaded['100Values.csv']))"
      ],
      "execution_count": null,
      "outputs": [
        {
          "output_type": "display_data",
          "data": {
            "text/html": [
              "\n",
              "     <input type=\"file\" id=\"files-e589eee8-42c2-48b2-950a-28940c9d8193\" name=\"files[]\" multiple disabled\n",
              "        style=\"border:none\" />\n",
              "     <output id=\"result-e589eee8-42c2-48b2-950a-28940c9d8193\">\n",
              "      Upload widget is only available when the cell has been executed in the\n",
              "      current browser session. Please rerun this cell to enable.\n",
              "      </output>\n",
              "      <script src=\"/nbextensions/google.colab/files.js\"></script> "
            ],
            "text/plain": [
              "<IPython.core.display.HTML object>"
            ]
          },
          "metadata": {
            "tags": []
          }
        },
        {
          "output_type": "stream",
          "text": [
            "Saving 100Values.csv to 100Values.csv\n"
          ],
          "name": "stdout"
        }
      ]
    },
    {
      "cell_type": "code",
      "metadata": {
        "colab": {
          "base_uri": "https://localhost:8080/",
          "height": 1000
        },
        "id": "6_LQupU5uPgg",
        "outputId": "e6a23d9e-3ddb-4422-f0b0-34c84c06db31"
      },
      "source": [
        "#q7\n",
        "Y = data['x']\n",
        "plt.hist(Y)\n",
        "plt.show()\n",
        "\n",
        "def calcCD (Y, delta):\n",
        "   maxY = numpy.max(Y)\n",
        "   minY = numpy.min(Y)\n",
        "   meanY = numpy.mean(Y)\n",
        "\n",
        "   # Round the mean to integral multiples of delta\n",
        "   middleY = delta * numpy.round(meanY / delta)\n",
        "\n",
        "   # Determine the number of bins on both sides of the rounded mean\n",
        "   nBinRight = numpy.ceil((maxY - middleY) / delta)\n",
        "   nBinLeft = numpy.ceil((middleY - minY) / delta)\n",
        "   lowY = middleY - nBinLeft * delta\n",
        "\n",
        "   # Assign observations to bins starting from 0\n",
        "   m = nBinLeft + nBinRight\n",
        "   BIN_INDEX = 0;\n",
        "   boundaryY = lowY\n",
        "   for iBin in numpy.arange(m):\n",
        "      boundaryY = boundaryY + delta\n",
        "      BIN_INDEX = numpy.where(Y > boundaryY, iBin+1, BIN_INDEX)\n",
        "\n",
        "   # Count the number of observations in each bins\n",
        "   uBin, binFreq = numpy.unique(BIN_INDEX, return_counts = True)\n",
        "\n",
        "   # Calculate the average frequency\n",
        "   meanBinFreq = numpy.sum(binFreq) / m\n",
        "   ssDevBinFreq = numpy.sum((binFreq - meanBinFreq)**2) / m\n",
        "   CDelta = (2.0 * meanBinFreq - ssDevBinFreq) / (delta * delta)\n",
        "   return(m, middleY, lowY, CDelta)\n",
        "\n",
        "result = pd.DataFrame()\n",
        "deltaList = [0.1, 0.2, 0.5, 1.0, 2.0, 5.0]\n",
        "\n",
        "for d in deltaList:\n",
        "   nBin, middleY, lowY, CDelta = calcCD(Y,d)\n",
        "   highY = lowY + nBin * d\n",
        "   result = result.append([[d, CDelta, lowY, middleY, highY, nBin]], ignore_index = True)\n",
        "\n",
        "   binMid = lowY + 0.5 * d + numpy.arange(nBin) * d\n",
        "   plt.hist(Y, bins = binMid, align='mid')\n",
        "   plt.title('Delta = ' + str(d))\n",
        "   plt.ylabel('Number of Observations')\n",
        "   plt.grid(axis = 'y')\n",
        "   plt.show()\n",
        "   \n",
        "result = result.rename(columns = {0:'Delta', 1:'C(Delta)', 2:'Low Y', 3:'Middle Y', 4:'High Y', 5:'N Bin'})\n",
        "fig1, ax1 = plt.subplots()\n",
        "ax1.set_title('Box Plot')\n",
        "ax1.boxplot(Y, labels = ['Y'])\n",
        "ax1.grid(linestyle = '--', linewidth = 1)\n",
        "plt.show()\n",
        "print(result)\n"
      ],
      "execution_count": null,
      "outputs": [
        {
          "output_type": "display_data",
          "data": {
            "image/png": "[encoded data removed]",
            "text/plain": [
              "<Figure size 432x288 with 1 Axes>"
            ]
          },
          "metadata": {
            "tags": [],
            "needs_background": "light"
          }
        },
        {
          "output_type": "display_data",
          "data": {
            "image/png": "[encoded data removed]",
            "text/plain": [
              "<Figure size 432x288 with 1 Axes>"
            ]
          },
          "metadata": {
            "tags": [],
            "needs_background": "light"
          }
        },
        {
          "output_type": "display_data",
          "data": {
            "image/png": "[encoded data removed]",
            "text/plain": [
              "<Figure size 432x288 with 1 Axes>"
            ]
          },
          "metadata": {
            "tags": [],
            "needs_background": "light"
          }
        },
        {
          "output_type": "display_data",
          "data": {
            "image/png": "[encoded data removed]",
            "text/plain": [
              "<Figure size 432x288 with 1 Axes>"
            ]
          },
          "metadata": {
            "tags": [],
            "needs_background": "light"
          }
        },
        {
          "output_type": "display_data",
          "data": {
            "image/png": "[encoded data removed]",
            "text/plain": [
              "<Figure size 432x288 with 1 Axes>"
            ]
          },
          "metadata": {
            "tags": [],
            "needs_background": "light"
          }
        },
        {
          "output_type": "display_data",
          "data": {
            "image/png": "[encoded data removed]",
            "text/plain": [
              "<Figure size 432x288 with 1 Axes>"
            ]
          },
          "metadata": {
            "tags": [],
            "needs_background": "light"
          }
        },
        {
          "output_type": "display_data",
          "data": {
            "image/png": "[encoded data removed]",
            "text/plain": [
              "<Figure size 432x288 with 1 Axes>"
            ]
          },
          "metadata": {
            "tags": [],
            "needs_background": "light"
          }
        },
        {
          "output_type": "display_data",
          "data": {
            "image/png": "[encoded data removed]",
            "text/plain": [
              "<Figure size 432x288 with 1 Axes>"
            ]
          },
          "metadata": {
            "tags": [],
            "needs_background": "light"
          }
        },
        {
          "output_type": "stream",
          "text": [
            "   Delta   C(Delta)  Low Y  Middle Y  High Y  N Bin\n",
            "0    0.1  21.043753   75.0      99.5   125.5  505.0\n",
            "1    0.2  11.001411   75.0      99.4   125.6  253.0\n",
            "2    0.5   4.758136   75.0      99.5   125.5  101.0\n",
            "3    1.0   1.497448   75.0      99.0   126.0   51.0\n",
            "4    2.0   0.205849   74.0     100.0   126.0   26.0\n",
            "5    5.0  -0.796033   75.0     100.0   130.0   11.0\n"
          ],
          "name": "stdout"
        }
      ]
    },
    {
      "cell_type": "code",
      "metadata": {
        "colab": {
          "base_uri": "https://localhost:8080/",
          "height": 172
        },
        "id": "vnw7KLoMOFIS",
        "outputId": "7c2cd9c9-147a-4b47-cf0c-3a92d499074a"
      },
      "source": [
        "#q13,14,15\n",
        "dt = {\n",
        "  'feature':[],\n",
        "  'target':[]}"
      ],
      "execution_count": null,
      "outputs": [
        {
          "output_type": "execute_result",
          "data": {
            "text/html": [
              "<div>\n",
              "<style scoped>\n",
              "    .dataframe tbody tr th:only-of-type {\n",
              "        vertical-align: middle;\n",
              "    }\n",
              "\n",
              "    .dataframe tbody tr th {\n",
              "        vertical-align: top;\n",
              "    }\n",
              "\n",
              "    .dataframe thead th {\n",
              "        text-align: right;\n",
              "    }\n",
              "</style>\n",
              "<table border=\"1\" class=\"dataframe\">\n",
              "  <thead>\n",
              "    <tr style=\"text-align: right;\">\n",
              "      <th></th>\n",
              "      <th>feature</th>\n",
              "      <th>A</th>\n",
              "      <th>B</th>\n",
              "      <th>C</th>\n",
              "      <th>D</th>\n",
              "      <th>E</th>\n",
              "    </tr>\n",
              "  </thead>\n",
              "  <tbody>\n",
              "    <tr>\n",
              "      <th>0</th>\n",
              "      <td>1</td>\n",
              "      <td>65</td>\n",
              "      <td>304</td>\n",
              "      <td>530</td>\n",
              "      <td>487</td>\n",
              "      <td>140</td>\n",
              "    </tr>\n",
              "    <tr>\n",
              "      <th>1</th>\n",
              "      <td>2</td>\n",
              "      <td>74</td>\n",
              "      <td>185</td>\n",
              "      <td>160</td>\n",
              "      <td>55</td>\n",
              "      <td>16</td>\n",
              "    </tr>\n",
              "    <tr>\n",
              "      <th>2</th>\n",
              "      <td>3</td>\n",
              "      <td>33</td>\n",
              "      <td>228</td>\n",
              "      <td>623</td>\n",
              "      <td>755</td>\n",
              "      <td>363</td>\n",
              "    </tr>\n",
              "    <tr>\n",
              "      <th>3</th>\n",
              "      <td>4</td>\n",
              "      <td>90</td>\n",
              "      <td>290</td>\n",
              "      <td>349</td>\n",
              "      <td>213</td>\n",
              "      <td>40</td>\n",
              "    </tr>\n",
              "  </tbody>\n",
              "</table>\n",
              "</div>"
            ],
            "text/plain": [
              "   feature   A    B    C    D    E\n",
              "0        1  65  304  530  487  140\n",
              "1        2  74  185  160   55   16\n",
              "2        3  33  228  623  755  363\n",
              "3        4  90  290  349  213   40"
            ]
          },
          "metadata": {
            "tags": []
          },
          "execution_count": 45
        }
      ]
    },
    {
      "cell_type": "code",
      "metadata": {
        "colab": {
          "base_uri": "https://localhost:8080/",
          "height": 416
        },
        "id": "81YikaiUWyW3",
        "outputId": "a9dec040-942a-48a8-df2f-dbe9c5ef8370"
      },
      "source": [
        "dt= {\"Feature\": [], \"Target\": []}\n",
        "dt[\"Feature\"].extend([\"I\"]*65)\n",
        "dt[\"Target\"].extend([1]*65)\n",
        "dt[\"Feature\"].extend([\"I\"]*304)\n",
        "dt[\"Target\"].extend([2]*304)\n",
        "dt[\"Feature\"].extend([\"I\"]*530)\n",
        "dt[\"Target\"].extend([3]*530)\n",
        "dt[\"Feature\"].extend([\"I\"]*487)\n",
        "dt[\"Target\"].extend([4]*487)\n",
        "dt[\"Feature\"].extend([\"I\"]*140)\n",
        "dt[\"Target\"].extend([5]*140)\n",
        "    \n",
        "dt[\"Feature\"].extend([\"II\"]*490)\n",
        "dt[\"Target\"].extend([1]*74)\n",
        "dt[\"Target\"].extend([2]*185)\n",
        "dt[\"Target\"].extend([3]*160)\n",
        "dt[\"Target\"].extend([4]*55)\n",
        "dt[\"Target\"].extend([5]*16)\n",
        "    \n",
        "dt[\"Feature\"].extend([\"III\"]*2002)\n",
        "dt[\"Target\"].extend([1]*33)\n",
        "dt[\"Target\"].extend([2]*228)\n",
        "dt[\"Target\"].extend([3]*623)\n",
        "dt[\"Target\"].extend([4]*755)\n",
        "dt[\"Target\"].extend([5]*363)\n",
        "    \n",
        "dt[\"Feature\"].extend([\"IV\"]*982)\n",
        "dt[\"Target\"].extend([1]*90)\n",
        "dt[\"Target\"].extend([2]*290)\n",
        "dt[\"Target\"].extend([3]*349)\n",
        "dt[\"Target\"].extend([4]*213)\n",
        "dt[\"Target\"].extend([5]*40)\n",
        "df=pd.DataFrame(dt)\n",
        "df"
      ],
      "execution_count": null,
      "outputs": [
        {
          "output_type": "execute_result",
          "data": {
            "text/html": [
              "<div>\n",
              "<style scoped>\n",
              "    .dataframe tbody tr th:only-of-type {\n",
              "        vertical-align: middle;\n",
              "    }\n",
              "\n",
              "    .dataframe tbody tr th {\n",
              "        vertical-align: top;\n",
              "    }\n",
              "\n",
              "    .dataframe thead th {\n",
              "        text-align: right;\n",
              "    }\n",
              "</style>\n",
              "<table border=\"1\" class=\"dataframe\">\n",
              "  <thead>\n",
              "    <tr style=\"text-align: right;\">\n",
              "      <th></th>\n",
              "      <th>Feature</th>\n",
              "      <th>Target</th>\n",
              "    </tr>\n",
              "  </thead>\n",
              "  <tbody>\n",
              "    <tr>\n",
              "      <th>0</th>\n",
              "      <td>I</td>\n",
              "      <td>1</td>\n",
              "    </tr>\n",
              "    <tr>\n",
              "      <th>1</th>\n",
              "      <td>I</td>\n",
              "      <td>1</td>\n",
              "    </tr>\n",
              "    <tr>\n",
              "      <th>2</th>\n",
              "      <td>I</td>\n",
              "      <td>1</td>\n",
              "    </tr>\n",
              "    <tr>\n",
              "      <th>3</th>\n",
              "      <td>I</td>\n",
              "      <td>1</td>\n",
              "    </tr>\n",
              "    <tr>\n",
              "      <th>4</th>\n",
              "      <td>I</td>\n",
              "      <td>1</td>\n",
              "    </tr>\n",
              "    <tr>\n",
              "      <th>...</th>\n",
              "      <td>...</td>\n",
              "      <td>...</td>\n",
              "    </tr>\n",
              "    <tr>\n",
              "      <th>4995</th>\n",
              "      <td>IV</td>\n",
              "      <td>5</td>\n",
              "    </tr>\n",
              "    <tr>\n",
              "      <th>4996</th>\n",
              "      <td>IV</td>\n",
              "      <td>5</td>\n",
              "    </tr>\n",
              "    <tr>\n",
              "      <th>4997</th>\n",
              "      <td>IV</td>\n",
              "      <td>5</td>\n",
              "    </tr>\n",
              "    <tr>\n",
              "      <th>4998</th>\n",
              "      <td>IV</td>\n",
              "      <td>5</td>\n",
              "    </tr>\n",
              "    <tr>\n",
              "      <th>4999</th>\n",
              "      <td>IV</td>\n",
              "      <td>5</td>\n",
              "    </tr>\n",
              "  </tbody>\n",
              "</table>\n",
              "<p>5000 rows × 2 columns</p>\n",
              "</div>"
            ],
            "text/plain": [
              "     Feature  Target\n",
              "0          I       1\n",
              "1          I       1\n",
              "2          I       1\n",
              "3          I       1\n",
              "4          I       1\n",
              "...      ...     ...\n",
              "4995      IV       5\n",
              "4996      IV       5\n",
              "4997      IV       5\n",
              "4998      IV       5\n",
              "4999      IV       5\n",
              "\n",
              "[5000 rows x 2 columns]"
            ]
          },
          "metadata": {
            "tags": []
          },
          "execution_count": 54
        }
      ]
    },
    {
      "cell_type": "code",
      "metadata": {
        "colab": {
          "base_uri": "https://localhost:8080/",
          "height": 749
        },
        "id": "5_gEieLPYkrs",
        "outputId": "c9aaecf3-4d4d-4c95-a68a-ab0fc872f630"
      },
      "source": [
        "tar=df[['Target']].astype('category')\n",
        "of = pd.get_dummies(df[['Feature']])\n",
        "md=tree.DecisionTreeClassifier(criterion='entropy')\n",
        "\n",
        "md=md.fit(of,tar)\n",
        "tree.plot_tree(md)\n",
        "dot_data = tree.export_graphviz(md, out_file=None)\n",
        "\n",
        "graph = graphviz.Source(dot_data)\n",
        "graph"
      ],
      "execution_count": null,
      "outputs": [
        {
          "output_type": "execute_result",
          "data": {
            "text/plain": [
              "<graphviz.files.Source at 0x7f258056e510>"
            ],
            "image/svg+xml": "<?xml version=\"1.0\" encoding=\"UTF-8\" standalone=\"no\"?>\n<!DOCTYPE svg PUBLIC \"-//W3C//DTD SVG 1.1//EN\"\n \"http://www.w3.org/Graphics/SVG/1.1/DTD/svg11.dtd\">\n<!-- Generated by graphviz version 2.40.1 (20161225.0304)\n -->\n<!-- Title: Tree Pages: 1 -->\n<svg width=\"660pt\" height=\"373pt\"\n viewBox=\"0.00 0.00 659.50 373.00\" xmlns=\"http://www.w3.org/2000/svg\" xmlns:xlink=\"http://www.w3.org/1999/xlink\">\n<g id=\"graph0\" class=\"graph\" transform=\"scale(1 1) rotate(0) translate(4 369)\">\n<title>Tree</title>\n<polygon fill=\"#ffffff\" stroke=\"transparent\" points=\"-4,4 -4,-369 655.5,-369 655.5,4 -4,4\"/>\n<!-- 0 -->\n<g id=\"node1\" class=\"node\">\n<title>0</title>\n<polygon fill=\"none\" stroke=\"#000000\" points=\"549.5,-365 312.5,-365 312.5,-297 549.5,-297 549.5,-365\"/>\n<text text-anchor=\"middle\" x=\"431\" y=\"-349.8\" font-family=\"Times,serif\" font-size=\"14.00\" fill=\"#000000\">X[2] &lt;= 0.5</text>\n<text text-anchor=\"middle\" x=\"431\" y=\"-334.8\" font-family=\"Times,serif\" font-size=\"14.00\" fill=\"#000000\">entropy = 2.092</text>\n<text text-anchor=\"middle\" x=\"431\" y=\"-319.8\" font-family=\"Times,serif\" font-size=\"14.00\" fill=\"#000000\">samples = 5000</text>\n<text text-anchor=\"middle\" x=\"431\" y=\"-304.8\" font-family=\"Times,serif\" font-size=\"14.00\" fill=\"#000000\">value = [262, 1007, 1662, 1510, 559]</text>\n</g>\n<!-- 1 -->\n<g id=\"node2\" class=\"node\">\n<title>1</title>\n<polygon fill=\"none\" stroke=\"#000000\" points=\"426,-261 204,-261 204,-193 426,-193 426,-261\"/>\n<text text-anchor=\"middle\" x=\"315\" y=\"-245.8\" font-family=\"Times,serif\" font-size=\"14.00\" fill=\"#000000\">X[0] &lt;= 0.5</text>\n<text text-anchor=\"middle\" x=\"315\" y=\"-230.8\" font-family=\"Times,serif\" font-size=\"14.00\" fill=\"#000000\">entropy = 2.077</text>\n<text text-anchor=\"middle\" x=\"315\" y=\"-215.8\" font-family=\"Times,serif\" font-size=\"14.00\" fill=\"#000000\">samples = 2998</text>\n<text text-anchor=\"middle\" x=\"315\" y=\"-200.8\" font-family=\"Times,serif\" font-size=\"14.00\" fill=\"#000000\">value = [229, 779, 1039, 755, 196]</text>\n</g>\n<!-- 0&#45;&gt;1 -->\n<g id=\"edge1\" class=\"edge\">\n<title>0&#45;&gt;1</title>\n<path fill=\"none\" stroke=\"#000000\" d=\"M393.0173,-296.9465C382.7023,-287.6986 371.4246,-277.5876 360.7301,-267.9994\"/>\n<polygon fill=\"#000000\" stroke=\"#000000\" points=\"362.8502,-265.1995 353.0681,-261.13 358.1774,-270.4115 362.8502,-265.1995\"/>\n<text text-anchor=\"middle\" x=\"354.4297\" y=\"-282.3929\" font-family=\"Times,serif\" font-size=\"14.00\" fill=\"#000000\">True</text>\n</g>\n<!-- 6 -->\n<g id=\"node7\" class=\"node\">\n<title>6</title>\n<polygon fill=\"none\" stroke=\"#000000\" points=\"651.5,-253.5 444.5,-253.5 444.5,-200.5 651.5,-200.5 651.5,-253.5\"/>\n<text text-anchor=\"middle\" x=\"548\" y=\"-238.3\" font-family=\"Times,serif\" font-size=\"14.00\" fill=\"#000000\">entropy = 1.956</text>\n<text text-anchor=\"middle\" x=\"548\" y=\"-223.3\" font-family=\"Times,serif\" font-size=\"14.00\" fill=\"#000000\">samples = 2002</text>\n<text text-anchor=\"middle\" x=\"548\" y=\"-208.3\" font-family=\"Times,serif\" font-size=\"14.00\" fill=\"#000000\">value = [33, 228, 623, 755, 363]</text>\n</g>\n<!-- 0&#45;&gt;6 -->\n<g id=\"edge6\" class=\"edge\">\n<title>0&#45;&gt;6</title>\n<path fill=\"none\" stroke=\"#000000\" d=\"M469.3102,-296.9465C482.5694,-285.1606 497.4058,-271.9726 510.5916,-260.2519\"/>\n<polygon fill=\"#000000\" stroke=\"#000000\" points=\"512.9912,-262.8018 518.1401,-253.5422 508.3407,-257.5699 512.9912,-262.8018\"/>\n<text text-anchor=\"middle\" x=\"516.672\" y=\"-274.799\" font-family=\"Times,serif\" font-size=\"14.00\" fill=\"#000000\">False</text>\n</g>\n<!-- 2 -->\n<g id=\"node3\" class=\"node\">\n<title>2</title>\n<polygon fill=\"none\" stroke=\"#000000\" points=\"306.5,-157 99.5,-157 99.5,-89 306.5,-89 306.5,-157\"/>\n<text text-anchor=\"middle\" x=\"203\" y=\"-141.8\" font-family=\"Times,serif\" font-size=\"14.00\" fill=\"#000000\">X[3] &lt;= 0.5</text>\n<text text-anchor=\"middle\" x=\"203\" y=\"-126.8\" font-family=\"Times,serif\" font-size=\"14.00\" fill=\"#000000\">entropy = 2.036</text>\n<text text-anchor=\"middle\" x=\"203\" y=\"-111.8\" font-family=\"Times,serif\" font-size=\"14.00\" fill=\"#000000\">samples = 1472</text>\n<text text-anchor=\"middle\" x=\"203\" y=\"-96.8\" font-family=\"Times,serif\" font-size=\"14.00\" fill=\"#000000\">value = [164, 475, 509, 268, 56]</text>\n</g>\n<!-- 1&#45;&gt;2 -->\n<g id=\"edge2\" class=\"edge\">\n<title>1&#45;&gt;2</title>\n<path fill=\"none\" stroke=\"#000000\" d=\"M278.327,-192.9465C268.3677,-183.6986 257.4789,-173.5876 247.1532,-163.9994\"/>\n<polygon fill=\"#000000\" stroke=\"#000000\" points=\"249.4649,-161.3698 239.7554,-157.13 244.7018,-166.4993 249.4649,-161.3698\"/>\n</g>\n<!-- 5 -->\n<g id=\"node6\" class=\"node\">\n<title>5</title>\n<polygon fill=\"none\" stroke=\"#000000\" points=\"531.5,-149.5 324.5,-149.5 324.5,-96.5 531.5,-96.5 531.5,-149.5\"/>\n<text text-anchor=\"middle\" x=\"428\" y=\"-134.3\" font-family=\"Times,serif\" font-size=\"14.00\" fill=\"#000000\">entropy = 2.03</text>\n<text text-anchor=\"middle\" x=\"428\" y=\"-119.3\" font-family=\"Times,serif\" font-size=\"14.00\" fill=\"#000000\">samples = 1526</text>\n<text text-anchor=\"middle\" x=\"428\" y=\"-104.3\" font-family=\"Times,serif\" font-size=\"14.00\" fill=\"#000000\">value = [65, 304, 530, 487, 140]</text>\n</g>\n<!-- 1&#45;&gt;5 -->\n<g id=\"edge5\" class=\"edge\">\n<title>1&#45;&gt;5</title>\n<path fill=\"none\" stroke=\"#000000\" d=\"M352.0004,-192.9465C364.6866,-181.2707 378.8678,-168.219 391.513,-156.5809\"/>\n<polygon fill=\"#000000\" stroke=\"#000000\" points=\"394.1731,-158.8895 399.1609,-149.5422 389.4327,-153.7389 394.1731,-158.8895\"/>\n</g>\n<!-- 3 -->\n<g id=\"node4\" class=\"node\">\n<title>3</title>\n<polygon fill=\"none\" stroke=\"#000000\" points=\"192,-53 0,-53 0,0 192,0 192,-53\"/>\n<text text-anchor=\"middle\" x=\"96\" y=\"-37.8\" font-family=\"Times,serif\" font-size=\"14.00\" fill=\"#000000\">entropy = 1.985</text>\n<text text-anchor=\"middle\" x=\"96\" y=\"-22.8\" font-family=\"Times,serif\" font-size=\"14.00\" fill=\"#000000\">samples = 490</text>\n<text text-anchor=\"middle\" x=\"96\" y=\"-7.8\" font-family=\"Times,serif\" font-size=\"14.00\" fill=\"#000000\">value = [74, 185, 160, 55, 16]</text>\n</g>\n<!-- 2&#45;&gt;3 -->\n<g id=\"edge3\" class=\"edge\">\n<title>2&#45;&gt;3</title>\n<path fill=\"none\" stroke=\"#000000\" d=\"M165.2758,-88.9777C154.9194,-79.6376 143.6969,-69.5163 133.361,-60.1947\"/>\n<polygon fill=\"#000000\" stroke=\"#000000\" points=\"135.4291,-57.3467 125.6589,-53.2485 130.7409,-62.5449 135.4291,-57.3467\"/>\n</g>\n<!-- 4 -->\n<g id=\"node5\" class=\"node\">\n<title>4</title>\n<polygon fill=\"none\" stroke=\"#000000\" points=\"410,-53 210,-53 210,0 410,0 410,-53\"/>\n<text text-anchor=\"middle\" x=\"310\" y=\"-37.8\" font-family=\"Times,serif\" font-size=\"14.00\" fill=\"#000000\">entropy = 2.032</text>\n<text text-anchor=\"middle\" x=\"310\" y=\"-22.8\" font-family=\"Times,serif\" font-size=\"14.00\" fill=\"#000000\">samples = 982</text>\n<text text-anchor=\"middle\" x=\"310\" y=\"-7.8\" font-family=\"Times,serif\" font-size=\"14.00\" fill=\"#000000\">value = [90, 290, 349, 213, 40]</text>\n</g>\n<!-- 2&#45;&gt;4 -->\n<g id=\"edge4\" class=\"edge\">\n<title>2&#45;&gt;4</title>\n<path fill=\"none\" stroke=\"#000000\" d=\"M240.7242,-88.9777C251.0806,-79.6376 262.3031,-69.5163 272.639,-60.1947\"/>\n<polygon fill=\"#000000\" stroke=\"#000000\" points=\"275.2591,-62.5449 280.3411,-53.2485 270.5709,-57.3467 275.2591,-62.5449\"/>\n</g>\n</g>\n</svg>\n"
          },
          "metadata": {
            "tags": []
          },
          "execution_count": 69
        },
        {
          "output_type": "display_data",
          "data": {
            "image/png": "[encoded data removed]",
            "text/plain": [
              "<Figure size 432x288 with 1 Axes>"
            ]
          },
          "metadata": {
            "tags": [],
            "needs_background": "light"
          }
        }
      ]
    },
    {
      "cell_type": "code",
      "metadata": {
        "id": "c7xI5lJ-UlfF"
      },
      "source": [
        "def EntropyIntervalSplit (\n",
        "   inData,          # input data frame (predictor in column 0 and target in column 1)\n",
        "   split):          # split value\n",
        "\n",
        "   dataTable = inData\n",
        "   dataTable['LE_Split'] = (dataTable.iloc[:,0] <= split)\n",
        "\n",
        "   crossTable = pandas.crosstab(index = dataTable['LE_Split'], columns = dataTable.iloc[:,1], margins = True, dropna = True)   \n",
        "   print(crossTable)\n",
        "\n",
        "   nRows = crossTable.shape[0]\n",
        "   nColumns = crossTable.shape[1]\n",
        "   \n",
        "   tableEntropy = 0\n",
        "   for iRow in range(nRows-1):\n",
        "      rowEntropy = 0\n",
        "      for iColumn in range(nColumns):\n",
        "         proportion = crossTable.iloc[iRow,iColumn] / crossTable.iloc[iRow,(nColumns-1)]\n",
        "         if (proportion > 0):\n",
        "            rowEntropy -= proportion * numpy.log2(proportion)\n",
        "      print('Row = ', iRow, 'Entropy =', rowEntropy)\n",
        "      print(' ')\n",
        "      tableEntropy += rowEntropy *  crossTable.iloc[iRow,(nColumns-1)]\n",
        "   tableEntropy = tableEntropy /  crossTable.iloc[(nRows-1),(nColumns-1)]\n",
        "  \n",
        "   return(tableEntropy)"
      ],
      "execution_count": null,
      "outputs": []
    },
    {
      "cell_type": "code",
      "metadata": {
        "id": "VKmaag1Q7SSS"
      },
      "source": [
        "#q16\n",
        "train_x=[0, 0, 0, 0, 1, 1 ,1 ,1 ,2 ,2 ,2 ,2 ,3 ,3 ,3 ,3 ,4 ,4 ,4 ,4]\n",
        "train_y=[0 ,0 ,0 ,0 ,0 ,0 ,0 ,0 ,0 ,0 ,0 ,1 ,0 ,0 ,1 ,1 ,0 ,1 ,1 ,1]\n",
        "test_x=[0 ,1 ,2 ,3 ,4]\n",
        "test_y=[1 ,0 ,1 ,0 ,1]\n",
        "train16 = {\"x\":train_x,\"y\":train_y}\n",
        "test16 = {\"x\":test_x,\"y\":test_y}"
      ],
      "execution_count": null,
      "outputs": []
    },
    {
      "cell_type": "code",
      "metadata": {
        "id": "QlsuhE75SXyl",
        "colab": {
          "base_uri": "https://localhost:8080/"
        },
        "outputId": "df54538f-fba3-4cea-809f-aac03753fe21"
      },
      "source": [
        "traindf=pd.DataFrame(train16)\n",
        "testdf=pd.DataFrame(test16)\n",
        "y=traindf[\"y\"].astype('category')\n",
        "y_category = y.cat.categories\n",
        "\n",
        "x=traindf[[\"x\"]]\n",
        "x=stats.add_constant(x,prepend=True)\n",
        "\n",
        "logit= stats.MNLogit(y,x)\n",
        "thisFit = logit.fit(method=\"newton\",full_output=True, Maxiter=100,tol=1e-8)\n",
        "print(thisFit.summary())"
      ],
      "execution_count": null,
      "outputs": [
        {
          "output_type": "stream",
          "text": [
            "Optimization terminated successfully.\n",
            "         Current function value: 0.380497\n",
            "         Iterations 7\n",
            "                          MNLogit Regression Results                          \n",
            "==============================================================================\n",
            "Dep. Variable:                      y   No. Observations:                   20\n",
            "Model:                        MNLogit   Df Residuals:                       18\n",
            "Method:                           MLE   Df Model:                            1\n",
            "Date:                Thu, 11 Mar 2021   Pseudo R-squ.:                  0.3771\n",
            "Time:                        11:44:13   Log-Likelihood:                -7.6099\n",
            "converged:                       True   LL-Null:                       -12.217\n",
            "Covariance Type:            nonrobust   LLR p-value:                  0.002401\n",
            "==============================================================================\n",
            "       y=1       coef    std err          z      P>|z|      [0.025      0.975]\n",
            "------------------------------------------------------------------------------\n",
            "const         -4.5047      2.000     -2.253      0.024      -8.424      -0.586\n",
            "x              1.4675      0.668      2.197      0.028       0.158       2.777\n",
            "==============================================================================\n"
          ],
          "name": "stdout"
        }
      ]
    },
    {
      "cell_type": "code",
      "metadata": {
        "id": "bg3VqsagSZSg",
        "colab": {
          "base_uri": "https://localhost:8080/"
        },
        "outputId": "845e6eb0-dc68-4c79-89bf-1bf5178953f8"
      },
      "source": [
        "test_x = testdf[[\"x\"]]\n",
        "test_x=stats.add_constant(test_x,prepend=True)\n",
        "y_predProb = thisFit.predict(test_x)\n",
        "print(y_predProb)"
      ],
      "execution_count": null,
      "outputs": [
        {
          "output_type": "stream",
          "text": [
            "          0         1\n",
            "0  0.989064  0.010936\n",
            "1  0.954229  0.045771\n",
            "2  0.827752  0.172248\n",
            "3  0.525554  0.474446\n",
            "4  0.203402  0.796598\n"
          ],
          "name": "stdout"
        }
      ]
    },
    {
      "cell_type": "code",
      "metadata": {
        "colab": {
          "resources": {
            "http://localhost:8080/nbextensions/google.colab/files.js": {
              "data": "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",
              "ok": true,
              "headers": [
                [
                  "content-type",
                  "application/javascript"
                ]
              ],
              "status": 200,
              "status_text": ""
            }
          },
          "base_uri": "https://localhost:8080/",
          "height": 470
        },
        "id": "XJmfHhf5VvyC",
        "outputId": "1ab8d98c-2c95-4dff-822b-5a7f95c586da"
      },
      "source": [
        "\n",
        "uploaded = files.upload()\n",
        "data2= pd.read_csv(io.BytesIO(uploaded['ChicagoCompletedPotHole.csv']))\n",
        "#q17-18\n",
        "data2= data2[['N_POTHOLES_FILLED_ON_BLOCK','N_DAYS_FOR_COMPLETION','LATITUDE','LONGITUDE']]\n",
        "data2[[\"N_POTHOLES_FILLED_ON_BLOCK\"]]=numpy.log(data2[[\"N_POTHOLES_FILLED_ON_BLOCK\"]])\n",
        "data2[[\"N_DAYS_FOR_COMPLETION\"]]=numpy.log(1+data2[[\"N_DAYS_FOR_COMPLETION\"]])\n",
        "data2"
      ],
      "execution_count": null,
      "outputs": [
        {
          "output_type": "display_data",
          "data": {
            "text/html": [
              "\n",
              "     <input type=\"file\" id=\"files-78c1cb69-fac4-4069-bcc7-1d719d1a259e\" name=\"files[]\" multiple disabled\n",
              "        style=\"border:none\" />\n",
              "     <output id=\"result-78c1cb69-fac4-4069-bcc7-1d719d1a259e\">\n",
              "      Upload widget is only available when the cell has been executed in the\n",
              "      current browser session. Please rerun this cell to enable.\n",
              "      </output>\n",
              "      <script src=\"/nbextensions/google.colab/files.js\"></script> "
            ],
            "text/plain": [
              "<IPython.core.display.HTML object>"
            ]
          },
          "metadata": {
            "tags": []
          }
        },
        {
          "output_type": "stream",
          "text": [
            "Saving ChicagoCompletedPotHole.csv to ChicagoCompletedPotHole.csv\n"
          ],
          "name": "stdout"
        },
        {
          "output_type": "execute_result",
          "data": {
            "text/html": [
              "<div>\n",
              "<style scoped>\n",
              "    .dataframe tbody tr th:only-of-type {\n",
              "        vertical-align: middle;\n",
              "    }\n",
              "\n",
              "    .dataframe tbody tr th {\n",
              "        vertical-align: top;\n",
              "    }\n",
              "\n",
              "    .dataframe thead th {\n",
              "        text-align: right;\n",
              "    }\n",
              "</style>\n",
              "<table border=\"1\" class=\"dataframe\">\n",
              "  <thead>\n",
              "    <tr style=\"text-align: right;\">\n",
              "      <th></th>\n",
              "      <th>N_POTHOLES_FILLED_ON_BLOCK</th>\n",
              "      <th>N_DAYS_FOR_COMPLETION</th>\n",
              "      <th>LATITUDE</th>\n",
              "      <th>LONGITUDE</th>\n",
              "    </tr>\n",
              "  </thead>\n",
              "  <tbody>\n",
              "    <tr>\n",
              "      <th>0</th>\n",
              "      <td>2.484907</td>\n",
              "      <td>0.693147</td>\n",
              "      <td>41.928307</td>\n",
              "      <td>-87.681971</td>\n",
              "    </tr>\n",
              "    <tr>\n",
              "      <th>1</th>\n",
              "      <td>2.833213</td>\n",
              "      <td>0.693147</td>\n",
              "      <td>41.763367</td>\n",
              "      <td>-87.700190</td>\n",
              "    </tr>\n",
              "    <tr>\n",
              "      <th>2</th>\n",
              "      <td>3.688879</td>\n",
              "      <td>0.693147</td>\n",
              "      <td>41.762503</td>\n",
              "      <td>-87.700460</td>\n",
              "    </tr>\n",
              "    <tr>\n",
              "      <th>3</th>\n",
              "      <td>3.610918</td>\n",
              "      <td>0.693147</td>\n",
              "      <td>41.795090</td>\n",
              "      <td>-87.586359</td>\n",
              "    </tr>\n",
              "    <tr>\n",
              "      <th>4</th>\n",
              "      <td>0.693147</td>\n",
              "      <td>0.000000</td>\n",
              "      <td>41.949208</td>\n",
              "      <td>-87.728091</td>\n",
              "    </tr>\n",
              "    <tr>\n",
              "      <th>...</th>\n",
              "      <td>...</td>\n",
              "      <td>...</td>\n",
              "      <td>...</td>\n",
              "      <td>...</td>\n",
              "    </tr>\n",
              "    <tr>\n",
              "      <th>17907</th>\n",
              "      <td>1.945910</td>\n",
              "      <td>3.401197</td>\n",
              "      <td>41.880145</td>\n",
              "      <td>-87.664531</td>\n",
              "    </tr>\n",
              "    <tr>\n",
              "      <th>17908</th>\n",
              "      <td>1.791759</td>\n",
              "      <td>3.258097</td>\n",
              "      <td>41.886026</td>\n",
              "      <td>-87.755126</td>\n",
              "    </tr>\n",
              "    <tr>\n",
              "      <th>17909</th>\n",
              "      <td>1.098612</td>\n",
              "      <td>3.178054</td>\n",
              "      <td>41.874958</td>\n",
              "      <td>-87.754786</td>\n",
              "    </tr>\n",
              "    <tr>\n",
              "      <th>17910</th>\n",
              "      <td>2.397895</td>\n",
              "      <td>3.663562</td>\n",
              "      <td>41.879804</td>\n",
              "      <td>-87.666897</td>\n",
              "    </tr>\n",
              "    <tr>\n",
              "      <th>17911</th>\n",
              "      <td>4.127134</td>\n",
              "      <td>4.043051</td>\n",
              "      <td>41.678537</td>\n",
              "      <td>-87.601114</td>\n",
              "    </tr>\n",
              "  </tbody>\n",
              "</table>\n",
              "<p>17912 rows × 4 columns</p>\n",
              "</div>"
            ],
            "text/plain": [
              "       N_POTHOLES_FILLED_ON_BLOCK  N_DAYS_FOR_COMPLETION   LATITUDE  LONGITUDE\n",
              "0                        2.484907               0.693147  41.928307 -87.681971\n",
              "1                        2.833213               0.693147  41.763367 -87.700190\n",
              "2                        3.688879               0.693147  41.762503 -87.700460\n",
              "3                        3.610918               0.693147  41.795090 -87.586359\n",
              "4                        0.693147               0.000000  41.949208 -87.728091\n",
              "...                           ...                    ...        ...        ...\n",
              "17907                    1.945910               3.401197  41.880145 -87.664531\n",
              "17908                    1.791759               3.258097  41.886026 -87.755126\n",
              "17909                    1.098612               3.178054  41.874958 -87.754786\n",
              "17910                    2.397895               3.663562  41.879804 -87.666897\n",
              "17911                    4.127134               4.043051  41.678537 -87.601114\n",
              "\n",
              "[17912 rows x 4 columns]"
            ]
          },
          "metadata": {
            "tags": []
          },
          "execution_count": 8
        }
      ]
    },
    {
      "cell_type": "code",
      "metadata": {
        "colab": {
          "base_uri": "https://localhost:8080/"
        },
        "id": "wLMe3B5wWh5y",
        "outputId": "9efbc89b-9710-4885-fef9-92bce8bc04e6"
      },
      "source": [
        "# Determine the number of clusters using the Silhouette metrics\n",
        "nClusters = numpy.zeros(10)\n",
        "Elbow = numpy.zeros(10)\n",
        "Silhouette = numpy.zeros(10)\n",
        "nObs = data2.shape[0]\n",
        "\n",
        "for c in range(10):\n",
        "   KClusters = c + 1\n",
        "   nClusters[c] = KClusters\n",
        "\n",
        "   kmeans = cluster.KMeans(n_clusters=KClusters, random_state=20201014).fit(data2)\n",
        "\n",
        "   if (KClusters > 1):\n",
        "       Silhouette[c] = metrics.silhouette_score(data2, kmeans.labels_)\n",
        "\n",
        "   WCSS = numpy.zeros(KClusters)\n",
        "   nC = numpy.zeros(KClusters)\n",
        "\n",
        "   for i in range(nObs):\n",
        "      k = kmeans.labels_[i]\n",
        "      nC[k] += 1\n",
        "      diff = data2.iloc[i,] - kmeans.cluster_centers_[k]\n",
        "      WCSS[k] += diff.dot(diff)\n",
        "\n",
        "   Elbow[c] = 0\n",
        "   for k in range(KClusters):\n",
        "      Elbow[c] += WCSS[k] / nC[k]\n",
        "    \n",
        "print(\"Cluster Size  Elbow Value   Silhouette Value: \\n\")\n",
        "for c in range(10):\n",
        "   print(nClusters[c],\"   \", Elbow[c],\"   \", Silhouette[c])"
      ],
      "execution_count": null,
      "outputs": [
        {
          "output_type": "stream",
          "text": [
            "Cluster Size  Elbow Value   Silhouette Value: \n",
            "\n",
            "1.0     2.634715146308306     0.0\n",
            "2.0     3.1610220818837664     0.3938776204354808\n",
            "3.0     3.1037740102940647     0.3962796685338218\n",
            "4.0     2.7189805380518983     0.41228890153479497\n",
            "5.0     2.742168289991279     0.38269669407504364\n",
            "6.0     2.843090840313726     0.36546839519373603\n",
            "7.0     2.8313435544028884     0.3839208124264678\n",
            "8.0     2.919632998534888     0.3795093392936993\n",
            "9.0     2.896839923501064     0.3700952260244069\n",
            "10.0     2.9217189122495766     0.37616272705823334\n"
          ],
          "name": "stdout"
        }
      ]
    },
    {
      "cell_type": "code",
      "metadata": {
        "colab": {
          "base_uri": "https://localhost:8080/",
          "height": 294
        },
        "id": "VIL294p6X73i",
        "outputId": "e628efd7-8133-4b66-949d-2aba22c9c9fe"
      },
      "source": [
        "# Plot the Silhouette metrics versus the number of clusters\n",
        "plt.plot(nClusters, Silhouette, linewidth = 2, marker = 'o')\n",
        "plt.xticks(range(1,16,1))\n",
        "plt.grid(True)\n",
        "plt.xlabel(\"Number of Clusters\")\n",
        "plt.ylabel(\"Silhouette Value\")\n",
        "plt.title(\"Silhouette plot\")\n",
        "plt.show()"
      ],
      "execution_count": null,
      "outputs": [
        {
          "output_type": "display_data",
          "data": {
            "image/png": "[encoded data removed]",
            "text/plain": [
              "<Figure size 432x288 with 1 Axes>"
            ]
          },
          "metadata": {
            "tags": [],
            "needs_background": "light"
          }
        }
      ]
    },
    {
      "cell_type": "code",
      "metadata": {
        "colab": {
          "base_uri": "https://localhost:8080/",
          "height": 294
        },
        "id": "XhRlAvWMYEqK",
        "outputId": "abc71d05-eb96-4a21-ceb2-8fda5f454049"
      },
      "source": [
        "plt.plot(nClusters, Elbow, linewidth = 2, marker = 'o')\n",
        "plt.xticks(range(1,16,1))\n",
        "plt.grid(True)\n",
        "plt.xlabel(\"Number of Clusters\")\n",
        "plt.ylabel(\"Elbow Value\")\n",
        "plt.title(\"Elbow plot\")\n",
        "plt.show()\n"
      ],
      "execution_count": null,
      "outputs": [
        {
          "output_type": "display_data",
          "data": {
            "image/png": "[encoded data removed]",
            "text/plain": [
              "<Figure size 432x288 with 1 Axes>"
            ]
          },
          "metadata": {
            "tags": [],
            "needs_background": "light"
          }
        }
      ]
    },
    {
      "cell_type": "code",
      "metadata": {
        "colab": {
          "base_uri": "https://localhost:8080/"
        },
        "id": "ywrtd3A3edoa",
        "outputId": "15c4d1a3-5507-4e27-caa2-4b1b77621eab"
      },
      "source": [
        "#q18\n",
        "davies_bouldin = numpy.zeros(10)\n",
        "for c in range(10):\n",
        "    KClusters = c + 1\n",
        "    nClusters[c] = KClusters\n",
        "    kmeans = cluster.KMeans(n_clusters=KClusters, random_state=20201014).fit(data2)\n",
        "    if (KClusters > 1):\n",
        "       davies_bouldin[c] = metrics.davies_bouldin_score(data2, kmeans.labels_)\n",
        "print(\"Cluster Size  davies bouldin score\\n\")\n",
        "for c in range(10):\n",
        "   print(nClusters[c],\"         \", davies_bouldin[c],)"
      ],
      "execution_count": null,
      "outputs": [
        {
          "output_type": "stream",
          "text": [
            "Cluster Size  davies bouldin score\n",
            "\n",
            "1.0           0.0\n",
            "2.0           1.0800113624717425\n",
            "3.0           0.8661152806612696\n",
            "4.0           0.7891076057533573\n",
            "5.0           0.8506266441837786\n",
            "6.0           0.9325443787931142\n",
            "7.0           0.8161582731104066\n",
            "8.0           0.8381851531778952\n",
            "9.0           0.8543755930824053\n",
            "10.0           0.8437194618728514\n"
          ],
          "name": "stdout"
        }
      ]
    },
    {
      "cell_type": "code",
      "metadata": {
        "colab": {
          "resources": {
            "http://localhost:8080/nbextensions/google.colab/files.js": {
              "data": "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",
              "ok": true,
              "headers": [
                [
                  "content-type",
                  "application/javascript"
                ]
              ],
              "status": 200,
              "status_text": ""
            }
          },
          "base_uri": "https://localhost:8080/",
          "height": 72
        },
        "id": "V5maZjSPjNMD",
        "outputId": "3bce0691-0910-4982-91e6-f52cea83a6b6"
      },
      "source": [
        "#q19-20\n",
        "\n",
        "uploaded = files.upload()\n",
        "data3= pd.read_csv(io.BytesIO(uploaded['policy_2001.csv']))\n",
        "data3 = data3[[\"CLAIM_FLAG\",\"CREDIT_SCORE_BAND\",\"BLUEBOOK_1000\",\"CUST_LOYALTY\",\"MVR_PTS\",\"TIF\",\"TRAVTIME\"]]\n",
        "\n",
        "Y3 = data3[[\"CLAIM_FLAG\"]].astype('category')\n",
        "\n",
        "catFeature = ['CREDIT_SCORE_BAND']\n",
        "contFeature = ['BLUEBOOK_1000', 'CUST_LOYALTY', 'MVR_PTS', 'TIF', 'TRAVTIME']\n",
        "allFeature = catFeature + contFeature\n",
        "\n",
        "catTarget = 'CLAIM_FLAG'\n",
        "\n",
        "contMean = data3[[catTarget] + contFeature].groupby(catTarget).mean()\n",
        "\n",
        "allCombResult = pd.DataFrame()\n",
        "\n",
        "allComb = []\n",
        "for r in range(len(allFeature)+1):\n",
        "   allComb = allComb + list(combinations(allFeature, r))\n",
        "\n"
      ],
      "execution_count": null,
      "outputs": [
        {
          "output_type": "display_data",
          "data": {
            "text/html": [
              "\n",
              "     <input type=\"file\" id=\"files-e2d67208-ee94-479a-9688-19a902d9d5dc\" name=\"files[]\" multiple disabled\n",
              "        style=\"border:none\" />\n",
              "     <output id=\"result-e2d67208-ee94-479a-9688-19a902d9d5dc\">\n",
              "      Upload widget is only available when the cell has been executed in the\n",
              "      current browser session. Please rerun this cell to enable.\n",
              "      </output>\n",
              "      <script src=\"/nbextensions/google.colab/files.js\"></script> "
            ],
            "text/plain": [
              "<IPython.core.display.HTML object>"
            ]
          },
          "metadata": {
            "tags": []
          }
        },
        {
          "output_type": "stream",
          "text": [
            "Saving policy_2001.csv to policy_2001.csv\n"
          ],
          "name": "stdout"
        }
      ]
    },
    {
      "cell_type": "code",
      "metadata": {
        "id": "N40PAvy0nrTK"
      },
      "source": [
        "def SWEEPOperator (pDim, inputM, tol):\n",
        "    # pDim: dimension of matrix inputM, integer greater than one\n",
        "    # inputM: a square and symmetric matrix, numpy array\n",
        "    # tol: singularity tolerance, positive real\n",
        "\n",
        "    aliasParam = []\n",
        "    nonAliasParam = []\n",
        "    \n",
        "    A = numpy.copy(inputM)\n",
        "    diagA = numpy.diagonal(inputM)\n",
        "\n",
        "    for k in range(pDim):\n",
        "        Akk = A[k,k]\n",
        "        if (Akk >= (tol * diagA[k])):\n",
        "            nonAliasParam.append(k)\n",
        "            ANext = A - numpy.outer(A[:, k], A[k, :]) / Akk\n",
        "            ANext[:, k] = A[:, k] / Akk\n",
        "            ANext[k, :] = ANext[:, k]\n",
        "            ANext[k, k] = -1.0 / Akk\n",
        "        else:\n",
        "            aliasParam.append(k)\n",
        "            ANext[:,k] = numpy.zeros(pDim)\n",
        "            ANext[k, :] = numpy.zeros(pDim)\n",
        "        A = ANext\n",
        "    return (A, aliasParam, nonAliasParam)"
      ],
      "execution_count": null,
      "outputs": []
    },
    {
      "cell_type": "code",
      "metadata": {
        "colab": {
          "base_uri": "https://localhost:8080/"
        },
        "id": "ChdUNwkEll7A",
        "outputId": "3f6ab539-8848-4baf-ac6e-63b78379cb95"
      },
      "source": [
        "\n",
        "import statsmodels.api as smodel\n",
        "nComb = len(allComb)\n",
        "for r in range(nComb):\n",
        "   modelTerm = list(allComb[r])\n",
        "   trainData = data3[[catTarget] + modelTerm].dropna()\n",
        "   Y = trainData[catTarget].astype('category')\n",
        "\n",
        "   fullX = smodel.add_constant(trainData, prepend = True)\n",
        "   fullX = fullX[['const']]\n",
        "   for pred in modelTerm:\n",
        "      if (pred in catFeature):\n",
        "         fullX = fullX.join(pd.get_dummies(trainData[pred].astype('category')))\n",
        "      elif (pred in contFeature):\n",
        "         fullX = fullX.join(trainData[pred])\n",
        "\n",
        "   XtX = numpy.transpose(fullX).dot(fullX)             # The SSCP matrix\n",
        "   pDim = XtX.shape[0]\n",
        "\n",
        "   invXtX, aliasParam, nonAliasParam = SWEEPOperator(pDim, XtX, 1.0e-8)\n",
        "\n",
        "   # The number of free parameters\n",
        "   modelX = fullX.iloc[:, list(nonAliasParam)]\n",
        "   objLogit = smodel.MNLogit(Y, modelX)\n",
        "   thisFit = objLogit.fit(method = 'ncg', maxiter = 200, tol = 1e-8)\n",
        "\n",
        "   MDF = (thisFit.J - 1) * thisFit.K\n",
        "   LLK = thisFit.llf\n",
        "\n",
        "   NSample = len(Y)\n",
        "   AIC = 2.0 * MDF - 2.0 * LLK\n",
        "   BIC = MDF * numpy.log(NSample) - 2.0 * LLK\n",
        "   allCombResult = allCombResult.append([[r, modelTerm, len(modelTerm), LLK, MDF, AIC, BIC, NSample]],\n",
        "                                          ignore_index = True)\n",
        "   del objLogit"
      ],
      "execution_count": null,
      "outputs": [
        {
          "output_type": "stream",
          "text": [
            "Optimization terminated successfully.\n",
            "         Current function value: 0.599327\n",
            "         Iterations: 4\n",
            "         Function evaluations: 5\n",
            "         Gradient evaluations: 8\n",
            "         Hessian evaluations: 4\n",
            "Optimization terminated successfully.\n",
            "         Current function value: 0.599299\n",
            "         Iterations: 5\n",
            "         Function evaluations: 6\n",
            "         Gradient evaluations: 10\n",
            "         Hessian evaluations: 5\n",
            "Optimization terminated successfully.\n",
            "         Current function value: 0.595445\n",
            "         Iterations: 8\n",
            "         Function evaluations: 9\n",
            "         Gradient evaluations: 16\n",
            "         Hessian evaluations: 8\n",
            "Optimization terminated successfully.\n",
            "         Current function value: 0.597491\n",
            "         Iterations: 7\n",
            "         Function evaluations: 8\n",
            "         Gradient evaluations: 14\n",
            "         Hessian evaluations: 7\n",
            "Optimization terminated successfully.\n",
            "         Current function value: 0.579960\n",
            "         Iterations: 4\n",
            "         Function evaluations: 5\n",
            "         Gradient evaluations: 8\n",
            "         Hessian evaluations: 4\n",
            "Optimization terminated successfully.\n",
            "         Current function value: 0.599233\n",
            "         Iterations: 3\n",
            "         Function evaluations: 4\n",
            "         Gradient evaluations: 6\n",
            "         Hessian evaluations: 3\n",
            "Optimization terminated successfully.\n",
            "         Current function value: 0.595398\n",
            "         Iterations: 11\n",
            "         Function evaluations: 16\n",
            "         Gradient evaluations: 26\n",
            "         Hessian evaluations: 11\n",
            "Optimization terminated successfully.\n",
            "         Current function value: 0.595374\n",
            "         Iterations: 8\n",
            "         Function evaluations: 9\n",
            "         Gradient evaluations: 16\n",
            "         Hessian evaluations: 8\n",
            "Optimization terminated successfully.\n",
            "         Current function value: 0.597448\n",
            "         Iterations: 6\n",
            "         Function evaluations: 7\n",
            "         Gradient evaluations: 12\n",
            "         Hessian evaluations: 6\n",
            "Optimization terminated successfully.\n",
            "         Current function value: 0.579747\n",
            "         Iterations: 5\n",
            "         Function evaluations: 6\n",
            "         Gradient evaluations: 10\n",
            "         Hessian evaluations: 5\n",
            "Optimization terminated successfully.\n",
            "         Current function value: 0.599093\n",
            "         Iterations: 10\n",
            "         Function evaluations: 12\n",
            "         Gradient evaluations: 21\n",
            "         Hessian evaluations: 10\n",
            "Optimization terminated successfully.\n",
            "         Current function value: 0.595372\n",
            "         Iterations: 13\n",
            "         Function evaluations: 21\n",
            "         Gradient evaluations: 33\n",
            "         Hessian evaluations: 13\n",
            "Optimization terminated successfully.\n",
            "         Current function value: 0.593601\n",
            "         Iterations: 10\n",
            "         Function evaluations: 11\n",
            "         Gradient evaluations: 20\n",
            "         Hessian evaluations: 10\n",
            "Optimization terminated successfully.\n",
            "         Current function value: 0.577017\n",
            "         Iterations: 12\n",
            "         Function evaluations: 13\n",
            "         Gradient evaluations: 24\n",
            "         Hessian evaluations: 12\n",
            "Optimization terminated successfully.\n",
            "         Current function value: 0.595198\n",
            "         Iterations: 12\n",
            "         Function evaluations: 15\n",
            "         Gradient evaluations: 26\n",
            "         Hessian evaluations: 12\n",
            "Optimization terminated successfully.\n",
            "         Current function value: 0.591231\n",
            "         Iterations: 11\n",
            "         Function evaluations: 16\n",
            "         Gradient evaluations: 26\n",
            "         Hessian evaluations: 11\n",
            "Warning: Desired error not necessarily achieved due to precision loss.\n",
            "         Current function value: 0.578406\n",
            "         Iterations: 5\n",
            "         Function evaluations: 92\n",
            "         Gradient evaluations: 85\n",
            "         Hessian evaluations: 6\n",
            "Optimization terminated successfully.\n",
            "         Current function value: 0.597433\n",
            "         Iterations: 6\n",
            "         Function evaluations: 7\n",
            "         Gradient evaluations: 12\n",
            "         Hessian evaluations: 6\n"
          ],
          "name": "stdout"
        },
        {
          "output_type": "stream",
          "text": [
            "/usr/local/lib/python3.7/dist-packages/statsmodels/base/model.py:512: ConvergenceWarning: Maximum Likelihood optimization failed to converge. Check mle_retvals\n",
            "  \"Check mle_retvals\", ConvergenceWarning)\n"
          ],
          "name": "stderr"
        },
        {
          "output_type": "stream",
          "text": [
            "Optimization terminated successfully.\n",
            "         Current function value: 0.593796\n",
            "         Iterations: 10\n",
            "         Function evaluations: 14\n",
            "         Gradient evaluations: 23\n",
            "         Hessian evaluations: 10\n",
            "Optimization terminated successfully.\n",
            "         Current function value: 0.579943\n",
            "         Iterations: 10\n",
            "         Function evaluations: 14\n",
            "         Gradient evaluations: 23\n",
            "         Hessian evaluations: 10\n",
            "Optimization terminated successfully.\n",
            "         Current function value: 0.576036\n",
            "         Iterations: 10\n",
            "         Function evaluations: 13\n",
            "         Gradient evaluations: 22\n",
            "         Hessian evaluations: 10\n",
            "Optimization terminated successfully.\n",
            "         Current function value: 0.595111\n",
            "         Iterations: 7\n",
            "         Function evaluations: 10\n",
            "         Gradient evaluations: 16\n",
            "         Hessian evaluations: 7\n",
            "Optimization terminated successfully.\n",
            "         Current function value: 0.593495\n",
            "         Iterations: 9\n",
            "         Function evaluations: 10\n",
            "         Gradient evaluations: 18\n",
            "         Hessian evaluations: 9\n",
            "Optimization terminated successfully.\n",
            "         Current function value: 0.576831\n",
            "         Iterations: 11\n",
            "         Function evaluations: 12\n",
            "         Gradient evaluations: 22\n",
            "         Hessian evaluations: 11\n",
            "Optimization terminated successfully.\n",
            "         Current function value: 0.595383\n",
            "         Iterations: 6\n",
            "         Function evaluations: 7\n",
            "         Gradient evaluations: 12\n",
            "         Hessian evaluations: 6\n",
            "Optimization terminated successfully.\n",
            "         Current function value: 0.591140\n",
            "         Iterations: 11\n",
            "         Function evaluations: 14\n",
            "         Gradient evaluations: 24\n",
            "         Hessian evaluations: 11\n",
            "Optimization terminated successfully.\n",
            "         Current function value: 0.578202\n",
            "         Iterations: 8\n",
            "         Function evaluations: 10\n",
            "         Gradient evaluations: 17\n",
            "         Hessian evaluations: 8\n",
            "Optimization terminated successfully.\n",
            "         Current function value: 0.597327\n",
            "         Iterations: 12\n",
            "         Function evaluations: 13\n",
            "         Gradient evaluations: 24\n",
            "         Hessian evaluations: 12\n",
            "Optimization terminated successfully.\n",
            "         Current function value: 0.593746\n",
            "         Iterations: 11\n",
            "         Function evaluations: 15\n",
            "         Gradient evaluations: 25\n",
            "         Hessian evaluations: 11\n",
            "Optimization terminated successfully.\n",
            "         Current function value: 0.579727\n",
            "         Iterations: 13\n",
            "         Function evaluations: 17\n",
            "         Gradient evaluations: 29\n",
            "         Hessian evaluations: 13\n",
            "Optimization terminated successfully.\n",
            "         Current function value: 0.575878\n",
            "         Iterations: 15\n",
            "         Function evaluations: 21\n",
            "         Gradient evaluations: 35\n",
            "         Hessian evaluations: 15\n",
            "Optimization terminated successfully.\n",
            "         Current function value: 0.595075\n",
            "         Iterations: 8\n",
            "         Function evaluations: 10\n",
            "         Gradient evaluations: 17\n",
            "         Hessian evaluations: 8\n",
            "Optimization terminated successfully.\n",
            "         Current function value: 0.575432\n",
            "         Iterations: 8\n",
            "         Function evaluations: 9\n",
            "         Gradient evaluations: 16\n",
            "         Hessian evaluations: 8\n",
            "Optimization terminated successfully.\n",
            "         Current function value: 0.593563\n",
            "         Iterations: 7\n",
            "         Function evaluations: 9\n",
            "         Gradient evaluations: 15\n",
            "         Hessian evaluations: 7\n",
            "Optimization terminated successfully.\n",
            "         Current function value: 0.589626\n",
            "         Iterations: 13\n",
            "         Function evaluations: 15\n",
            "         Gradient evaluations: 27\n",
            "         Hessian evaluations: 13\n",
            "Optimization terminated successfully.\n",
            "         Current function value: 0.576985\n",
            "         Iterations: 7\n",
            "         Function evaluations: 10\n",
            "         Gradient evaluations: 16\n",
            "         Hessian evaluations: 7\n",
            "Optimization terminated successfully.\n",
            "         Current function value: 0.572827\n",
            "         Iterations: 15\n",
            "         Function evaluations: 19\n",
            "         Gradient evaluations: 33\n",
            "         Hessian evaluations: 15\n",
            "Optimization terminated successfully.\n",
            "         Current function value: 0.590905\n",
            "         Iterations: 8\n",
            "         Function evaluations: 9\n",
            "         Gradient evaluations: 16\n",
            "         Hessian evaluations: 8\n",
            "Optimization terminated successfully.\n",
            "         Current function value: 0.578415\n",
            "         Iterations: 9\n",
            "         Function evaluations: 14\n",
            "         Gradient evaluations: 22\n",
            "         Hessian evaluations: 9\n",
            "Optimization terminated successfully.\n",
            "         Current function value: 0.574704\n",
            "         Iterations: 14\n",
            "         Function evaluations: 16\n",
            "         Gradient evaluations: 29\n",
            "         Hessian evaluations: 14\n",
            "Optimization terminated successfully.\n",
            "         Current function value: 0.593604\n",
            "         Iterations: 10\n",
            "         Function evaluations: 14\n",
            "         Gradient evaluations: 23\n",
            "         Hessian evaluations: 10\n",
            "Optimization terminated successfully.\n",
            "         Current function value: 0.575992\n",
            "         Iterations: 11\n",
            "         Function evaluations: 15\n",
            "         Gradient evaluations: 25\n",
            "         Hessian evaluations: 11\n",
            "Optimization terminated successfully.\n",
            "         Current function value: 0.575238\n",
            "         Iterations: 10\n",
            "         Function evaluations: 11\n",
            "         Gradient evaluations: 20\n",
            "         Hessian evaluations: 10\n",
            "Optimization terminated successfully.\n",
            "         Current function value: 0.593561\n",
            "         Iterations: 6\n",
            "         Function evaluations: 8\n",
            "         Gradient evaluations: 13\n",
            "         Hessian evaluations: 6\n",
            "Optimization terminated successfully.\n",
            "         Current function value: 0.589491\n",
            "         Iterations: 14\n",
            "         Function evaluations: 18\n",
            "         Gradient evaluations: 31\n",
            "         Hessian evaluations: 14\n",
            "Optimization terminated successfully.\n",
            "         Current function value: 0.576786\n",
            "         Iterations: 11\n",
            "         Function evaluations: 15\n",
            "         Gradient evaluations: 25\n",
            "         Hessian evaluations: 11\n",
            "Optimization terminated successfully.\n",
            "         Current function value: 0.572678\n",
            "         Iterations: 14\n",
            "         Function evaluations: 20\n",
            "         Gradient evaluations: 33\n",
            "         Hessian evaluations: 14\n",
            "Optimization terminated successfully.\n",
            "         Current function value: 0.590750\n",
            "         Iterations: 11\n",
            "         Function evaluations: 12\n",
            "         Gradient evaluations: 22\n",
            "         Hessian evaluations: 11\n",
            "Optimization terminated successfully.\n",
            "         Current function value: 0.578199\n",
            "         Iterations: 12\n",
            "         Function evaluations: 17\n",
            "         Gradient evaluations: 28\n",
            "         Hessian evaluations: 12\n",
            "Optimization terminated successfully.\n",
            "         Current function value: 0.574541\n",
            "         Iterations: 15\n",
            "         Function evaluations: 18\n",
            "         Gradient evaluations: 32\n",
            "         Hessian evaluations: 15\n",
            "Optimization terminated successfully.\n",
            "         Current function value: 0.593545\n",
            "         Iterations: 11\n",
            "         Function evaluations: 15\n",
            "         Gradient evaluations: 25\n",
            "         Hessian evaluations: 11\n",
            "Optimization terminated successfully.\n",
            "         Current function value: 0.575979\n",
            "         Iterations: 7\n",
            "         Function evaluations: 11\n",
            "         Gradient evaluations: 17\n",
            "         Hessian evaluations: 7\n",
            "Optimization terminated successfully.\n",
            "         Current function value: 0.575421\n",
            "         Iterations: 12\n",
            "         Function evaluations: 14\n",
            "         Gradient evaluations: 25\n",
            "         Hessian evaluations: 12\n",
            "Optimization terminated successfully.\n",
            "         Current function value: 0.571478\n",
            "         Iterations: 12\n",
            "         Function evaluations: 14\n",
            "         Gradient evaluations: 25\n",
            "         Hessian evaluations: 12\n",
            "Optimization terminated successfully.\n",
            "         Current function value: 0.589527\n",
            "         Iterations: 7\n",
            "         Function evaluations: 8\n",
            "         Gradient evaluations: 14\n",
            "         Hessian evaluations: 7\n",
            "Optimization terminated successfully.\n",
            "         Current function value: 0.572747\n",
            "         Iterations: 12\n",
            "         Function evaluations: 13\n",
            "         Gradient evaluations: 24\n",
            "         Hessian evaluations: 12\n",
            "Optimization terminated successfully.\n",
            "         Current function value: 0.574686\n",
            "         Iterations: 11\n",
            "         Function evaluations: 16\n",
            "         Gradient evaluations: 26\n",
            "         Hessian evaluations: 11\n",
            "Optimization terminated successfully.\n",
            "         Current function value: 0.575223\n",
            "         Iterations: 13\n",
            "         Function evaluations: 15\n",
            "         Gradient evaluations: 27\n",
            "         Hessian evaluations: 13\n",
            "Optimization terminated successfully.\n",
            "         Current function value: 0.571308\n",
            "         Iterations: 15\n",
            "         Function evaluations: 18\n",
            "         Gradient evaluations: 32\n",
            "         Hessian evaluations: 15\n",
            "Optimization terminated successfully.\n",
            "         Current function value: 0.589215\n",
            "         Iterations: 11\n",
            "         Function evaluations: 12\n",
            "         Gradient evaluations: 22\n",
            "         Hessian evaluations: 11\n",
            "Optimization terminated successfully.\n",
            "         Current function value: 0.572588\n",
            "         Iterations: 16\n",
            "         Function evaluations: 17\n",
            "         Gradient evaluations: 32\n",
            "         Hessian evaluations: 16\n",
            "Optimization terminated successfully.\n",
            "         Current function value: 0.574677\n",
            "         Iterations: 7\n",
            "         Function evaluations: 11\n",
            "         Gradient evaluations: 17\n",
            "         Hessian evaluations: 7\n",
            "Optimization terminated successfully.\n",
            "         Current function value: 0.571438\n",
            "         Iterations: 9\n",
            "         Function evaluations: 10\n",
            "         Gradient evaluations: 18\n",
            "         Hessian evaluations: 9\n",
            "Optimization terminated successfully.\n",
            "         Current function value: 0.571415\n",
            "         Iterations: 9\n",
            "         Function evaluations: 10\n",
            "         Gradient evaluations: 18\n",
            "         Hessian evaluations: 9\n"
          ],
          "name": "stdout"
        }
      ]
    },
    {
      "cell_type": "code",
      "metadata": {
        "colab": {
          "base_uri": "https://localhost:8080/",
          "height": 520
        },
        "id": "qWDxNEFvnOC1",
        "outputId": "27478f4b-36f7-4592-e579-06a1a310e0dc"
      },
      "source": [
        "allCombResult = allCombResult.rename(\n",
        "   columns = {0: 'Step', 1: 'Model Term', 2: 'Number of Terms',\n",
        "              3: 'Log-Likelihood', 4: 'Model Degree of Freedom',\n",
        "              5: 'Akaike Information Criterion', 6: 'Bayesian Information Criterion',\n",
        "              7: 'Sample Size'})\n",
        "allCombResult"
      ],
      "execution_count": null,
      "outputs": [
        {
          "output_type": "execute_result",
          "data": {
            "text/html": [
              "<div>\n",
              "<style scoped>\n",
              "    .dataframe tbody tr th:only-of-type {\n",
              "        vertical-align: middle;\n",
              "    }\n",
              "\n",
              "    .dataframe tbody tr th {\n",
              "        vertical-align: top;\n",
              "    }\n",
              "\n",
              "    .dataframe thead th {\n",
              "        text-align: right;\n",
              "    }\n",
              "</style>\n",
              "<table border=\"1\" class=\"dataframe\">\n",
              "  <thead>\n",
              "    <tr style=\"text-align: right;\">\n",
              "      <th></th>\n",
              "      <th>Step</th>\n",
              "      <th>Model Term</th>\n",
              "      <th>Number of Terms</th>\n",
              "      <th>Log-Likelihood</th>\n",
              "      <th>Model Degree of Freedom</th>\n",
              "      <th>Akaike Information Criterion</th>\n",
              "      <th>Bayesian Information Criterion</th>\n",
              "      <th>Sample Size</th>\n",
              "    </tr>\n",
              "  </thead>\n",
              "  <tbody>\n",
              "    <tr>\n",
              "      <th>0</th>\n",
              "      <td>0</td>\n",
              "      <td>[]</td>\n",
              "      <td>0</td>\n",
              "      <td>-369.784805</td>\n",
              "      <td>1</td>\n",
              "      <td>741.569610</td>\n",
              "      <td>745.994480</td>\n",
              "      <td>617</td>\n",
              "    </tr>\n",
              "    <tr>\n",
              "      <th>1</th>\n",
              "      <td>1</td>\n",
              "      <td>[CREDIT_SCORE_BAND]</td>\n",
              "      <td>1</td>\n",
              "      <td>-369.767468</td>\n",
              "      <td>4</td>\n",
              "      <td>747.534936</td>\n",
              "      <td>765.234413</td>\n",
              "      <td>617</td>\n",
              "    </tr>\n",
              "    <tr>\n",
              "      <th>2</th>\n",
              "      <td>2</td>\n",
              "      <td>[BLUEBOOK_1000]</td>\n",
              "      <td>1</td>\n",
              "      <td>-367.389649</td>\n",
              "      <td>2</td>\n",
              "      <td>738.779297</td>\n",
              "      <td>747.629035</td>\n",
              "      <td>617</td>\n",
              "    </tr>\n",
              "    <tr>\n",
              "      <th>3</th>\n",
              "      <td>3</td>\n",
              "      <td>[CUST_LOYALTY]</td>\n",
              "      <td>1</td>\n",
              "      <td>-368.652078</td>\n",
              "      <td>2</td>\n",
              "      <td>741.304156</td>\n",
              "      <td>750.153894</td>\n",
              "      <td>617</td>\n",
              "    </tr>\n",
              "    <tr>\n",
              "      <th>4</th>\n",
              "      <td>4</td>\n",
              "      <td>[MVR_PTS]</td>\n",
              "      <td>1</td>\n",
              "      <td>-357.835403</td>\n",
              "      <td>2</td>\n",
              "      <td>719.670805</td>\n",
              "      <td>728.520543</td>\n",
              "      <td>617</td>\n",
              "    </tr>\n",
              "    <tr>\n",
              "      <th>...</th>\n",
              "      <td>...</td>\n",
              "      <td>...</td>\n",
              "      <td>...</td>\n",
              "      <td>...</td>\n",
              "      <td>...</td>\n",
              "      <td>...</td>\n",
              "      <td>...</td>\n",
              "      <td>...</td>\n",
              "    </tr>\n",
              "    <tr>\n",
              "      <th>59</th>\n",
              "      <td>59</td>\n",
              "      <td>[CREDIT_SCORE_BAND, BLUEBOOK_1000, CUST_LOYALT...</td>\n",
              "      <td>5</td>\n",
              "      <td>-363.545456</td>\n",
              "      <td>8</td>\n",
              "      <td>743.090912</td>\n",
              "      <td>778.489864</td>\n",
              "      <td>617</td>\n",
              "    </tr>\n",
              "    <tr>\n",
              "      <th>60</th>\n",
              "      <td>60</td>\n",
              "      <td>[CREDIT_SCORE_BAND, BLUEBOOK_1000, MVR_PTS, TI...</td>\n",
              "      <td>5</td>\n",
              "      <td>-353.286721</td>\n",
              "      <td>8</td>\n",
              "      <td>722.573442</td>\n",
              "      <td>757.972395</td>\n",
              "      <td>617</td>\n",
              "    </tr>\n",
              "    <tr>\n",
              "      <th>61</th>\n",
              "      <td>61</td>\n",
              "      <td>[CREDIT_SCORE_BAND, CUST_LOYALTY, MVR_PTS, TIF...</td>\n",
              "      <td>5</td>\n",
              "      <td>-354.575723</td>\n",
              "      <td>8</td>\n",
              "      <td>725.151447</td>\n",
              "      <td>760.550399</td>\n",
              "      <td>617</td>\n",
              "    </tr>\n",
              "    <tr>\n",
              "      <th>62</th>\n",
              "      <td>62</td>\n",
              "      <td>[BLUEBOOK_1000, CUST_LOYALTY, MVR_PTS, TIF, TR...</td>\n",
              "      <td>5</td>\n",
              "      <td>-352.577525</td>\n",
              "      <td>6</td>\n",
              "      <td>717.155050</td>\n",
              "      <td>743.704264</td>\n",
              "      <td>617</td>\n",
              "    </tr>\n",
              "    <tr>\n",
              "      <th>63</th>\n",
              "      <td>63</td>\n",
              "      <td>[CREDIT_SCORE_BAND, BLUEBOOK_1000, CUST_LOYALT...</td>\n",
              "      <td>6</td>\n",
              "      <td>-352.563215</td>\n",
              "      <td>9</td>\n",
              "      <td>723.126430</td>\n",
              "      <td>762.950251</td>\n",
              "      <td>617</td>\n",
              "    </tr>\n",
              "  </tbody>\n",
              "</table>\n",
              "<p>64 rows × 8 columns</p>\n",
              "</div>"
            ],
            "text/plain": [
              "    Step  ... Sample Size\n",
              "0      0  ...         617\n",
              "1      1  ...         617\n",
              "2      2  ...         617\n",
              "3      3  ...         617\n",
              "4      4  ...         617\n",
              "..   ...  ...         ...\n",
              "59    59  ...         617\n",
              "60    60  ...         617\n",
              "61    61  ...         617\n",
              "62    62  ...         617\n",
              "63    63  ...         617\n",
              "\n",
              "[64 rows x 8 columns]"
            ]
          },
          "metadata": {
            "tags": []
          },
          "execution_count": 16
        }
      ]
    },
    {
      "cell_type": "code",
      "metadata": {
        "colab": {
          "base_uri": "https://localhost:8080/",
          "height": 520
        },
        "id": "8EjX-YaMGAOG",
        "outputId": "ae9e8185-ab0a-4efd-e4fb-cc42d33ece5d"
      },
      "source": [
        "allCombResult = allCombResult[[r, modelTerm, len(modelTerm), LLK, MDF, AIC, BIC, NSample]],\n",
        "                                          ignore_index = True)"
      ],
      "execution_count": null,
      "outputs": [
        {
          "output_type": "execute_result",
          "data": {
            "text/html": [
              "<div>\n",
              "<style scoped>\n",
              "    .dataframe tbody tr th:only-of-type {\n",
              "        vertical-align: middle;\n",
              "    }\n",
              "\n",
              "    .dataframe tbody tr th {\n",
              "        vertical-align: top;\n",
              "    }\n",
              "\n",
              "    .dataframe thead th {\n",
              "        text-align: right;\n",
              "    }\n",
              "</style>\n",
              "<table border=\"1\" class=\"dataframe\">\n",
              "  <thead>\n",
              "    <tr style=\"text-align: right;\">\n",
              "      <th></th>\n",
              "      <th>Step</th>\n",
              "      <th>Model Term</th>\n",
              "      <th>Number of Terms</th>\n",
              "      <th>Log-Likelihood</th>\n",
              "      <th>Model Degree of Freedom</th>\n",
              "      <th>Akaike Information Criterion</th>\n",
              "      <th>Bayesian Information Criterion</th>\n",
              "      <th>Sample Size</th>\n",
              "    </tr>\n",
              "  </thead>\n",
              "  <tbody>\n",
              "    <tr>\n",
              "      <th>0</th>\n",
              "      <td>0</td>\n",
              "      <td>[]</td>\n",
              "      <td>0</td>\n",
              "      <td>-369.784805</td>\n",
              "      <td>1</td>\n",
              "      <td>741.569610</td>\n",
              "      <td>745.994480</td>\n",
              "      <td>617</td>\n",
              "    </tr>\n",
              "    <tr>\n",
              "      <th>1</th>\n",
              "      <td>1</td>\n",
              "      <td>[CREDIT_SCORE_BAND]</td>\n",
              "      <td>1</td>\n",
              "      <td>-369.767468</td>\n",
              "      <td>4</td>\n",
              "      <td>747.534936</td>\n",
              "      <td>765.234413</td>\n",
              "      <td>617</td>\n",
              "    </tr>\n",
              "    <tr>\n",
              "      <th>2</th>\n",
              "      <td>2</td>\n",
              "      <td>[BLUEBOOK_1000]</td>\n",
              "      <td>1</td>\n",
              "      <td>-367.389649</td>\n",
              "      <td>2</td>\n",
              "      <td>738.779297</td>\n",
              "      <td>747.629035</td>\n",
              "      <td>617</td>\n",
              "    </tr>\n",
              "    <tr>\n",
              "      <th>3</th>\n",
              "      <td>3</td>\n",
              "      <td>[CUST_LOYALTY]</td>\n",
              "      <td>1</td>\n",
              "      <td>-368.652078</td>\n",
              "      <td>2</td>\n",
              "      <td>741.304156</td>\n",
              "      <td>750.153894</td>\n",
              "      <td>617</td>\n",
              "    </tr>\n",
              "    <tr>\n",
              "      <th>4</th>\n",
              "      <td>4</td>\n",
              "      <td>[MVR_PTS]</td>\n",
              "      <td>1</td>\n",
              "      <td>-357.835403</td>\n",
              "      <td>2</td>\n",
              "      <td>719.670805</td>\n",
              "      <td>728.520543</td>\n",
              "      <td>617</td>\n",
              "    </tr>\n",
              "    <tr>\n",
              "      <th>...</th>\n",
              "      <td>...</td>\n",
              "      <td>...</td>\n",
              "      <td>...</td>\n",
              "      <td>...</td>\n",
              "      <td>...</td>\n",
              "      <td>...</td>\n",
              "      <td>...</td>\n",
              "      <td>...</td>\n",
              "    </tr>\n",
              "    <tr>\n",
              "      <th>59</th>\n",
              "      <td>59</td>\n",
              "      <td>[CREDIT_SCORE_BAND, BLUEBOOK_1000, CUST_LOYALT...</td>\n",
              "      <td>5</td>\n",
              "      <td>-363.545456</td>\n",
              "      <td>8</td>\n",
              "      <td>743.090912</td>\n",
              "      <td>778.489864</td>\n",
              "      <td>617</td>\n",
              "    </tr>\n",
              "    <tr>\n",
              "      <th>60</th>\n",
              "      <td>60</td>\n",
              "      <td>[CREDIT_SCORE_BAND, BLUEBOOK_1000, MVR_PTS, TI...</td>\n",
              "      <td>5</td>\n",
              "      <td>-353.286721</td>\n",
              "      <td>8</td>\n",
              "      <td>722.573442</td>\n",
              "      <td>757.972395</td>\n",
              "      <td>617</td>\n",
              "    </tr>\n",
              "    <tr>\n",
              "      <th>61</th>\n",
              "      <td>61</td>\n",
              "      <td>[CREDIT_SCORE_BAND, CUST_LOYALTY, MVR_PTS, TIF...</td>\n",
              "      <td>5</td>\n",
              "      <td>-354.575723</td>\n",
              "      <td>8</td>\n",
              "      <td>725.151447</td>\n",
              "      <td>760.550399</td>\n",
              "      <td>617</td>\n",
              "    </tr>\n",
              "    <tr>\n",
              "      <th>62</th>\n",
              "      <td>62</td>\n",
              "      <td>[BLUEBOOK_1000, CUST_LOYALTY, MVR_PTS, TIF, TR...</td>\n",
              "      <td>5</td>\n",
              "      <td>-352.577525</td>\n",
              "      <td>6</td>\n",
              "      <td>717.155050</td>\n",
              "      <td>743.704264</td>\n",
              "      <td>617</td>\n",
              "    </tr>\n",
              "    <tr>\n",
              "      <th>63</th>\n",
              "      <td>63</td>\n",
              "      <td>[CREDIT_SCORE_BAND, BLUEBOOK_1000, CUST_LOYALT...</td>\n",
              "      <td>6</td>\n",
              "      <td>-352.563215</td>\n",
              "      <td>9</td>\n",
              "      <td>723.126430</td>\n",
              "      <td>762.950251</td>\n",
              "      <td>617</td>\n",
              "    </tr>\n",
              "  </tbody>\n",
              "</table>\n",
              "<p>64 rows × 8 columns</p>\n",
              "</div>"
            ],
            "text/plain": [
              "    Step  ... Sample Size\n",
              "0      0  ...         617\n",
              "1      1  ...         617\n",
              "2      2  ...         617\n",
              "3      3  ...         617\n",
              "4      4  ...         617\n",
              "..   ...  ...         ...\n",
              "59    59  ...         617\n",
              "60    60  ...         617\n",
              "61    61  ...         617\n",
              "62    62  ...         617\n",
              "63    63  ...         617\n",
              "\n",
              "[64 rows x 8 columns]"
            ]
          },
          "metadata": {
            "tags": []
          },
          "execution_count": 17
        }
      ]
    },
    {
      "cell_type": "code",
      "metadata": {
        "colab": {
          "base_uri": "https://localhost:8080/"
        },
        "id": "7-qrOU8CJbDj",
        "outputId": "c54a7e81-d6b7-46db-b251-174911f99885"
      },
      "source": [
        "allCombResult[allCombResult['Akaike Information Criterion'] == min(aic['Akaike Information Criterion'])]['Model Term']"
      ],
      "execution_count": null,
      "outputs": [
        {
          "output_type": "execute_result",
          "data": {
            "text/plain": [
              "36    [BLUEBOOK_1000, MVR_PTS, TRAVTIME]\n",
              "Name: Model Term, dtype: object"
            ]
          },
          "metadata": {
            "tags": []
          },
          "execution_count": 36
        }
      ]
    },
    {
      "cell_type": "code",
      "metadata": {
        "colab": {
          "base_uri": "https://localhost:8080/"
        },
        "id": "_E5-vkQBp0nb",
        "outputId": "876bbebc-2f8f-4202-c4f1-0c3d054b267b"
      },
      "source": [
        "bic = allCombResult[allCombResult['Akaike Information Criterion'] == min(aic['Akaike Information Criterion'])]['Bayesian Information Criterion']\n",
        "\n",
        "bic"
      ],
      "execution_count": null,
      "outputs": [
        {
          "output_type": "execute_result",
          "data": {
            "text/plain": [
              "36    732.568322\n",
              "Name: Bayesian Information Criterion, dtype: float64"
            ]
          },
          "metadata": {
            "tags": []
          },
          "execution_count": 37
        }
      ]
    },
    {
      "cell_type": "code",
      "metadata": {
        "id": "KqUp3zpkOBAF"
      },
      "source": [
        ""
      ],
      "execution_count": null,
      "outputs": []
    }
  ]
}